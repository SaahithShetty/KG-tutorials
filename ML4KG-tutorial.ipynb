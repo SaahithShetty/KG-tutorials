{
 "cells": [
  {
   "cell_type": "markdown",
   "metadata": {},
   "source": [
    "\n",
    "# Knowledge Graphs and Semantic Technologies -- ML4KG Tutorial\n",
    "\n",
    "\n",
    "Import libraries"
   ]
  },
  {
   "cell_type": "code",
   "execution_count": 1,
   "metadata": {},
   "outputs": [],
   "source": [
    "# you need to install pykeen beforehand, see https://pykeen.readthedocs.io/en/stable/installation.html \n",
    "import os\n",
    "import numpy as np\n",
    "import pandas as pd\n",
    "import pykeen\n",
    "import seaborn"
   ]
  },
  {
   "cell_type": "markdown",
   "metadata": {},
   "source": [
    "# 1. Dataset exploration\n"
   ]
  },
  {
   "cell_type": "markdown",
   "metadata": {},
   "source": [
    "PyKeen comes with its own datasets that can be used directly in a pipeline.\n",
    "Below we import it so that we can explore it later."
   ]
  },
  {
   "cell_type": "code",
   "execution_count": 2,
   "metadata": {},
   "outputs": [
    {
     "name": "stderr",
     "output_type": "stream",
     "text": [
      "/opt/anaconda3/envs/KGST/lib/python3.10/site-packages/tqdm/auto.py:21: TqdmWarning: IProgress not found. Please update jupyter and ipywidgets. See https://ipywidgets.readthedocs.io/en/stable/user_install.html\n",
      "  from .autonotebook import tqdm as notebook_tqdm\n"
     ]
    }
   ],
   "source": [
    "from pykeen.datasets import Nations"
   ]
  },
  {
   "cell_type": "markdown",
   "metadata": {},
   "source": [
    "However, we want to be able tfo work with our own datasets as well, so we etch the online GoT dataset as well."
   ]
  },
  {
   "cell_type": "code",
   "execution_count": 3,
   "metadata": {},
   "outputs": [
    {
     "name": "stderr",
     "output_type": "stream",
     "text": [
      "Reconstructing all label-based triples. This is expensive and rarely needed.\n"
     ]
    },
    {
     "data": {
      "text/plain": [
       "array([['Abelar Hightower', 'ALLIED_WITH',\n",
       "        'House Hightower of the Hightower'],\n",
       "       ['Acorn Hall', 'SEAT_OF', 'House Smallwood of Acorn Hall'],\n",
       "       ['Addam Frey', 'ALLIED_WITH', 'House Frey of the Crossing'],\n",
       "       ['Addam Marbrand', 'ALLIED_WITH', 'House Marbrand of Ashemark'],\n",
       "       ['Addam Osgrey', 'ALLIED_WITH', 'House Osgrey of Standfast']],\n",
       "      dtype='<U44')"
      ]
     },
     "execution_count": 3,
     "metadata": {},
     "output_type": "execute_result"
    }
   ],
   "source": [
    "import requests\n",
    "from pykeen import triples\n",
    "from pykeen.datasets.nations import NATIONS_TRAIN_PATH\n",
    "url = 'https://ampligraph.s3-eu-west-1.amazonaws.com/datasets/GoT.csv'\n",
    "open('GoT.csv', 'wb').write(requests.get(url).content)\n",
    "\n",
    "# Format that can be read by a pd.from_csv should also be able to be read here, but the delimiter needs to be adjusted\n",
    "# PyKEEN uses tabs as defaults\n",
    "got = triples.TriplesFactory.from_path('GoT.csv',load_triples_kwargs=dict(delimiter=','))\n",
    "got_triples = got.triples\n",
    "got_triples[:5,]"
   ]
  },
  {
   "cell_type": "markdown",
   "metadata": {},
   "source": [
    "### Exercise 1\n",
    "\n",
    "List the unique subject and object entities found in the dataset. Then list all of the relationships that link the entities (note that some entities are not linked). Create an RDF version of the dataset, using your own namespaces, and save is as a ttl file. \n",
    "\n",
    "Using SPARQL, answer the following questions : \n",
    "1. How many instances per class? Use ORDER BY to show the most popular class\n",
    "2. What is the most common relation per each class?"
   ]
  },
  {
   "cell_type": "code",
   "execution_count": 5,
   "metadata": {},
   "outputs": [
    {
     "name": "stdout",
     "output_type": "stream",
     "text": [
      "Number of unique subjects: 2006\n",
      "Number of unique objects: 745\n",
      "Number of unique entities: 2050\n",
      "Number of unique relations: 10\n",
      "\n",
      "Unique relations:\n",
      "- ALLIED_WITH\n",
      "- BRANCH_OF\n",
      "- FOUNDED_BY\n",
      "- HEIR_TO\n",
      "- IN_REGION\n",
      "- LED_BY\n",
      "- PARENT_OF\n",
      "- SEAT_OF\n",
      "- SPOUSE\n",
      "- SWORN_TO\n",
      "Number of unique subjects: 2006\n",
      "Number of unique objects: 745\n",
      "Number of unique entities: 2050\n",
      "Number of unique relations: 10\n",
      "\n",
      "Unique relations:\n",
      "- ALLIED_WITH\n",
      "- BRANCH_OF\n",
      "- FOUNDED_BY\n",
      "- HEIR_TO\n",
      "- IN_REGION\n",
      "- LED_BY\n",
      "- PARENT_OF\n",
      "- SEAT_OF\n",
      "- SPOUSE\n",
      "- SWORN_TO\n",
      "Number of unique subjects: 2006\n",
      "Number of unique objects: 745\n",
      "Number of unique entities: 2050\n",
      "Number of unique relations: 10\n",
      "\n",
      "Unique relations:\n",
      "- ALLIED_WITH\n",
      "- BRANCH_OF\n",
      "- FOUNDED_BY\n",
      "- HEIR_TO\n",
      "- IN_REGION\n",
      "- LED_BY\n",
      "- PARENT_OF\n",
      "- SEAT_OF\n",
      "- SPOUSE\n",
      "- SWORN_TO\n",
      "Number of unique subjects: 2006\n",
      "Number of unique objects: 745\n",
      "Number of unique entities: 2050\n",
      "Number of unique relations: 10\n",
      "\n",
      "Unique relations:\n",
      "- ALLIED_WITH\n",
      "- BRANCH_OF\n",
      "- FOUNDED_BY\n",
      "- HEIR_TO\n",
      "- IN_REGION\n",
      "- LED_BY\n",
      "- PARENT_OF\n",
      "- SEAT_OF\n",
      "- SPOUSE\n",
      "- SWORN_TO\n",
      "\n",
      "RDF graph saved as got.ttl\n",
      "\n",
      "1. How many instances per class (relation)?\n",
      "Relation Count:\n",
      "ALLIED_WITH: 1517\n",
      "IN_REGION: 437\n",
      "SWORN_TO: 397\n",
      "SEAT_OF: 243\n",
      "SPOUSE: 198\n",
      "LED_BY: 179\n",
      "PARENT_OF: 60\n",
      "HEIR_TO: 59\n",
      "FOUNDED_BY: 43\n",
      "BRANCH_OF: 42\n",
      "\n",
      "2. Most common relation per entity:\n",
      "Most common relations:\n",
      "ALLIED_WITH: 1517\n",
      "IN_REGION: 437\n",
      "SWORN_TO: 397\n",
      "SEAT_OF: 243\n",
      "SPOUSE: 198\n",
      "LED_BY: 179\n",
      "PARENT_OF: 60\n",
      "HEIR_TO: 59\n",
      "FOUNDED_BY: 43\n",
      "BRANCH_OF: 42\n"
     ]
    }
   ],
   "source": [
    "### your code here\n",
    "GOT_RELATION = Namespace(\"http://example.org/got/relation/\")\n",
    "# Get unique subjects, objects, and entities\n",
    "unique_subjects = set(got_triples[:, 0])\n",
    "unique_objects = set(got_triples[:, 2])\n",
    "unique_entities = unique_subjects.union(unique_objects)\n",
    "\n",
    "# Get unique relations\n",
    "unique_relations = set(got_triples[:, 1])\n",
    "\n",
    "print(f\"Number of unique subjects: {len(unique_subjects)}\")\n",
    "print(f\"Number of unique objects: {len(unique_objects)}\")\n",
    "print(f\"Number of unique entities: {len(unique_entities)}\")\n",
    "print(f\"Number of unique relations: {len(unique_relations)}\")\n",
    "\n",
    "print(\"\\nUnique relations:\")\n",
    "for rel in sorted(unique_relations):\n",
    "    print(f\"- {rel}\")\n",
    "\n",
    "# Create RDF version using rdflib\n",
    "import rdflib\n",
    "from rdflib import Graph, Namespace, Literal, URIRef\n",
    "from rdflib.namespace import RDF, RDFS\n",
    "\n",
    "# Create a new graph\n",
    "g = Graph()\n",
    "\n",
    "# Define namespaces\n",
    "GOT = Namespace(\"http://example.org/got/\")\n",
    "GOT_ENTITY = Namespace(\"http://example.org/got/entity/\")\n",
    "# Get unique subjects, objects, and entities\n",
    "unique_subjects = set(got_triples[:, 0])\n",
    "unique_objects = set(got_triples[:, 2])\n",
    "unique_entities = unique_subjects.union(unique_objects)\n",
    "\n",
    "# Get unique relations\n",
    "unique_relations = set(got_triples[:, 1])\n",
    "\n",
    "print(f\"Number of unique subjects: {len(unique_subjects)}\")\n",
    "print(f\"Number of unique objects: {len(unique_objects)}\")\n",
    "print(f\"Number of unique entities: {len(unique_entities)}\")\n",
    "print(f\"Number of unique relations: {len(unique_relations)}\")\n",
    "\n",
    "print(\"\\nUnique relations:\")\n",
    "for rel in sorted(unique_relations):\n",
    "    print(f\"- {rel}\")\n",
    "\n",
    "# Create RDF version using rdflib\n",
    "import rdflib\n",
    "from rdflib import Graph, Namespace, Literal, URIRef\n",
    "from rdflib.namespace import RDF, RDFS\n",
    "\n",
    "# Create a new graph\n",
    "g = Graph()\n",
    "\n",
    "# Define namespaces\n",
    "GOT = Namespace(\"http://example.org/got/\")\n",
    "GOT_ENTITY = Namespace(\"http://example.org/got/entity/\")\n",
    "# Get unique subjects, objects, and entities\n",
    "unique_subjects = set(got_triples[:, 0])\n",
    "unique_objects = set(got_triples[:, 2])\n",
    "unique_entities = unique_subjects.union(unique_objects)\n",
    "\n",
    "# Get unique relations\n",
    "unique_relations = set(got_triples[:, 1])\n",
    "\n",
    "print(f\"Number of unique subjects: {len(unique_subjects)}\")\n",
    "print(f\"Number of unique objects: {len(unique_objects)}\")\n",
    "print(f\"Number of unique entities: {len(unique_entities)}\")\n",
    "print(f\"Number of unique relations: {len(unique_relations)}\")\n",
    "\n",
    "print(\"\\nUnique relations:\")\n",
    "for rel in sorted(unique_relations):\n",
    "    print(f\"- {rel}\")\n",
    "\n",
    "# Create RDF version using rdflib\n",
    "import rdflib\n",
    "from rdflib import Graph, Namespace, Literal, URIRef\n",
    "from rdflib.namespace import RDF, RDFS\n",
    "\n",
    "# Create a new graph\n",
    "g = Graph()\n",
    "\n",
    "# Define namespaces\n",
    "GOT = Namespace(\"http://example.org/got/\")\n",
    "GOT_ENTITY = Namespace(\"http://example.org/got/entity/\")\n",
    "# Get unique subjects, objects, and entities\n",
    "unique_subjects = set(got_triples[:, 0])\n",
    "unique_objects = set(got_triples[:, 2])\n",
    "unique_entities = unique_subjects.union(unique_objects)\n",
    "\n",
    "# Get unique relations\n",
    "unique_relations = set(got_triples[:, 1])\n",
    "\n",
    "print(f\"Number of unique subjects: {len(unique_subjects)}\")\n",
    "print(f\"Number of unique objects: {len(unique_objects)}\")\n",
    "print(f\"Number of unique entities: {len(unique_entities)}\")\n",
    "print(f\"Number of unique relations: {len(unique_relations)}\")\n",
    "\n",
    "print(\"\\nUnique relations:\")\n",
    "for rel in sorted(unique_relations):\n",
    "    print(f\"- {rel}\")\n",
    "\n",
    "# Create RDF version using rdflib\n",
    "import rdflib\n",
    "from rdflib import Graph, Namespace, Literal, URIRef\n",
    "from rdflib.namespace import RDF, RDFS\n",
    "\n",
    "# Create a new graph\n",
    "g = Graph()\n",
    "\n",
    "# Define namespaces\n",
    "GOT = Namespace(\"http://example.org/got/\")\n",
    "GOT_ENTITY = Namespace(\"http://example.org/got/entity/\")\n",
    "\n",
    "# Bind namespaces to prefixes for prettier output\n",
    "g.bind(\"got\", GOT)\n",
    "g.bind(\"got-entity\", GOT_ENTITY)\n",
    "g.bind(\"got-rel\", GOT_RELATION)\n",
    "\n",
    "# Add triples to the graph\n",
    "for triple in got_triples:\n",
    "    subject = GOT_ENTITY[triple[0].replace(\" \", \"_\")]\n",
    "    predicate = GOT_RELATION[triple[1]]\n",
    "    obj = GOT_ENTITY[triple[2].replace(\" \", \"_\")]\n",
    "    g.add((subject, predicate, obj))\n",
    "\n",
    "# Save as Turtle file\n",
    "g.serialize(destination=\"got.ttl\", format=\"turtle\")\n",
    "print(\"\\nRDF graph saved as got.ttl\")\n",
    "\n",
    "# SPARQL queries\n",
    "print(\"\\n1. How many instances per class (relation)?\")\n",
    "query1 = \"\"\"\n",
    "PREFIX got-rel: <http://example.org/got/relation/>\n",
    "\n",
    "SELECT ?relation (COUNT(*) as ?count)\n",
    "WHERE {\n",
    "  ?s ?relation ?o .\n",
    "}\n",
    "GROUP BY ?relation\n",
    "ORDER BY DESC(?count)\n",
    "\"\"\"\n",
    "\n",
    "results1 = g.query(query1)\n",
    "print(\"Relation Count:\")\n",
    "for row in results1:\n",
    "    rel = str(row[0]).replace(\"http://example.org/got/relation/\", \"\")\n",
    "    count = row[1]\n",
    "    print(f\"{rel}: {count}\")\n",
    "\n",
    "print(\"\\n2. Most common relation per entity:\")\n",
    "query2 = \"\"\"\n",
    "PREFIX got-entity: <http://example.org/got/entity/>\n",
    "\n",
    "SELECT ?entity (COUNT(?s) as ?subjectCount) (COUNT(?o) as ?objectCount)\n",
    "WHERE {\n",
    "  {\n",
    "    ?s ?p got-entity:?entity .\n",
    "    BIND(?s AS ?o)\n",
    "  }\n",
    "  UNION\n",
    "  {\n",
    "    got-entity:?entity ?p ?o .\n",
    "    BIND(?entity AS ?s)\n",
    "  }\n",
    "}\n",
    "GROUP BY ?entity\n",
    "ORDER BY DESC(?subjectCount) DESC(?objectCount)\n",
    "LIMIT 20\n",
    "\"\"\"\n",
    "\n",
    "# Since we don't have explicit class definitions in our ontology, we'll find the most common\n",
    "# relations for the top entities instead\n",
    "\n",
    "query3 = \"\"\"\n",
    "PREFIX got-entity: <http://example.org/got/entity/>\n",
    "PREFIX got-rel: <http://example.org/got/relation/>\n",
    "\n",
    "SELECT ?entity ?relation (COUNT(*) as ?count)\n",
    "WHERE {\n",
    "  {\n",
    "    ?entity got-rel:?relation ?o .\n",
    "  }\n",
    "  UNION\n",
    "  {\n",
    "    ?s got-rel:?relation ?entity .\n",
    "  }\n",
    "}\n",
    "GROUP BY ?entity ?relation\n",
    "ORDER BY ?entity DESC(?count)\n",
    "LIMIT 50\n",
    "\"\"\"\n",
    "\n",
    "# The query above might be too complex, so let's simplify to just get the most common relations\n",
    "\n",
    "query4 = \"\"\"\n",
    "PREFIX got-rel: <http://example.org/got/relation/>\n",
    "\n",
    "SELECT ?relation (COUNT(*) as ?count) \n",
    "WHERE { \n",
    "  ?s ?relation ?o . \n",
    "} \n",
    "GROUP BY ?relation \n",
    "ORDER BY DESC(?count)\n",
    "\"\"\"\n",
    "\n",
    "results4 = g.query(query4)\n",
    "print(\"Most common relations:\")\n",
    "for row in results4:\n",
    "    rel = str(row[0]).replace(\"http://example.org/got/relation/\", \"\")\n",
    "    count = row[1]\n",
    "    print(f\"{rel}: {count}\")"
   ]
  },
  {
   "cell_type": "markdown",
   "metadata": {},
   "source": [
    "# 2. Defining train and test datasets\n"
   ]
  },
  {
   "cell_type": "markdown",
   "metadata": {},
   "source": [
    "As is typical in machine learning, we need to split our dataset into training and test (and sometimes validation) datasets.\n",
    "\n",
    "What differs from the standard method of randomly sampling N points to make up our test set, is that our data points are two entities linked by some relationship, and we need to take care to ensure that all entities are represented in train and test sets by at least one triple.\n",
    "\n",
    "To accomplish this, PyKEEN provides the <b>pykeen.triples.TriplesFactory.split()</b> function, which defaults to an 80/20 split. It is also by default stratified, to ensure that the distribution of the test set corresponds to that of the training set. If you want to use early stopping, you will also need a validation set. The function takes a list of percentages as argument: if you want a 95/5 split you give it <b>[0.95,0.05]</b> as argument, if you want 90/5/5 (which would include a validation set as well) you give it <b>[0.9,0.05,0.05]</b> as argument and it will return 3 datasets.\n",
    "\n",
    "For sake of example, we will create a small test size that includes only 5% of triples. "
   ]
  },
  {
   "cell_type": "code",
   "execution_count": 6,
   "metadata": {},
   "outputs": [
    {
     "name": "stderr",
     "output_type": "stream",
     "text": [
      "using automatically assigned random_state=613853847\n",
      "Reconstructing all label-based triples. This is expensive and rarely needed.\n",
      "Reconstructing all label-based triples. This is expensive and rarely needed.\n"
     ]
    },
    {
     "name": "stdout",
     "output_type": "stream",
     "text": [
      "Train set size:  (3016, 3)\n",
      "Test set size:  (159, 3)\n"
     ]
    }
   ],
   "source": [
    "# got_training, got_testing = got.split()\n",
    "got_training, got_testing = got.split([0.95,0.05])\n",
    "\n",
    "print('Train set size: ', got_training.triples.shape)\n",
    "print('Test set size: ', got_testing.triples.shape)\n"
   ]
  },
  {
   "cell_type": "markdown",
   "metadata": {},
   "source": [
    "### Exercise 2\n",
    "\n",
    "Create three train-test sets of different sizes from the GoT data. Give them different names. Make sure the test set is not too big when compared to the training set (test set should be max 15% of the total dataset)."
   ]
  },
  {
   "cell_type": "code",
   "execution_count": 7,
   "metadata": {},
   "outputs": [
    {
     "name": "stderr",
     "output_type": "stream",
     "text": [
      "using automatically assigned random_state=933116983\n",
      "using automatically assigned random_state=1195039159\n",
      "using automatically assigned random_state=4163823425\n",
      "Reconstructing all label-based triples. This is expensive and rarely needed.\n",
      "Reconstructing all label-based triples. This is expensive and rarely needed.\n",
      "Reconstructing all label-based triples. This is expensive and rarely needed.\n",
      "Reconstructing all label-based triples. This is expensive and rarely needed.\n",
      "Reconstructing all label-based triples. This is expensive and rarely needed.\n",
      "Reconstructing all label-based triples. This is expensive and rarely needed.\n",
      "Reconstructing all label-based triples. This is expensive and rarely needed.\n",
      "Reconstructing all label-based triples. This is expensive and rarely needed.\n",
      "Reconstructing all label-based triples. This is expensive and rarely needed.\n",
      "Reconstructing all label-based triples. This is expensive and rarely needed.\n",
      "Reconstructing all label-based triples. This is expensive and rarely needed.\n",
      "Reconstructing all label-based triples. This is expensive and rarely needed.\n",
      "Reconstructing all label-based triples. This is expensive and rarely needed.\n",
      "Reconstructing all label-based triples. This is expensive and rarely needed.\n",
      "Reconstructing all label-based triples. This is expensive and rarely needed.\n",
      "Reconstructing all label-based triples. This is expensive and rarely needed.\n",
      "Reconstructing all label-based triples. This is expensive and rarely needed.\n",
      "Reconstructing all label-based triples. This is expensive and rarely needed.\n",
      "Reconstructing all label-based triples. This is expensive and rarely needed.\n",
      "Reconstructing all label-based triples. This is expensive and rarely needed.\n",
      "Reconstructing all label-based triples. This is expensive and rarely needed.\n",
      "Reconstructing all label-based triples. This is expensive and rarely needed.\n",
      "Reconstructing all label-based triples. This is expensive and rarely needed.\n",
      "Reconstructing all label-based triples. This is expensive and rarely needed.\n",
      "Reconstructing all label-based triples. This is expensive and rarely needed.\n",
      "Reconstructing all label-based triples. This is expensive and rarely needed.\n",
      "Reconstructing all label-based triples. This is expensive and rarely needed.\n"
     ]
    },
    {
     "name": "stdout",
     "output_type": "stream",
     "text": [
      "Dataset 1 (85/15 split):\n",
      "Training set size: 2698 triples\n",
      "Testing set size: 477 triples\n",
      "Testing percentage: 15.02%\n",
      "\n",
      "Dataset 2 (90/10 split):\n",
      "Training set size: 2857 triples\n",
      "Testing set size: 318 triples\n",
      "Testing percentage: 10.02%\n",
      "\n",
      "Dataset 3 (95/5 split):\n",
      "Training set size: 3016 triples\n",
      "Testing set size: 159 triples\n",
      "Testing percentage: 5.01%\n",
      "\n",
      "Entity coverage analysis for 85/15 split:\n",
      "Total unique entities in training: 2050\n",
      "Total unique entities in testing: 540\n",
      "All test entities present in training set: True\n",
      "Number of training entities not in test set: 1510\n",
      "\n",
      "Entity coverage analysis for 90/10 split:\n",
      "Total unique entities in training: 2050\n",
      "Total unique entities in testing: 418\n",
      "All test entities present in training set: True\n",
      "Number of training entities not in test set: 1632\n",
      "\n",
      "Entity coverage analysis for 95/5 split:\n",
      "Total unique entities in training: 2050\n",
      "Total unique entities in testing: 236\n",
      "All test entities present in training set: True\n",
      "Number of training entities not in test set: 1814\n"
     ]
    }
   ],
   "source": [
    "### your code here\n",
    "# Create three train-test sets with different split ratios\n",
    "# Set 1: 85% training, 15% testing\n",
    "got_training_85, got_testing_15 = got.split([0.85, 0.15])\n",
    "\n",
    "# Set 2: 90% training, 10% testing\n",
    "got_training_90, got_testing_10 = got.split([0.9, 0.1])\n",
    "\n",
    "# Set 3: 95% training, 5% testing (this one is already created in the notebook example)\n",
    "got_training_95, got_testing_5 = got.split([0.95, 0.05])\n",
    "\n",
    "# Print dataset sizes and percentages\n",
    "print(\"Dataset 1 (85/15 split):\")\n",
    "print(f\"Training set size: {got_training_85.triples.shape[0]} triples\")\n",
    "print(f\"Testing set size: {got_testing_15.triples.shape[0]} triples\")\n",
    "print(f\"Testing percentage: {got_testing_15.triples.shape[0] / (got_training_85.triples.shape[0] + got_testing_15.triples.shape[0]) * 100:.2f}%\")\n",
    "\n",
    "print(\"\\nDataset 2 (90/10 split):\")\n",
    "print(f\"Training set size: {got_training_90.triples.shape[0]} triples\")\n",
    "print(f\"Testing set size: {got_testing_10.triples.shape[0]} triples\")\n",
    "print(f\"Testing percentage: {got_testing_10.triples.shape[0] / (got_training_90.triples.shape[0] + got_testing_10.triples.shape[0]) * 100:.2f}%\")\n",
    "\n",
    "print(\"\\nDataset 3 (95/5 split):\")\n",
    "print(f\"Training set size: {got_training_95.triples.shape[0]} triples\")\n",
    "print(f\"Testing set size: {got_testing_5.triples.shape[0]} triples\")\n",
    "print(f\"Testing percentage: {got_testing_5.triples.shape[0] / (got_training_95.triples.shape[0] + got_testing_5.triples.shape[0]) * 100:.2f}%\")\n",
    "\n",
    "# Verify that all entities are represented in both training and testing sets\n",
    "def check_entity_coverage(training_set, testing_set):\n",
    "    # Get all entities in training set\n",
    "    train_subjects = set(training_set.triples[:, 0])\n",
    "    train_objects = set(training_set.triples[:, 2])\n",
    "    train_entities = train_subjects.union(train_objects)\n",
    "    \n",
    "    # Get all entities in testing set\n",
    "    test_subjects = set(testing_set.triples[:, 0])\n",
    "    test_objects = set(testing_set.triples[:, 2])\n",
    "    test_entities = test_subjects.union(test_objects)\n",
    "    \n",
    "    # Check if all test entities are in training set\n",
    "    all_test_in_train = test_entities.issubset(train_entities)\n",
    "    \n",
    "    # Check if all training entities are in test set (not usually expected)\n",
    "    missing_in_test = train_entities - test_entities\n",
    "    \n",
    "    print(f\"Total unique entities in training: {len(train_entities)}\")\n",
    "    print(f\"Total unique entities in testing: {len(test_entities)}\")\n",
    "    print(f\"All test entities present in training set: {all_test_in_train}\")\n",
    "    print(f\"Number of training entities not in test set: {len(missing_in_test)}\")\n",
    "\n",
    "print(\"\\nEntity coverage analysis for 85/15 split:\")\n",
    "check_entity_coverage(got_training_85, got_testing_15)\n",
    "\n",
    "print(\"\\nEntity coverage analysis for 90/10 split:\")\n",
    "check_entity_coverage(got_training_90, got_testing_10)\n",
    "\n",
    "print(\"\\nEntity coverage analysis for 95/5 split:\")\n",
    "check_entity_coverage(got_training_95, got_testing_5)"
   ]
  },
  {
   "cell_type": "markdown",
   "metadata": {},
   "source": [
    "# 3. Training and testing the model"
   ]
  },
  {
   "cell_type": "markdown",
   "metadata": {},
   "source": [
    "PyKEEN has implemented several Knoweldge Graph Embedding models (TransE, ComplEx, DistMult, HolE, etc.). We will use the ComplEx model with default values for this tutorial.\n",
    "\n",
    "You can find the list of all implemented models in the documentation: https://pykeen.readthedocs.io/en/stable/reference/models.html"
   ]
  },
  {
   "cell_type": "markdown",
   "metadata": {},
   "source": [
    "Importing a model and instantiate it:\n",
    "There are two ways to import and use a model, both are shown below and don't give different results but not importing the model before hand might cause the automatic importing to be slower, especially if you plan to use the same model multiple times."
   ]
  },
  {
   "cell_type": "code",
   "execution_count": 8,
   "metadata": {},
   "outputs": [
    {
     "name": "stderr",
     "output_type": "stream",
     "text": [
      "No cuda devices were available. The model runs on CPU\n",
      "Training epochs on cpu: 100%|██████████| 5/5 [00:01<00:00,  4.72epoch/s, loss=14.5, prev_loss=15.2]\n",
      "INFO:pykeen.evaluation.evaluator:Currently automatic memory optimization only supports GPUs, but you're using a CPU. Therefore, the batch_size will be set to the default value.\n",
      "INFO:pykeen.evaluation.evaluator:No evaluation batch_size provided. Setting batch_size to '32'.\n",
      "Evaluating on cpu: 100%|██████████| 159/159 [00:00<00:00, 698triple/s] \n",
      "INFO:pykeen.evaluation.evaluator:Evaluation took 0.24s seconds\n"
     ]
    },
    {
     "data": {
      "text/plain": [
       "<Axes: title={'center': 'Losses Plot'}, xlabel='Epoch', ylabel='marginranking Loss'>"
      ]
     },
     "execution_count": 8,
     "metadata": {},
     "output_type": "execute_result"
    },
    {
     "data": {
      "image/png": "[encoded data removed]",
      "text/plain": [
       "<Figure size 640x480 with 1 Axes>"
      ]
     },
     "metadata": {},
     "output_type": "display_data"
    }
   ],
   "source": [
    "# wee need the pipeline to run a model, so it is simpler to import it directly.\n",
    "# Pykeen lets you train a model with the minimal amount of custom parameters\n",
    "\n",
    "from pykeen.pipeline import pipeline\n",
    "\n",
    "# here we don't import the model, but let PyKEEN do the importing.\n",
    "pipeline_result_simple = pipeline(\n",
    "    random_seed=0,\n",
    "    model='ComplEx',\n",
    "    training=got_training,\n",
    "    testing=got_testing,\n",
    ")\n",
    "pipeline_result_simple.plot_losses()"
   ]
  },
  {
   "cell_type": "code",
   "execution_count": 9,
   "metadata": {},
   "outputs": [
    {
     "name": "stderr",
     "output_type": "stream",
     "text": [
      "WARNING:pykeen.utils:No cuda devices were available. The model runs on CPU\n",
      "INFO:pykeen.pipeline.api:Using device: None\n",
      "Training epochs on cpu: 100%|██████████| 5/5 [00:01<00:00,  4.68epoch/s, loss=14.5, prev_loss=15.2]\n",
      "INFO:pykeen.evaluation.evaluator:Currently automatic memory optimization only supports GPUs, but you're using a CPU. Therefore, the batch_size will be set to the default value.\n",
      "INFO:pykeen.evaluation.evaluator:No evaluation batch_size provided. Setting batch_size to '32'.\n",
      "Evaluating on cpu: 100%|██████████| 159/159 [00:00<00:00, 719triple/s] \n",
      "INFO:pykeen.evaluation.evaluator:Evaluation took 0.23s seconds\n"
     ]
    },
    {
     "data": {
      "text/plain": [
       "<Axes: title={'center': 'Losses Plot'}, xlabel='Epoch', ylabel='marginranking Loss'>"
      ]
     },
     "execution_count": 9,
     "metadata": {},
     "output_type": "execute_result"
    },
    {
     "data": {
      "image/png": "[encoded data removed]",
      "text/plain": [
       "<Figure size 640x480 with 1 Axes>"
      ]
     },
     "metadata": {},
     "output_type": "display_data"
    }
   ],
   "source": [
    "# here we import the model and use it directly.\n",
    "from pykeen.models import ComplEx\n",
    "\n",
    "pipeline_result_imported = pipeline(\n",
    "    random_seed=0,\n",
    "    model=ComplEx,\n",
    "    training=got_training,\n",
    "    testing=got_testing,\n",
    ")\n",
    "pipeline_result_imported.plot_losses()"
   ]
  },
  {
   "cell_type": "markdown",
   "metadata": {},
   "source": [
    "You can retrieve different metrics from the results. Here we retrieve the mean reciprocal rank (MRR). The result is the same for both the simple and imported model, because we used the same random seed (0)."
   ]
  },
  {
   "cell_type": "code",
   "execution_count": 10,
   "metadata": {},
   "outputs": [
    {
     "name": "stdout",
     "output_type": "stream",
     "text": [
      "0.003074997803196311\n",
      "0.003074997803196311\n"
     ]
    }
   ],
   "source": [
    "print(pipeline_result_imported.get_metric('mrr'))\n",
    "print(pipeline_result_simple.get_metric('mrr'))"
   ]
  },
  {
   "cell_type": "code",
   "execution_count": 11,
   "metadata": {},
   "outputs": [
    {
     "name": "stderr",
     "output_type": "stream",
     "text": [
      "WARNING:pykeen.utils:No cuda devices were available. The model runs on CPU\n",
      "INFO:pykeen.pipeline.api:Using device: None\n",
      "Training epochs on cpu: 100%|██████████| 200/200 [00:45<00:00,  4.40epoch/s, loss=0.28, prev_loss=0.285] \n",
      "INFO:pykeen.evaluation.evaluator:Currently automatic memory optimization only supports GPUs, but you're using a CPU. Therefore, the batch_size will be set to the default value.\n",
      "INFO:pykeen.evaluation.evaluator:No evaluation batch_size provided. Setting batch_size to '32'.\n",
      "Evaluating on cpu: 100%|██████████| 159/159 [00:00<00:00, 701triple/s] \n",
      "INFO:pykeen.evaluation.evaluator:Evaluation took 0.24s seconds\n"
     ]
    },
    {
     "name": "stdout",
     "output_type": "stream",
     "text": [
      "0.0038678112905472517\n"
     ]
    }
   ],
   "source": [
    "# but to get a better performing model, you want to set different things\n",
    "pipeline_result = pipeline(\n",
    "    random_seed=0,\n",
    "    model='ComplEx',\n",
    "    training=got_training,\n",
    "    testing=got_testing,\n",
    "    epochs=200,\n",
    "    dimensions=150,\n",
    "    optimizer='adam',\n",
    "    optimizer_kwargs={'lr':1e-3},\n",
    "    loss='pairwisehinge', \n",
    "    regularizer='LP', \n",
    "    regularizer_kwargs={'p':3, 'weight':1e-5}, \n",
    ")\n",
    "print(pipeline_result.get_metric('mrr'))"
   ]
  },
  {
   "cell_type": "markdown",
   "metadata": {},
   "source": [
    "Understanding the parameters:\n",
    "\n",
    "- dimensions : the dimensionality of the embedding space\n",
    "- negative_sampler : the negative samplic strategy, here set to default (not used in arguments).\n",
    "- batch_size : the number of batches in which the training set is split during the training loop. If you are having into low memory issues than settings this to a higher number may help.\n",
    "- epochs : the number of epochs to train the model for.\n",
    "- optimizer : the Adam optimizer, with a learning rate of $1e-3$ set via the <i>optimizer_kwarg</i>.\n",
    "- loss : pairwise loss, with a margin of $0.5$ set via the <i>loss_kwarg</i>.\n",
    "- regularizer :  regularization with $p=2$, i.e. $l_2$ regularization. $\\lambda$ = $1e-5$, set via the <i>regularizer_kwarg</i>."
   ]
  },
  {
   "cell_type": "markdown",
   "metadata": {},
   "source": [
    "### Filtering Negatives\n",
    "\n",
    "To ensure our model can be trained and evaluated correctly, we need to define a filter to ensure that no negative statements generated by the corruption procedure are actually positives. This is simply done by concatenating train and test sets. When negative triples are generated by the corruption strategy, we can check that they aren't actually true statements.\n",
    "\n",
    "With PyKEEN this is made very easy, and can simply be passed as an argument."
   ]
  },
  {
   "cell_type": "code",
   "execution_count": 12,
   "metadata": {},
   "outputs": [
    {
     "name": "stderr",
     "output_type": "stream",
     "text": [
      "WARNING:pykeen.pipeline.api:No random seed is specified. Setting to 522401844.\n",
      "WARNING:pykeen.utils:No cuda devices were available. The model runs on CPU\n",
      "INFO:pykeen.pipeline.api:Using device: None\n",
      "Training epochs on cpu: 100%|██████████| 200/200 [00:45<00:00,  4.40epoch/s, loss=0.3, prev_loss=0.28]   \n",
      "INFO:pykeen.evaluation.evaluator:Currently automatic memory optimization only supports GPUs, but you're using a CPU. Therefore, the batch_size will be set to the default value.\n",
      "INFO:pykeen.evaluation.evaluator:No evaluation batch_size provided. Setting batch_size to '32'.\n",
      "Evaluating on cpu: 100%|██████████| 159/159 [00:00<00:00, 555triple/s] \n",
      "INFO:pykeen.evaluation.evaluator:Evaluation took 0.30s seconds\n"
     ]
    },
    {
     "name": "stdout",
     "output_type": "stream",
     "text": [
      "0.002992393914610148\n"
     ]
    }
   ],
   "source": [
    "pipeline_result = pipeline(\n",
    "    model='ComplEx',\n",
    "    training=got_training,\n",
    "    testing=got_testing,\n",
    "    epochs=200,\n",
    "    dimensions=150,\n",
    "    optimizer='adam',\n",
    "    optimizer_kwargs={'lr':1e-3},\n",
    "    loss='pairwisehinge', \n",
    "    regularizer='LP', \n",
    "    regularizer_kwargs={'p':3, 'weight':1e-5}, \n",
    "    \n",
    "    negative_sampler='basic',\n",
    "    negative_sampler_kwargs=dict(\n",
    "        filtered=True,\n",
    "    )\n",
    ")\n",
    "print(pipeline_result.get_metric('mrr'))"
   ]
  },
  {
   "cell_type": "markdown",
   "metadata": {},
   "source": [
    "To save your learned model and also the results, we need to add checkpoints to the pipeline.\n",
    "By adding training kwargs to the pipeline, the model will be automatically saved. By default, it saves the model after every epoch (checkpoint_frequency=0). You can also set the directory to which the models are saved, but by default they will end up in ~/.data/pykeen/checkpoints."
   ]
  },
  {
   "cell_type": "code",
   "execution_count": 13,
   "metadata": {},
   "outputs": [
    {
     "name": "stderr",
     "output_type": "stream",
     "text": [
      "WARNING:pykeen.pipeline.api:No random seed is specified. Setting to 242643974.\n",
      "WARNING:pykeen.utils:No cuda devices were available. The model runs on CPU\n",
      "INFO:pykeen.pipeline.api:Using device: None\n",
      "WARNING:pykeen.training.training_loop:A checkpoint frequency was set, but no checkpoint file was given. No checkpoints will be created\n",
      "Training epochs on cpu: 100%|██████████| 200/200 [00:45<00:00,  4.38epoch/s, loss=0.29, prev_loss=0.452] \n",
      "INFO:pykeen.evaluation.evaluator:Currently automatic memory optimization only supports GPUs, but you're using a CPU. Therefore, the batch_size will be set to the default value.\n",
      "INFO:pykeen.evaluation.evaluator:No evaluation batch_size provided. Setting batch_size to '32'.\n",
      "Evaluating on cpu: 100%|██████████| 159/159 [00:00<00:00, 720triple/s] \n",
      "INFO:pykeen.evaluation.evaluator:Evaluation took 0.23s seconds\n"
     ]
    }
   ],
   "source": [
    "pipeline_result = pipeline(\n",
    "    model='ComplEx',\n",
    "    training=got_training,\n",
    "    testing=got_testing,\n",
    "    training_kwargs=dict(\n",
    "        num_epochs=200,\n",
    "        #checkpoint_name='got_complex_checkpoint.pt',\n",
    "        checkpoint_directory='checkpoint_dir/',\n",
    "        checkpoint_frequency=20,\n",
    "    ),\n",
    "    dimensions=150,\n",
    "    optimizer='adam',\n",
    "    optimizer_kwargs={'lr':1e-3},\n",
    "    loss='pairwisehinge', \n",
    "    regularizer='LP', \n",
    "    regularizer_kwargs={'p':3, 'weight':1e-5}, \n",
    "    negative_sampler='basic',\n",
    "    negative_sampler_kwargs=dict(\n",
    "        filtered=True,\n",
    "    )\n",
    ")"
   ]
  },
  {
   "cell_type": "markdown",
   "metadata": {},
   "source": [
    "There is another way to save models, but for that we need to do the training and evaluating outside of the pipeline model. Below is an example of the above model training outside of the pipeline module."
   ]
  },
  {
   "cell_type": "code",
   "execution_count": 14,
   "metadata": {},
   "outputs": [
    {
     "name": "stderr",
     "output_type": "stream",
     "text": [
      "WARNING:pykeen.models.base:No random seed is specified. This may lead to non-reproducible results.\n",
      "INFO:pykeen.training.training_loop:Currently automatic memory optimization only supports GPUs, but you're using a CPU. Therefore, the batch_size will be set to the default value '{batch_size}'\n",
      "Training epochs on cpu: 100%|██████████| 200/200 [00:42<00:00,  4.70epoch/s, loss=3.01, prev_loss=2.88]\n",
      "INFO:pykeen.evaluation.evaluator:Currently automatic memory optimization only supports GPUs, but you're using a CPU. Therefore, the batch_size will be set to the default value.\n",
      "WARNING:pykeen.utils:The filtered setting was enabled, but there were no `additional_filter_triples`\n",
      "given. This means you probably forgot to pass (at least) the training triples. Try:\n",
      "\n",
      "    additional_filter_triples=[dataset.training.mapped_triples]\n",
      "\n",
      "Or if you want to use the Bordes et al. (2013) approach to filtering, do:\n",
      "\n",
      "    additional_filter_triples=[\n",
      "        dataset.training.mapped_triples,\n",
      "        dataset.validation.mapped_triples,\n",
      "    ]\n",
      "\n",
      "INFO:pykeen.evaluation.evaluator:No evaluation batch_size provided. Setting batch_size to '32'.\n",
      "Evaluating on cpu: 100%|██████████| 159/159 [00:00<00:00, 722triple/s] \n",
      "INFO:pykeen.evaluation.evaluator:Evaluation took 0.22s seconds\n"
     ]
    },
    {
     "name": "stdout",
     "output_type": "stream",
     "text": [
      "0.003252665977925062\n"
     ]
    }
   ],
   "source": [
    "from pykeen.models import ComplEx\n",
    "model = ComplEx(triples_factory=got_training)\n",
    "\n",
    "from pykeen.optimizers import Adam\n",
    "optimizer = Adam(params=model.get_grad_params())\n",
    "\n",
    "# from pykeen.regularizers import LP\n",
    "# regularizer = LP(p=3,weight=1e-5)\n",
    "\n",
    "from pykeen.training import SLCWATrainingLoop\n",
    "training_loop = SLCWATrainingLoop(model=model,\n",
    "                                  triples_factory=got_training,\n",
    "                                  optimizer=optimizer)\n",
    "\n",
    "#training\n",
    "_ = training_loop.train(triples_factory=got_training,\n",
    "                    num_epochs=200)\n",
    "\n",
    "#evaluating\n",
    "from pykeen.evaluation import RankBasedEvaluator\n",
    "evaluator = RankBasedEvaluator()\n",
    "mapped_triples = got_testing.mapped_triples\n",
    "\n",
    "results = evaluator.evaluate(\n",
    "            model=model,\n",
    "            mapped_triples=mapped_triples,\n",
    "            )\n",
    "\n",
    "print(results.get_metric('mrr'))\n",
    "\n",
    "#save results, this works also with the pipeline results, as the results object \n",
    "#returned by the evaluator is the same as the one returned from the pipeline\n",
    "save_dir = 'got_complex'\n",
    "if not os.path.isdir(save_dir):\n",
    "    os.mkdir(save_dir)\n",
    "results.to_df().to_csv(save_dir+os.path.sep+'results.csv')\n",
    "\n",
    "import torch\n",
    "torch.save(model,'trained_model.pkl')\n",
    "\n",
    "#to load the model use the following command\n",
    "# my_pykeen_model = torch.load('trained_model.pkl')"
   ]
  },
  {
   "cell_type": "markdown",
   "metadata": {},
   "source": [
    "### Exercise 3\n",
    "\n",
    "Try changing the parameters of your training process. See if you obtain a better model in terms of average loss. Save it as ./data/best_model.pkl. Which parameters work best for the dataset? \n",
    "\n",
    "Now use the training and test set you created in Exercise 2. Which loss you obtain, and for which parameters? \n",
    "\n",
    "Remember to save each model locally with a different name, so you can find them back."
   ]
  },
  {
   "cell_type": "code",
   "execution_count": 15,
   "metadata": {},
   "outputs": [
    {
     "name": "stderr",
     "output_type": "stream",
     "text": [
      "WARNING:pykeen.utils:No cuda devices were available. The model runs on CPU\n",
      "INFO:pykeen.pipeline.api:Using device: None\n"
     ]
    },
    {
     "name": "stdout",
     "output_type": "stream",
     "text": [
      "Training Experiment 1: ComplEx baseline model\n"
     ]
    },
    {
     "name": "stderr",
     "output_type": "stream",
     "text": [
      "Training epochs on cpu: 100%|██████████| 200/200 [00:46<00:00,  4.28epoch/s, loss=0.357, prev_loss=0.331]\n",
      "INFO:pykeen.evaluation.evaluator:Currently automatic memory optimization only supports GPUs, but you're using a CPU. Therefore, the batch_size will be set to the default value.\n",
      "INFO:pykeen.evaluation.evaluator:No evaluation batch_size provided. Setting batch_size to '32'.\n",
      "Evaluating on cpu: 100%|██████████| 318/318 [00:00<00:00, 780triple/s] \n",
      "INFO:pykeen.evaluation.evaluator:Evaluation took 0.42s seconds\n",
      "WARNING:pykeen.utils:No cuda devices were available. The model runs on CPU\n",
      "INFO:pykeen.pipeline.api:Using device: None\n"
     ]
    },
    {
     "name": "stdout",
     "output_type": "stream",
     "text": [
      "Training Experiment 2: ComplEx with higher dimensions\n"
     ]
    },
    {
     "name": "stderr",
     "output_type": "stream",
     "text": [
      "Training epochs on cpu: 100%|██████████| 200/200 [00:44<00:00,  4.48epoch/s, loss=0.357, prev_loss=0.331]\n",
      "INFO:pykeen.evaluation.evaluator:Currently automatic memory optimization only supports GPUs, but you're using a CPU. Therefore, the batch_size will be set to the default value.\n",
      "INFO:pykeen.evaluation.evaluator:No evaluation batch_size provided. Setting batch_size to '32'.\n",
      "Evaluating on cpu: 100%|██████████| 318/318 [00:00<00:00, 717triple/s] \n",
      "INFO:pykeen.evaluation.evaluator:Evaluation took 0.46s seconds\n",
      "WARNING:pykeen.utils:No cuda devices were available. The model runs on CPU\n",
      "INFO:pykeen.pipeline.api:Using device: None\n"
     ]
    },
    {
     "name": "stdout",
     "output_type": "stream",
     "text": [
      "Training Experiment 3: ComplEx with softplus loss\n"
     ]
    },
    {
     "name": "stderr",
     "output_type": "stream",
     "text": [
      "Training epochs on cpu: 100%|██████████| 200/200 [00:46<00:00,  4.28epoch/s, loss=3.13, prev_loss=3.21]\n",
      "INFO:pykeen.evaluation.evaluator:Currently automatic memory optimization only supports GPUs, but you're using a CPU. Therefore, the batch_size will be set to the default value.\n",
      "INFO:pykeen.evaluation.evaluator:No evaluation batch_size provided. Setting batch_size to '32'.\n",
      "Evaluating on cpu: 100%|██████████| 318/318 [00:00<00:00, 711triple/s] \n",
      "INFO:pykeen.evaluation.evaluator:Evaluation took 0.46s seconds\n",
      "WARNING:pykeen.utils:No cuda devices were available. The model runs on CPU\n",
      "INFO:pykeen.pipeline.api:Using device: None\n"
     ]
    },
    {
     "name": "stdout",
     "output_type": "stream",
     "text": [
      "Training Experiment 4: ComplEx with higher learning rate\n"
     ]
    },
    {
     "name": "stderr",
     "output_type": "stream",
     "text": [
      "Training epochs on cpu: 100%|██████████| 200/200 [00:45<00:00,  4.40epoch/s, loss=0.0348, prev_loss=0.0313] \n",
      "INFO:pykeen.evaluation.evaluator:Currently automatic memory optimization only supports GPUs, but you're using a CPU. Therefore, the batch_size will be set to the default value.\n",
      "INFO:pykeen.evaluation.evaluator:No evaluation batch_size provided. Setting batch_size to '32'.\n",
      "Evaluating on cpu: 100%|██████████| 318/318 [00:00<00:00, 775triple/s] \n",
      "INFO:pykeen.evaluation.evaluator:Evaluation took 0.42s seconds\n",
      "WARNING:pykeen.utils:No cuda devices were available. The model runs on CPU\n",
      "INFO:pykeen.pipeline.api:Using device: None\n"
     ]
    },
    {
     "name": "stdout",
     "output_type": "stream",
     "text": [
      "Training Experiment 5: ComplEx with L2 regularization\n"
     ]
    },
    {
     "name": "stderr",
     "output_type": "stream",
     "text": [
      "Training epochs on cpu: 100%|██████████| 200/200 [00:43<00:00,  4.58epoch/s, loss=0.357, prev_loss=0.331]\n",
      "INFO:pykeen.evaluation.evaluator:Currently automatic memory optimization only supports GPUs, but you're using a CPU. Therefore, the batch_size will be set to the default value.\n",
      "INFO:pykeen.evaluation.evaluator:No evaluation batch_size provided. Setting batch_size to '32'.\n",
      "Evaluating on cpu: 100%|██████████| 318/318 [00:00<00:00, 769triple/s] \n",
      "INFO:pykeen.evaluation.evaluator:Evaluation took 0.43s seconds\n",
      "WARNING:pykeen.utils:No cuda devices were available. The model runs on CPU\n",
      "INFO:pykeen.pipeline.api:Using device: None\n"
     ]
    },
    {
     "name": "stdout",
     "output_type": "stream",
     "text": [
      "Training Experiment 6: TransE model\n"
     ]
    },
    {
     "name": "stderr",
     "output_type": "stream",
     "text": [
      "Training epochs on cpu: 100%|██████████| 200/200 [00:29<00:00,  6.88epoch/s, loss=0.00695, prev_loss=0.00591]\n",
      "INFO:pykeen.evaluation.evaluator:Currently automatic memory optimization only supports GPUs, but you're using a CPU. Therefore, the batch_size will be set to the default value.\n",
      "INFO:pykeen.evaluation.evaluator:No evaluation batch_size provided. Setting batch_size to '32'.\n",
      "Evaluating on cpu: 100%|██████████| 318/318 [00:00<00:00, 1.07ktriple/s]\n",
      "INFO:pykeen.evaluation.evaluator:Evaluation took 0.31s seconds\n",
      "WARNING:pykeen.utils:No cuda devices were available. The model runs on CPU\n",
      "INFO:pykeen.pipeline.api:Using device: None\n"
     ]
    },
    {
     "name": "stdout",
     "output_type": "stream",
     "text": [
      "\n",
      "Results summary:\n",
      "             model_id model_name  dimensions loss_function  learning_rate  regularizer_p      mrr  hits@10\n",
      "exp1_ComplEx_baseline    ComplEx         150 pairwisehinge          0.001              3 0.004366 0.004717\n",
      "exp2_ComplEx_high_dim    ComplEx         250 pairwisehinge          0.001              3 0.004366 0.004717\n",
      "exp3_ComplEx_softplus    ComplEx         150      softplus          0.001              3 0.002976 0.001572\n",
      " exp4_ComplEx_high_lr    ComplEx         150 pairwisehinge          0.005              3 0.006817 0.011006\n",
      "   exp5_ComplEx_L2reg    ComplEx         150 pairwisehinge          0.001              2 0.004367 0.004717\n",
      "          exp6_TransE     TransE         150 pairwisehinge          0.001              3 0.068631 0.187107\n",
      "\n",
      "Best model: exp6_TransE with MRR of 0.068631\n",
      "Best model saved to ./data/best_model.pkl\n",
      "\n",
      "Testing best configuration on different train/test splits:\n",
      "Training on 85/15 split...\n"
     ]
    },
    {
     "name": "stderr",
     "output_type": "stream",
     "text": [
      "Training epochs on cpu: 100%|██████████| 200/200 [00:29<00:00,  6.87epoch/s, loss=0.00517, prev_loss=0.00607]\n",
      "INFO:pykeen.evaluation.evaluator:Currently automatic memory optimization only supports GPUs, but you're using a CPU. Therefore, the batch_size will be set to the default value.\n",
      "INFO:pykeen.evaluation.evaluator:No evaluation batch_size provided. Setting batch_size to '32'.\n",
      "Evaluating on cpu: 100%|██████████| 477/477 [00:00<00:00, 1.13ktriple/s]\n",
      "INFO:pykeen.evaluation.evaluator:Evaluation took 0.44s seconds\n",
      "WARNING:pykeen.utils:No cuda devices were available. The model runs on CPU\n",
      "INFO:pykeen.pipeline.api:Using device: None\n"
     ]
    },
    {
     "name": "stdout",
     "output_type": "stream",
     "text": [
      "Training on 95/5 split...\n"
     ]
    },
    {
     "name": "stderr",
     "output_type": "stream",
     "text": [
      "Training epochs on cpu: 100%|██████████| 200/200 [00:29<00:00,  6.87epoch/s, loss=0.00609, prev_loss=0.00654]\n",
      "INFO:pykeen.evaluation.evaluator:Currently automatic memory optimization only supports GPUs, but you're using a CPU. Therefore, the batch_size will be set to the default value.\n",
      "INFO:pykeen.evaluation.evaluator:No evaluation batch_size provided. Setting batch_size to '32'.\n",
      "Evaluating on cpu: 100%|██████████| 159/159 [00:00<00:00, 1.01ktriple/s]\n",
      "INFO:pykeen.evaluation.evaluator:Evaluation took 0.17s seconds\n"
     ]
    },
    {
     "name": "stdout",
     "output_type": "stream",
     "text": [
      "\n",
      "Split comparison results:\n",
      "split model_name      mrr  hits@10   hits@3   hits@1\n",
      "85/15     TransE 0.061281 0.171908 0.069182 0.006289\n",
      "90/10     TransE 0.068631 0.187107 0.092767 0.004717\n",
      " 95/5     TransE 0.067630 0.201258 0.075472 0.003145\n",
      "\n",
      "All results saved to CSV files in ./data/\n"
     ]
    }
   ],
   "source": [
    "### your code here\n",
    "import os\n",
    "import torch\n",
    "import pandas as pd\n",
    "from pykeen.pipeline import pipeline\n",
    "\n",
    "# Create directory to store models\n",
    "os.makedirs('./data', exist_ok=True)\n",
    "\n",
    "# Function to train models with different parameters and save the results\n",
    "def train_model(training_set, testing_set, model_name, dimensions, epochs, \n",
    "               learning_rate, loss_function, regularizer_p, regularizer_weight,\n",
    "               negative_sampler_filtered=True, model_id=None):\n",
    "    \"\"\"\n",
    "    Train a model with specified parameters\n",
    "    \n",
    "    Args:\n",
    "        training_set: Training set of triples\n",
    "        testing_set: Testing set of triples\n",
    "        model_name: Name of the model to use ('ComplEx', 'TransE', etc.)\n",
    "        dimensions: Number of embedding dimensions\n",
    "        epochs: Number of training epochs\n",
    "        learning_rate: Learning rate for optimization\n",
    "        loss_function: Loss function to use\n",
    "        regularizer_p: p value for LP regularization (1=L1, 2=L2, 3=L3)\n",
    "        regularizer_weight: Weight of regularization\n",
    "        negative_sampler_filtered: Whether to use filtered negative sampling\n",
    "        model_id: Identifier for the model\n",
    "        \n",
    "    Returns:\n",
    "        Dictionary with model configuration and results\n",
    "    \"\"\"\n",
    "    \n",
    "    # Set up a unique model ID if none provided\n",
    "    if model_id is None:\n",
    "        model_id = f\"{model_name}_dim{dimensions}_ep{epochs}_lr{learning_rate}_reg{regularizer_p}\"\n",
    "    \n",
    "    # Create directory to save model\n",
    "    model_dir = f'./data/{model_id}'\n",
    "    os.makedirs(model_dir, exist_ok=True)\n",
    "    \n",
    "    # Train the model\n",
    "    result = pipeline(\n",
    "        model=model_name,\n",
    "        training=training_set,\n",
    "        testing=testing_set,\n",
    "        epochs=epochs,\n",
    "        dimensions=dimensions,\n",
    "        optimizer='adam',\n",
    "        optimizer_kwargs={'lr': learning_rate},\n",
    "        loss=loss_function,\n",
    "        regularizer='LP',\n",
    "        regularizer_kwargs={'p': regularizer_p, 'weight': regularizer_weight},\n",
    "        negative_sampler='basic',\n",
    "        negative_sampler_kwargs=dict(\n",
    "            filtered=negative_sampler_filtered,\n",
    "        ),\n",
    "        random_seed=42  # For reproducibility\n",
    "    )\n",
    "    \n",
    "    # Get evaluation metrics\n",
    "    mrr = result.get_metric('mrr')\n",
    "    hits_10 = result.get_metric('hits_at_10')\n",
    "    hits_3 = result.get_metric('hits_at_3')\n",
    "    hits_1 = result.get_metric('hits_at_1')\n",
    "    \n",
    "    # Save the model\n",
    "    torch.save(result.model, f'{model_dir}/model.pkl')\n",
    "    \n",
    "    # Return the results\n",
    "    return {\n",
    "        'model_id': model_id,\n",
    "        'model_name': model_name,\n",
    "        'dimensions': dimensions,\n",
    "        'epochs': epochs,\n",
    "        'learning_rate': learning_rate,\n",
    "        'loss_function': loss_function,\n",
    "        'regularizer_p': regularizer_p,\n",
    "        'regularizer_weight': regularizer_weight,\n",
    "        'negative_sampler_filtered': negative_sampler_filtered,\n",
    "        'mrr': mrr,\n",
    "        'hits@10': hits_10,\n",
    "        'hits@3': hits_3,\n",
    "        'hits@1': hits_1,\n",
    "        'model_path': f'{model_dir}/model.pkl'\n",
    "    }\n",
    "\n",
    "# Experiment 1: Using ComplEx with 90/10 split (baseline)\n",
    "print(\"Training Experiment 1: ComplEx baseline model\")\n",
    "exp1 = train_model(\n",
    "    training_set=got_training_90,\n",
    "    testing_set=got_testing_10,\n",
    "    model_name='ComplEx',\n",
    "    dimensions=150,\n",
    "    epochs=200,\n",
    "    learning_rate=1e-3,\n",
    "    loss_function='pairwisehinge',\n",
    "    regularizer_p=3,\n",
    "    regularizer_weight=1e-5,\n",
    "    model_id='exp1_ComplEx_baseline'\n",
    ")\n",
    "\n",
    "# Experiment 2: Higher dimensions\n",
    "print(\"Training Experiment 2: ComplEx with higher dimensions\")\n",
    "exp2 = train_model(\n",
    "    training_set=got_training_90,\n",
    "    testing_set=got_testing_10,\n",
    "    model_name='ComplEx',\n",
    "    dimensions=250,  # Increased from 150\n",
    "    epochs=200,\n",
    "    learning_rate=1e-3,\n",
    "    loss_function='pairwisehinge',\n",
    "    regularizer_p=3,\n",
    "    regularizer_weight=1e-5,\n",
    "    model_id='exp2_ComplEx_high_dim'\n",
    ")\n",
    "\n",
    "# Experiment 3: Different loss function\n",
    "print(\"Training Experiment 3: ComplEx with softplus loss\")\n",
    "exp3 = train_model(\n",
    "    training_set=got_training_90,\n",
    "    testing_set=got_testing_10,\n",
    "    model_name='ComplEx',\n",
    "    dimensions=150,\n",
    "    epochs=200,\n",
    "    learning_rate=1e-3,\n",
    "    loss_function='softplus',  # Changed from pairwisehinge\n",
    "    regularizer_p=3,\n",
    "    regularizer_weight=1e-5,\n",
    "    model_id='exp3_ComplEx_softplus'\n",
    ")\n",
    "\n",
    "# Experiment 4: Higher learning rate\n",
    "print(\"Training Experiment 4: ComplEx with higher learning rate\")\n",
    "exp4 = train_model(\n",
    "    training_set=got_training_90,\n",
    "    testing_set=got_testing_10,\n",
    "    model_name='ComplEx',\n",
    "    dimensions=150,\n",
    "    epochs=200,\n",
    "    learning_rate=5e-3,  # Increased from 1e-3\n",
    "    loss_function='pairwisehinge',\n",
    "    regularizer_p=3,\n",
    "    regularizer_weight=1e-5,\n",
    "    model_id='exp4_ComplEx_high_lr'\n",
    ")\n",
    "\n",
    "# Experiment 5: Different regularization (L2 instead of L3)\n",
    "print(\"Training Experiment 5: ComplEx with L2 regularization\")\n",
    "exp5 = train_model(\n",
    "    training_set=got_training_90,\n",
    "    testing_set=got_testing_10,\n",
    "    model_name='ComplEx',\n",
    "    dimensions=150,\n",
    "    epochs=200,\n",
    "    learning_rate=1e-3,\n",
    "    loss_function='pairwisehinge',\n",
    "    regularizer_p=2,  # Changed from 3 to 2 (L2 regularization)\n",
    "    regularizer_weight=1e-5,\n",
    "    model_id='exp5_ComplEx_L2reg'\n",
    ")\n",
    "\n",
    "# Experiment 6: TransE model instead of ComplEx\n",
    "print(\"Training Experiment 6: TransE model\")\n",
    "exp6 = train_model(\n",
    "    training_set=got_training_90,\n",
    "    testing_set=got_testing_10,\n",
    "    model_name='TransE',  # Changed from ComplEx\n",
    "    dimensions=150,\n",
    "    epochs=200,\n",
    "    learning_rate=1e-3,\n",
    "    loss_function='pairwisehinge',\n",
    "    regularizer_p=3,\n",
    "    regularizer_weight=1e-5,\n",
    "    model_id='exp6_TransE'\n",
    ")\n",
    "\n",
    "# Compile results\n",
    "results = [exp1, exp2, exp3, exp4, exp5, exp6]\n",
    "results_df = pd.DataFrame(results)\n",
    "\n",
    "# Display results\n",
    "print(\"\\nResults summary:\")\n",
    "print(results_df[['model_id', 'model_name', 'dimensions', 'loss_function', 'learning_rate', 'regularizer_p', 'mrr', 'hits@10']].to_string(index=False))\n",
    "\n",
    "# Find the best model based on MRR\n",
    "best_model_idx = results_df['mrr'].idxmax()\n",
    "best_model = results_df.iloc[best_model_idx]\n",
    "print(f\"\\nBest model: {best_model['model_id']} with MRR of {best_model['mrr']:.6f}\")\n",
    "\n",
    "# Save the best model to ./data/best_model.pkl\n",
    "best_model_path = './data/best_model.pkl'\n",
    "os.system(f\"cp {best_model['model_path']} {best_model_path}\")\n",
    "print(f\"Best model saved to {best_model_path}\")\n",
    "\n",
    "# Now test the best configuration on different train/test splits\n",
    "print(\"\\nTesting best configuration on different train/test splits:\")\n",
    "\n",
    "# Train on 85/15 split\n",
    "print(\"Training on 85/15 split...\")\n",
    "exp_85_15 = train_model(\n",
    "    training_set=got_training_85,\n",
    "    testing_set=got_testing_15,\n",
    "    model_name=best_model['model_name'],\n",
    "    dimensions=best_model['dimensions'],\n",
    "    epochs=best_model['epochs'],\n",
    "    learning_rate=best_model['learning_rate'],\n",
    "    loss_function=best_model['loss_function'],\n",
    "    regularizer_p=best_model['regularizer_p'],\n",
    "    regularizer_weight=best_model['regularizer_weight'],\n",
    "    model_id=f\"best_config_85_15_split\"\n",
    ")\n",
    "\n",
    "# Train on 95/5 split\n",
    "print(\"Training on 95/5 split...\")\n",
    "exp_95_5 = train_model(\n",
    "    training_set=got_training_95,\n",
    "    testing_set=got_testing_5,\n",
    "    model_name=best_model['model_name'],\n",
    "    dimensions=best_model['dimensions'],\n",
    "    epochs=best_model['epochs'],\n",
    "    learning_rate=best_model['learning_rate'],\n",
    "    loss_function=best_model['loss_function'],\n",
    "    regularizer_p=best_model['regularizer_p'],\n",
    "    regularizer_weight=best_model['regularizer_weight'],\n",
    "    model_id=f\"best_config_95_5_split\"\n",
    ")\n",
    "\n",
    "# Compile results from different splits\n",
    "split_results = [\n",
    "    {**exp_85_15, 'split': '85/15'},\n",
    "    {**best_model, 'split': '90/10'},\n",
    "    {**exp_95_5, 'split': '95/5'}\n",
    "]\n",
    "split_df = pd.DataFrame(split_results)\n",
    "\n",
    "# Display split results\n",
    "print(\"\\nSplit comparison results:\")\n",
    "print(split_df[['split', 'model_name', 'mrr', 'hits@10', 'hits@3', 'hits@1']].to_string(index=False))\n",
    "\n",
    "# Save all results to CSV\n",
    "results_df.to_csv('./data/model_comparison_results.csv', index=False)\n",
    "split_df.to_csv('./data/split_comparison_results.csv', index=False)\n",
    "print(\"\\nAll results saved to CSV files in ./data/\")"
   ]
  },
  {
   "cell_type": "markdown",
   "metadata": {},
   "source": [
    "# 4. Evaluating the Model"
   ]
  },
  {
   "cell_type": "markdown",
   "metadata": {},
   "source": [
    "### Metrics"
   ]
  },
  {
   "cell_type": "markdown",
   "metadata": {},
   "source": [
    "We can now get some evaluation metrics for our model, they were already computed during evaluation time as part of the pipeline, and print them out.\n",
    "\n",
    "We are going to use the following evaluation metrics:\n",
    "- <i>mrr</i> (mean reciprocal rank) : this function computes the mean of the reciprocal of elements of a vector of rankings ranks\n",
    "- <i>hits_at_n</i> : this function computes how many elements of a vector of rankings ranks make it to the $top_n$ positions.\n",
    "\n",
    "NB : The choice of which _N_ makes more sense depends on the application and the size of the dataset."
   ]
  },
  {
   "cell_type": "code",
   "execution_count": 16,
   "metadata": {},
   "outputs": [
    {
     "data": {
      "text/plain": [
       "0.006289308176100629"
      ]
     },
     "execution_count": 16,
     "metadata": {},
     "output_type": "execute_result"
    }
   ],
   "source": [
    "pipeline_result.get_metric('hits_at_10')"
   ]
  },
  {
   "cell_type": "code",
   "execution_count": 17,
   "metadata": {},
   "outputs": [
    {
     "name": "stdout",
     "output_type": "stream",
     "text": [
      "MRR: 0.0044\n",
      "\n",
      "Hits@10: 0.006289\n",
      "Interpretation: on average, the model guessed the correct subject or object 0.6% of the time when considering the top-10 better ranked triples.\n",
      "\n",
      "Hits@3: 0.000000\n",
      "Interpretation: on average, the model guessed the correct subject or object 0.0% of the time when considering the top-3 better ranked triples.\n",
      "\n"
     ]
    }
   ],
   "source": [
    "# from ampligraph.evaluation import mr_score, mrr_score, hits_at_n_score\n",
    "\n",
    "mrr = pipeline_result.get_metric('mrr')\n",
    "print(\"MRR: %.4f\" % (mrr))\n",
    "print()\n",
    "\n",
    "hits_10 = pipeline_result.get_metric('hits_at_10')\n",
    "print(\"Hits@10: %.6f\" % (hits_10))\n",
    "print(\"Interpretation: on average, the model guessed the correct subject or object %.1f%% of the time when considering the top-10 better ranked triples.\\n\" % (hits_10*100))\n",
    "\n",
    "hits_3 = pipeline_result.get_metric('hits_at_3')\n",
    "print(\"Hits@3: %.6f\" % (hits_3))\n",
    "print(\"Interpretation: on average, the model guessed the correct subject or object %.1f%% of the time when considering the top-3 better ranked triples.\\n\" % (hits_3*100))\n",
    "\n",
    "# hits_1 = hits_at_n_score(ranks, n=1)\n",
    "# print(\"Hits@1: %.2f\" % (hits_1))\n",
    "# print(\"Interpretation: on average, the model guessed the correct subject or object %.1f%% of the time when considering the top-1 better ranked triples.\\n\" % (hits_1*100))\n"
   ]
  },
  {
   "cell_type": "markdown",
   "metadata": {},
   "source": [
    "### Exercise 4\n",
    "\n",
    "Evaluate the models you created before (different set sizes, different parameters). Summarise your results in a table."
   ]
  },
  {
   "cell_type": "code",
   "execution_count": 18,
   "metadata": {},
   "outputs": [
    {
     "name": "stdout",
     "output_type": "stream",
     "text": [
      "Comprehensive Evaluation Results:\n",
      "\n",
      "Model Configuration Comparison:\n",
      "             model_id model_name  dimensions  learning_rate loss_function  regularizer_p      mrr  hits@10   hits@3   hits@1\n",
      "exp1_ComplEx_baseline    ComplEx         150          0.001 pairwisehinge              3 0.004366 0.004717 0.003145 0.000000\n",
      "exp2_ComplEx_high_dim    ComplEx         250          0.001 pairwisehinge              3 0.004366 0.004717 0.003145 0.000000\n",
      "exp3_ComplEx_softplus    ComplEx         150          0.001      softplus              3 0.002976 0.001572 0.000000 0.000000\n",
      " exp4_ComplEx_high_lr    ComplEx         150          0.005 pairwisehinge              3 0.006817 0.011006 0.003145 0.001572\n",
      "   exp5_ComplEx_L2reg    ComplEx         150          0.001 pairwisehinge              2 0.004367 0.004717 0.003145 0.000000\n",
      "          exp6_TransE     TransE         150          0.001 pairwisehinge              3 0.068631 0.187107 0.092767 0.004717\n",
      "\n",
      "Training/Testing Split Comparison:\n",
      "split model_name      mrr  hits@10   hits@3   hits@1\n",
      "85/15     TransE 0.061281 0.171908 0.069182 0.006289\n",
      "90/10     TransE 0.068631 0.187107 0.092767 0.004717\n",
      " 95/5     TransE 0.067630 0.201258 0.075472 0.003145\n"
     ]
    },
    {
     "data": {
      "image/png": "[encoded data removed]",
      "text/plain": [
       "<Figure size 1200x600 with 1 Axes>"
      ]
     },
     "metadata": {},
     "output_type": "display_data"
    },
    {
     "data": {
      "image/png": "[encoded data removed]",
      "text/plain": [
       "<Figure size 800x500 with 1 Axes>"
      ]
     },
     "metadata": {},
     "output_type": "display_data"
    },
    {
     "name": "stdout",
     "output_type": "stream",
     "text": [
      "\n",
      "Analysis of Results:\n",
      "1. Best performing model: exp6_TransE with MRR of 0.068631\n",
      "2. Best training/test split: 90/10 with MRR of 0.068631\n",
      "\n",
      "Key Observations:\n",
      "- TransE outperformed ComplEx on this dataset, suggesting that simpler translation-based embeddings work better for this graph structure\n",
      "- Higher learning rate (0.005) improved performance for ComplEx compared to the default (0.001)\n",
      "- The 90/10 split offers the best balance between having enough training data and testing generalization\n",
      "- Regularization type (L2 vs L3) had minimal impact on performance\n",
      "- The SoftPlus loss function performed worse than PairwiseHinge for this dataset\n"
     ]
    }
   ],
   "source": [
    "### your code here\n",
    "# Exercise 4: Evaluate models and summarize results\n",
    "\n",
    "# Load the previously saved results\n",
    "model_results = pd.read_csv('./data/model_comparison_results.csv')\n",
    "split_results = pd.read_csv('./data/split_comparison_results.csv')\n",
    "\n",
    "# Create a comprehensive evaluation table\n",
    "print(\"Comprehensive Evaluation Results:\")\n",
    "print(\"\\nModel Configuration Comparison:\")\n",
    "eval_table = model_results[['model_id', 'model_name', 'dimensions', 'learning_rate', \n",
    "                           'loss_function', 'regularizer_p', 'mrr', 'hits@10', 'hits@3', 'hits@1']]\n",
    "print(eval_table.to_string(index=False))\n",
    "\n",
    "print(\"\\nTraining/Testing Split Comparison:\")\n",
    "split_table = split_results[['split', 'model_name', 'mrr', 'hits@10', 'hits@3', 'hits@1']]\n",
    "print(split_table.to_string(index=False))\n",
    "\n",
    "# Visualize the results\n",
    "import matplotlib.pyplot as plt\n",
    "\n",
    "# Model comparison plot\n",
    "plt.figure(figsize=(12, 6))\n",
    "plt.bar(model_results['model_id'], model_results['mrr'], alpha=0.7)\n",
    "plt.xticks(rotation=45, ha='right')\n",
    "plt.ylabel('Mean Reciprocal Rank (MRR)')\n",
    "plt.title('Performance Comparison of Different Models')\n",
    "plt.tight_layout()\n",
    "plt.savefig('./data/model_comparison.png')\n",
    "plt.show()\n",
    "\n",
    "# Split comparison plot\n",
    "plt.figure(figsize=(8, 5))\n",
    "plt.bar(split_results['split'], split_results['mrr'], alpha=0.7)\n",
    "plt.ylabel('Mean Reciprocal Rank (MRR)')\n",
    "plt.title('Performance Comparison of Different Training/Testing Splits')\n",
    "plt.tight_layout()\n",
    "plt.savefig('./data/split_comparison.png')\n",
    "plt.show()\n",
    "\n",
    "# Analysis of results\n",
    "print(\"\\nAnalysis of Results:\")\n",
    "print(f\"1. Best performing model: {model_results.loc[model_results['mrr'].idxmax(), 'model_id']} with MRR of {model_results['mrr'].max():.6f}\")\n",
    "print(f\"2. Best training/test split: {split_results.loc[split_results['mrr'].idxmax(), 'split']} with MRR of {split_results['mrr'].max():.6f}\")\n",
    "\n",
    "print(\"\\nKey Observations:\")\n",
    "print(\"- TransE outperformed ComplEx on this dataset, suggesting that simpler translation-based embeddings work better for this graph structure\")\n",
    "print(\"- Higher learning rate (0.005) improved performance for ComplEx compared to the default (0.001)\")\n",
    "print(\"- The 90/10 split offers the best balance between having enough training data and testing generalization\")\n",
    "print(\"- Regularization type (L2 vs L3) had minimal impact on performance\")\n",
    "print(\"- The SoftPlus loss function performed worse than PairwiseHinge for this dataset\")"
   ]
  },
  {
   "cell_type": "markdown",
   "metadata": {},
   "source": [
    "# 5. Link Prediction"
   ]
  },
  {
   "cell_type": "markdown",
   "metadata": {},
   "source": [
    "Link prediction allows to infer missing links in a graph. This has many real-world use cases, such as predicting connections between people in a social network, interactions between proteins in a biological network, and music recommendation based on prior user taste.\n",
    "\n",
    "In our case, we are going to see which of the following candidate statements is more likely to be true. Note that the candidate statements below are made up, i.e. they are not in the original dataset."
   ]
  },
  {
   "cell_type": "code",
   "execution_count": 19,
   "metadata": {},
   "outputs": [],
   "source": [
    "X_unseen = np.array([\n",
    "    ['Jorah Mormont', 'SPOUSE', 'Daenerys Targaryen'],\n",
    "    ['Tyrion Lannister', 'SPOUSE', 'Missandei'],\n",
    "    [\"King's Landing\", 'SEAT_OF', 'House Lannister of Casterly Rock'],\n",
    "    ['Sansa Stark', 'SPOUSE', 'Petyr Baelish'],\n",
    "    ['Daenerys Targaryen', 'SPOUSE', 'Jon Snow'],\n",
    "    ['Daenerys Targaryen', 'SPOUSE', 'Craster'],\n",
    "    ['House Stark of Winterfell', 'IN_REGION', 'The North'],\n",
    "    ['House Stark of Winterfell', 'IN_REGION', 'Dorne'],\n",
    "    ['House Tyrell of Highgarden', 'IN_REGION', 'Beyond the Wall'],\n",
    "    ['Brandon Stark', 'ALLIED_WITH', 'House Stark of Winterfell'],\n",
    "    ['Brandon Stark', 'ALLIED_WITH', 'House Lannister of Casterly Rock'],    \n",
    "    ['Rhaegar Targaryen', 'PARENT_OF', 'Jon Snow'],\n",
    "    ['House Hutcheson', 'SWORN_TO', 'House Tyrell of Highgarden'],\n",
    "    ['Daenerys Targaryen', 'ALLIED_WITH', 'House Stark of Winterfell'],\n",
    "    ['Daenerys Targaryen', 'ALLIED_WITH', 'House Lannister of Casterly Rock'],\n",
    "    ['Jaime Lannister', 'PARENT_OF', 'Myrcella Baratheon'],\n",
    "    ['Robert I Baratheon', 'PARENT_OF', 'Myrcella Baratheon'],\n",
    "    ['Cersei Lannister', 'PARENT_OF', 'Myrcella Baratheon'],\n",
    "    ['Cersei Lannister', 'PARENT_OF', 'Brandon Stark'],\n",
    "    [\"Tywin Lannister\", 'PARENT_OF', 'Jaime Lannister'],\n",
    "    [\"Missandei\", 'SPOUSE', 'Grey Worm'],\n",
    "    [\"Brienne of Tarth\", 'SPOUSE', 'Jaime Lannister']\n",
    "])\n",
    "\n",
    "## we need to map the above triples to the id's which we used in our training/testing.\n",
    "## This information is stored in the triple factory \"got\", which we created at the beginning\n",
    "\n",
    "# unseen_filter = np.array(list({tuple(i) for i in np.vstack((positives_filter, X_unseen))}))\n",
    "#     filter_triples=unseen_filter,   # Corruption strategy filter defined above \n",
    "#     corrupt_side = 's+o',\n",
    "#     use_default_protocol=False, # corrupt subj and obj separately while evaluating\n",
    "#     verbose=True\n",
    "# )\n"
   ]
  },
  {
   "cell_type": "code",
   "execution_count": 20,
   "metadata": {},
   "outputs": [
    {
     "name": "stderr",
     "output_type": "stream",
     "text": [
      "WARNING:torch_max_mem.api:Encountered tensors on device_types={'cpu'} while only ['cuda'] are considered safe for automatic memory utilization maximization. This may lead to undocumented crashes (but can be safe, too).\n"
     ]
    }
   ],
   "source": [
    "#from pykeen import predict\n",
    "from pykeen.predict import predict_triples\n",
    "\n",
    "# got_unseen = triples.get_mapped_tripples(X_unseen,factory=got)\n",
    "pack = predict_triples(model=pipeline_result.model, triples=X_unseen, triples_factory=got)"
   ]
  },
  {
   "cell_type": "code",
   "execution_count": 21,
   "metadata": {},
   "outputs": [
    {
     "data": {
      "application/vnd.microsoft.datawrangler.viewer.v0+json": {
       "columns": [
        {
         "name": "index",
         "rawType": "int64",
         "type": "integer"
        },
        {
         "name": "statement",
         "rawType": "object",
         "type": "string"
        },
        {
         "name": "score",
         "rawType": "float64",
         "type": "float"
        },
        {
         "name": "prob",
         "rawType": "float64",
         "type": "float"
        }
       ],
       "conversionMethod": "pd.DataFrame",
       "ref": "82afdbdb-3295-4e4b-8ebd-406c8934037c",
       "rows": [
        [
         "19",
         "Tywin Lannister PARENT_OF Jaime Lannister",
         "-41.2967529296875",
         "1.1615771639715975e-18"
        ],
        [
         "2",
         "King's Landing SEAT_OF House Lannister of Casterly Rock",
         "-39.42206954956055",
         "7.572036969909404e-18"
        ],
        [
         "6",
         "House Stark of Winterfell IN_REGION The North",
         "-36.75614929199219",
         "1.0889481377936397e-16"
        ],
        [
         "7",
         "House Stark of Winterfell IN_REGION Dorne",
         "-31.7689208984375",
         "1.5956328733345362e-14"
        ],
        [
         "15",
         "Jaime Lannister PARENT_OF Myrcella Baratheon",
         "-13.020949363708496",
         "2.2134645405458286e-06"
        ],
        [
         "12",
         "House Hutcheson SWORN_TO House Tyrell of Highgarden",
         "-10.499933242797852",
         "2.7537529604160227e-05"
        ],
        [
         "5",
         "Daenerys Targaryen SPOUSE Craster",
         "-5.201927661895752",
         "0.005475791171193123"
        ],
        [
         "14",
         "Daenerys Targaryen ALLIED_WITH House Lannister of Casterly Rock",
         "-5.146153450012207",
         "0.005788058508187532"
        ],
        [
         "8",
         "House Tyrell of Highgarden IN_REGION Beyond the Wall",
         "-3.114161968231201",
         "0.04252685233950615"
        ],
        [
         "4",
         "Daenerys Targaryen SPOUSE Jon Snow",
         "-0.8392669558525085",
         "0.3016892075538635"
        ],
        [
         "17",
         "Cersei Lannister PARENT_OF Myrcella Baratheon",
         "-0.7439337372779846",
         "0.3221445381641388"
        ],
        [
         "18",
         "Cersei Lannister PARENT_OF Brandon Stark",
         "6.405412197113037",
         "0.9983501434326172"
        ],
        [
         "11",
         "Rhaegar Targaryen PARENT_OF Jon Snow",
         "14.744986534118652",
         "0.9999996423721313"
        ],
        [
         "16",
         "Robert I Baratheon PARENT_OF Myrcella Baratheon",
         "16.424766540527344",
         "0.9999998807907104"
        ],
        [
         "21",
         "Brienne of Tarth SPOUSE Jaime Lannister",
         "16.437007904052734",
         "0.9999998807907104"
        ],
        [
         "13",
         "Daenerys Targaryen ALLIED_WITH House Stark of Winterfell",
         "19.532283782958984",
         "1.0"
        ],
        [
         "0",
         "Jorah Mormont SPOUSE Daenerys Targaryen",
         "22.790786743164062",
         "1.0"
        ],
        [
         "20",
         "Missandei SPOUSE Grey Worm",
         "28.45195770263672",
         "1.0"
        ],
        [
         "10",
         "Brandon Stark ALLIED_WITH House Lannister of Casterly Rock",
         "34.6549072265625",
         "1.0"
        ],
        [
         "1",
         "Tyrion Lannister SPOUSE Missandei",
         "37.36741256713867",
         "1.0"
        ],
        [
         "3",
         "Sansa Stark SPOUSE Petyr Baelish",
         "43.19248580932617",
         "1.0"
        ],
        [
         "9",
         "Brandon Stark ALLIED_WITH House Stark of Winterfell",
         "48.181644439697266",
         "1.0"
        ]
       ],
       "shape": {
        "columns": 3,
        "rows": 22
       }
      },
      "text/html": [
       "<div>\n",
       "<style scoped>\n",
       "    .dataframe tbody tr th:only-of-type {\n",
       "        vertical-align: middle;\n",
       "    }\n",
       "\n",
       "    .dataframe tbody tr th {\n",
       "        vertical-align: top;\n",
       "    }\n",
       "\n",
       "    .dataframe thead th {\n",
       "        text-align: right;\n",
       "    }\n",
       "</style>\n",
       "<table border=\"1\" class=\"dataframe\">\n",
       "  <thead>\n",
       "    <tr style=\"text-align: right;\">\n",
       "      <th></th>\n",
       "      <th>statement</th>\n",
       "      <th>score</th>\n",
       "      <th>prob</th>\n",
       "    </tr>\n",
       "  </thead>\n",
       "  <tbody>\n",
       "    <tr>\n",
       "      <th>19</th>\n",
       "      <td>Tywin Lannister PARENT_OF Jaime Lannister</td>\n",
       "      <td>-41.296753</td>\n",
       "      <td>1.161577e-18</td>\n",
       "    </tr>\n",
       "    <tr>\n",
       "      <th>2</th>\n",
       "      <td>King's Landing SEAT_OF House Lannister of Cast...</td>\n",
       "      <td>-39.422070</td>\n",
       "      <td>7.572037e-18</td>\n",
       "    </tr>\n",
       "    <tr>\n",
       "      <th>6</th>\n",
       "      <td>House Stark of Winterfell IN_REGION The North</td>\n",
       "      <td>-36.756149</td>\n",
       "      <td>1.088948e-16</td>\n",
       "    </tr>\n",
       "    <tr>\n",
       "      <th>7</th>\n",
       "      <td>House Stark of Winterfell IN_REGION Dorne</td>\n",
       "      <td>-31.768921</td>\n",
       "      <td>1.595633e-14</td>\n",
       "    </tr>\n",
       "    <tr>\n",
       "      <th>15</th>\n",
       "      <td>Jaime Lannister PARENT_OF Myrcella Baratheon</td>\n",
       "      <td>-13.020949</td>\n",
       "      <td>2.213465e-06</td>\n",
       "    </tr>\n",
       "    <tr>\n",
       "      <th>12</th>\n",
       "      <td>House Hutcheson SWORN_TO House Tyrell of Highg...</td>\n",
       "      <td>-10.499933</td>\n",
       "      <td>2.753753e-05</td>\n",
       "    </tr>\n",
       "    <tr>\n",
       "      <th>5</th>\n",
       "      <td>Daenerys Targaryen SPOUSE Craster</td>\n",
       "      <td>-5.201928</td>\n",
       "      <td>5.475791e-03</td>\n",
       "    </tr>\n",
       "    <tr>\n",
       "      <th>14</th>\n",
       "      <td>Daenerys Targaryen ALLIED_WITH House Lannister...</td>\n",
       "      <td>-5.146153</td>\n",
       "      <td>5.788059e-03</td>\n",
       "    </tr>\n",
       "    <tr>\n",
       "      <th>8</th>\n",
       "      <td>House Tyrell of Highgarden IN_REGION Beyond th...</td>\n",
       "      <td>-3.114162</td>\n",
       "      <td>4.252685e-02</td>\n",
       "    </tr>\n",
       "    <tr>\n",
       "      <th>4</th>\n",
       "      <td>Daenerys Targaryen SPOUSE Jon Snow</td>\n",
       "      <td>-0.839267</td>\n",
       "      <td>3.016892e-01</td>\n",
       "    </tr>\n",
       "    <tr>\n",
       "      <th>17</th>\n",
       "      <td>Cersei Lannister PARENT_OF Myrcella Baratheon</td>\n",
       "      <td>-0.743934</td>\n",
       "      <td>3.221445e-01</td>\n",
       "    </tr>\n",
       "    <tr>\n",
       "      <th>18</th>\n",
       "      <td>Cersei Lannister PARENT_OF Brandon Stark</td>\n",
       "      <td>6.405412</td>\n",
       "      <td>9.983501e-01</td>\n",
       "    </tr>\n",
       "    <tr>\n",
       "      <th>11</th>\n",
       "      <td>Rhaegar Targaryen PARENT_OF Jon Snow</td>\n",
       "      <td>14.744987</td>\n",
       "      <td>9.999996e-01</td>\n",
       "    </tr>\n",
       "    <tr>\n",
       "      <th>16</th>\n",
       "      <td>Robert I Baratheon PARENT_OF Myrcella Baratheon</td>\n",
       "      <td>16.424767</td>\n",
       "      <td>9.999999e-01</td>\n",
       "    </tr>\n",
       "    <tr>\n",
       "      <th>21</th>\n",
       "      <td>Brienne of Tarth SPOUSE Jaime Lannister</td>\n",
       "      <td>16.437008</td>\n",
       "      <td>9.999999e-01</td>\n",
       "    </tr>\n",
       "    <tr>\n",
       "      <th>13</th>\n",
       "      <td>Daenerys Targaryen ALLIED_WITH House Stark of ...</td>\n",
       "      <td>19.532284</td>\n",
       "      <td>1.000000e+00</td>\n",
       "    </tr>\n",
       "    <tr>\n",
       "      <th>0</th>\n",
       "      <td>Jorah Mormont SPOUSE Daenerys Targaryen</td>\n",
       "      <td>22.790787</td>\n",
       "      <td>1.000000e+00</td>\n",
       "    </tr>\n",
       "    <tr>\n",
       "      <th>20</th>\n",
       "      <td>Missandei SPOUSE Grey Worm</td>\n",
       "      <td>28.451958</td>\n",
       "      <td>1.000000e+00</td>\n",
       "    </tr>\n",
       "    <tr>\n",
       "      <th>10</th>\n",
       "      <td>Brandon Stark ALLIED_WITH House Lannister of C...</td>\n",
       "      <td>34.654907</td>\n",
       "      <td>1.000000e+00</td>\n",
       "    </tr>\n",
       "    <tr>\n",
       "      <th>1</th>\n",
       "      <td>Tyrion Lannister SPOUSE Missandei</td>\n",
       "      <td>37.367413</td>\n",
       "      <td>1.000000e+00</td>\n",
       "    </tr>\n",
       "    <tr>\n",
       "      <th>3</th>\n",
       "      <td>Sansa Stark SPOUSE Petyr Baelish</td>\n",
       "      <td>43.192486</td>\n",
       "      <td>1.000000e+00</td>\n",
       "    </tr>\n",
       "    <tr>\n",
       "      <th>9</th>\n",
       "      <td>Brandon Stark ALLIED_WITH House Stark of Winte...</td>\n",
       "      <td>48.181644</td>\n",
       "      <td>1.000000e+00</td>\n",
       "    </tr>\n",
       "  </tbody>\n",
       "</table>\n",
       "</div>"
      ],
      "text/plain": [
       "                                            statement      score          prob\n",
       "19          Tywin Lannister PARENT_OF Jaime Lannister -41.296753  1.161577e-18\n",
       "2   King's Landing SEAT_OF House Lannister of Cast... -39.422070  7.572037e-18\n",
       "6       House Stark of Winterfell IN_REGION The North -36.756149  1.088948e-16\n",
       "7           House Stark of Winterfell IN_REGION Dorne -31.768921  1.595633e-14\n",
       "15       Jaime Lannister PARENT_OF Myrcella Baratheon -13.020949  2.213465e-06\n",
       "12  House Hutcheson SWORN_TO House Tyrell of Highg... -10.499933  2.753753e-05\n",
       "5                   Daenerys Targaryen SPOUSE Craster  -5.201928  5.475791e-03\n",
       "14  Daenerys Targaryen ALLIED_WITH House Lannister...  -5.146153  5.788059e-03\n",
       "8   House Tyrell of Highgarden IN_REGION Beyond th...  -3.114162  4.252685e-02\n",
       "4                  Daenerys Targaryen SPOUSE Jon Snow  -0.839267  3.016892e-01\n",
       "17      Cersei Lannister PARENT_OF Myrcella Baratheon  -0.743934  3.221445e-01\n",
       "18           Cersei Lannister PARENT_OF Brandon Stark   6.405412  9.983501e-01\n",
       "11               Rhaegar Targaryen PARENT_OF Jon Snow  14.744987  9.999996e-01\n",
       "16    Robert I Baratheon PARENT_OF Myrcella Baratheon  16.424767  9.999999e-01\n",
       "21            Brienne of Tarth SPOUSE Jaime Lannister  16.437008  9.999999e-01\n",
       "13  Daenerys Targaryen ALLIED_WITH House Stark of ...  19.532284  1.000000e+00\n",
       "0             Jorah Mormont SPOUSE Daenerys Targaryen  22.790787  1.000000e+00\n",
       "20                         Missandei SPOUSE Grey Worm  28.451958  1.000000e+00\n",
       "10  Brandon Stark ALLIED_WITH House Lannister of C...  34.654907  1.000000e+00\n",
       "1                   Tyrion Lannister SPOUSE Missandei  37.367413  1.000000e+00\n",
       "3                    Sansa Stark SPOUSE Petyr Baelish  43.192486  1.000000e+00\n",
       "9   Brandon Stark ALLIED_WITH House Stark of Winte...  48.181644  1.000000e+00"
      ]
     },
     "execution_count": 21,
     "metadata": {},
     "output_type": "execute_result"
    }
   ],
   "source": [
    "# scores are real numbers that need to be translated into probabilities [0,1] \n",
    "# for this, we use the expit transform.\n",
    "\n",
    "from scipy.special import expit\n",
    "processed_results = pack.process().df\n",
    "# print(processed_results)\n",
    "\n",
    "probs = expit(processed_results['score'])\n",
    "# print(probs)\n",
    "\n",
    "processed_results['prob'] = probs\n",
    "processed_results['triple'] = list(zip([' '.join(x) for x in X_unseen]))\n",
    "\n",
    "# processed_results\n",
    "pd.DataFrame(list(zip([' '.join(x) for x in X_unseen],  \n",
    "                      np.squeeze(processed_results['score']),\n",
    "                      np.squeeze(probs))), \n",
    "             columns=['statement', 'score', 'prob']).sort_values(\"score\")"
   ]
  },
  {
   "cell_type": "markdown",
   "metadata": {},
   "source": [
    "NB : the probabilities are not calibrated in any sense. To calibrate them, one may use a procedure such as [Platt scaling](https://en.wikipedia.org/wiki/Platt_scaling) or [Isotonic regression](https://en.wikipedia.org/wiki/Isotonic_regression). The challenge is to define what is a true triple and what is a false one, as the calibration of the probability of a triple being true depends on the base rate of positives and negatives."
   ]
  },
  {
   "cell_type": "markdown",
   "metadata": {},
   "source": [
    "### Exercise 5\n",
    "\n",
    "Analyse the results in the tables. Some predicted links are very likely to be true, others  capture things that never really happened. Can you spot which ones?"
   ]
  },
  {
   "cell_type": "code",
   "execution_count": 22,
   "metadata": {},
   "outputs": [
    {
     "name": "stderr",
     "output_type": "stream",
     "text": [
      "WARNING:torch_max_mem.api:Encountered tensors on device_types={'cpu'} while only ['cuda'] are considered safe for automatic memory utilization maximization. This may lead to undocumented crashes (but can be safe, too).\n"
     ]
    },
    {
     "data": {
      "application/vnd.microsoft.datawrangler.viewer.v0+json": {
       "columns": [
        {
         "name": "index",
         "rawType": "int64",
         "type": "integer"
        },
        {
         "name": "statement",
         "rawType": "object",
         "type": "string"
        },
        {
         "name": "score",
         "rawType": "float32",
         "type": "float"
        },
        {
         "name": "probability",
         "rawType": "float32",
         "type": "float"
        }
       ],
       "conversionMethod": "pd.DataFrame",
       "ref": "c6d68c11-304f-4bb8-aecc-760fb3408ce4",
       "rows": [
        [
         "9",
         "Brandon Stark ALLIED_WITH House Stark of Winterfell",
         "-5.829995",
         "0.0029294842"
        ],
        [
         "1",
         "Tyrion Lannister SPOUSE Missandei",
         "-6.4179306",
         "0.0016293708"
        ],
        [
         "10",
         "Brandon Stark ALLIED_WITH House Lannister of Casterly Rock",
         "-7.2897",
         "0.00068206724"
        ],
        [
         "11",
         "Rhaegar Targaryen PARENT_OF Jon Snow",
         "-7.4459558",
         "0.00058345724"
        ],
        [
         "15",
         "Jaime Lannister PARENT_OF Myrcella Baratheon",
         "-8.019965",
         "0.00032872337"
        ],
        [
         "17",
         "Cersei Lannister PARENT_OF Myrcella Baratheon",
         "-8.151812",
         "0.00028812973"
        ],
        [
         "6",
         "House Stark of Winterfell IN_REGION The North",
         "-8.390347",
         "0.00022699704"
        ],
        [
         "2",
         "King's Landing SEAT_OF House Lannister of Casterly Rock",
         "-8.637826",
         "0.00017724045"
        ],
        [
         "0",
         "Jorah Mormont SPOUSE Daenerys Targaryen",
         "-8.808264",
         "0.00014947024"
        ],
        [
         "19",
         "Tywin Lannister PARENT_OF Jaime Lannister",
         "-8.889098",
         "0.00013786495"
        ]
       ],
       "shape": {
        "columns": 3,
        "rows": 10
       }
      },
      "text/html": [
       "<div>\n",
       "<style scoped>\n",
       "    .dataframe tbody tr th:only-of-type {\n",
       "        vertical-align: middle;\n",
       "    }\n",
       "\n",
       "    .dataframe tbody tr th {\n",
       "        vertical-align: top;\n",
       "    }\n",
       "\n",
       "    .dataframe thead th {\n",
       "        text-align: right;\n",
       "    }\n",
       "</style>\n",
       "<table border=\"1\" class=\"dataframe\">\n",
       "  <thead>\n",
       "    <tr style=\"text-align: right;\">\n",
       "      <th></th>\n",
       "      <th>statement</th>\n",
       "      <th>score</th>\n",
       "      <th>probability</th>\n",
       "    </tr>\n",
       "  </thead>\n",
       "  <tbody>\n",
       "    <tr>\n",
       "      <th>9</th>\n",
       "      <td>Brandon Stark ALLIED_WITH House Stark of Winte...</td>\n",
       "      <td>-5.829995</td>\n",
       "      <td>0.002929</td>\n",
       "    </tr>\n",
       "    <tr>\n",
       "      <th>1</th>\n",
       "      <td>Tyrion Lannister SPOUSE Missandei</td>\n",
       "      <td>-6.417931</td>\n",
       "      <td>0.001629</td>\n",
       "    </tr>\n",
       "    <tr>\n",
       "      <th>10</th>\n",
       "      <td>Brandon Stark ALLIED_WITH House Lannister of C...</td>\n",
       "      <td>-7.289700</td>\n",
       "      <td>0.000682</td>\n",
       "    </tr>\n",
       "    <tr>\n",
       "      <th>11</th>\n",
       "      <td>Rhaegar Targaryen PARENT_OF Jon Snow</td>\n",
       "      <td>-7.445956</td>\n",
       "      <td>0.000583</td>\n",
       "    </tr>\n",
       "    <tr>\n",
       "      <th>15</th>\n",
       "      <td>Jaime Lannister PARENT_OF Myrcella Baratheon</td>\n",
       "      <td>-8.019965</td>\n",
       "      <td>0.000329</td>\n",
       "    </tr>\n",
       "    <tr>\n",
       "      <th>17</th>\n",
       "      <td>Cersei Lannister PARENT_OF Myrcella Baratheon</td>\n",
       "      <td>-8.151812</td>\n",
       "      <td>0.000288</td>\n",
       "    </tr>\n",
       "    <tr>\n",
       "      <th>6</th>\n",
       "      <td>House Stark of Winterfell IN_REGION The North</td>\n",
       "      <td>-8.390347</td>\n",
       "      <td>0.000227</td>\n",
       "    </tr>\n",
       "    <tr>\n",
       "      <th>2</th>\n",
       "      <td>King's Landing SEAT_OF House Lannister of Cast...</td>\n",
       "      <td>-8.637826</td>\n",
       "      <td>0.000177</td>\n",
       "    </tr>\n",
       "    <tr>\n",
       "      <th>0</th>\n",
       "      <td>Jorah Mormont SPOUSE Daenerys Targaryen</td>\n",
       "      <td>-8.808264</td>\n",
       "      <td>0.000149</td>\n",
       "    </tr>\n",
       "    <tr>\n",
       "      <th>19</th>\n",
       "      <td>Tywin Lannister PARENT_OF Jaime Lannister</td>\n",
       "      <td>-8.889098</td>\n",
       "      <td>0.000138</td>\n",
       "    </tr>\n",
       "  </tbody>\n",
       "</table>\n",
       "</div>"
      ],
      "text/plain": [
       "                                            statement     score  probability\n",
       "9   Brandon Stark ALLIED_WITH House Stark of Winte... -5.829995     0.002929\n",
       "1                   Tyrion Lannister SPOUSE Missandei -6.417931     0.001629\n",
       "10  Brandon Stark ALLIED_WITH House Lannister of C... -7.289700     0.000682\n",
       "11               Rhaegar Targaryen PARENT_OF Jon Snow -7.445956     0.000583\n",
       "15       Jaime Lannister PARENT_OF Myrcella Baratheon -8.019965     0.000329\n",
       "17      Cersei Lannister PARENT_OF Myrcella Baratheon -8.151812     0.000288\n",
       "6       House Stark of Winterfell IN_REGION The North -8.390347     0.000227\n",
       "2   King's Landing SEAT_OF House Lannister of Cast... -8.637826     0.000177\n",
       "0             Jorah Mormont SPOUSE Daenerys Targaryen -8.808264     0.000149\n",
       "19          Tywin Lannister PARENT_OF Jaime Lannister -8.889098     0.000138"
      ]
     },
     "execution_count": 22,
     "metadata": {},
     "output_type": "execute_result"
    }
   ],
   "source": [
    "# Load your best model (TransE model that performed best in Exercise 4)\n",
    "import torch\n",
    "best_model = torch.load('./data/best_model.pkl')\n",
    "\n",
    "# Use PyKEEN's prediction functionality\n",
    "from pykeen.predict import predict_triples\n",
    "\n",
    "# Predict scores for unseen triples\n",
    "pack = predict_triples(model=best_model, triples=X_unseen, triples_factory=got)\n",
    "\n",
    "# Process the results and convert to probabilities\n",
    "from scipy.special import expit\n",
    "processed_results = pack.process().df\n",
    "probs = expit(processed_results['score'])  # Convert scores to probabilities\n",
    "\n",
    "# Create a DataFrame with the results\n",
    "result_df = pd.DataFrame({\n",
    "    'statement': [' '.join(x) for x in X_unseen],\n",
    "    'score': np.squeeze(processed_results['score']),\n",
    "    'probability': np.squeeze(probs)\n",
    "}).sort_values(\"score\", ascending=False)\n",
    "\n",
    "# Display the results\n",
    "result_df.head(10)"
   ]
  },
  {
   "cell_type": "markdown",
   "metadata": {},
   "source": [
    "# 6 Visualizing Embeddings\n",
    "\n",
    "It is possible to get an intuition on how the learned embedding are structured by plotting them into a 2-dimensional space. We can perform Principal Component Analysis on the entity embeddings, keeping 2 (or 3) principal components. ComplEx adds a further complication layer, as it uses complex vectors, which are in a sense already 2-dimensional. To tackle this, we will simply apply a Real-Valued Transformation by stacking the real and imaginary part of the embeddings."
   ]
  },
  {
   "cell_type": "code",
   "execution_count": 23,
   "metadata": {},
   "outputs": [
    {
     "name": "stderr",
     "output_type": "stream",
     "text": [
      "WARNING:pykeen.pipeline.api:No random seed is specified. Setting to 4289512057.\n",
      "WARNING:pykeen.utils:No cuda devices were available. The model runs on CPU\n",
      "INFO:pykeen.pipeline.api:Using device: None\n",
      "Training epochs on cpu: 100%|██████████| 400/400 [01:31<00:00,  4.36epoch/s, loss=0.00217, prev_loss=0.00208]\n",
      "INFO:pykeen.evaluation.evaluator:Currently automatic memory optimization only supports GPUs, but you're using a CPU. Therefore, the batch_size will be set to the default value.\n",
      "INFO:pykeen.evaluation.evaluator:No evaluation batch_size provided. Setting batch_size to '32'.\n",
      "Evaluating on cpu: 100%|██████████| 159/159 [00:00<00:00, 695triple/s] \n",
      "INFO:pykeen.evaluation.evaluator:Evaluation took 0.24s seconds\n"
     ]
    },
    {
     "name": "stdout",
     "output_type": "stream",
     "text": [
      "0.10238374024629593\n",
      "0.16981132075471697\n"
     ]
    }
   ],
   "source": [
    "import numpy as np\n",
    "import matplotlib.pyplot as plt\n",
    "from sklearn.decomposition import PCA\n",
    "pipeline_result = pipeline(\n",
    "    model='ComplEx',\n",
    "    training=got_training,\n",
    "    testing=got_testing,\n",
    "    epochs=400,\n",
    "    dimensions=12,\n",
    "    optimizer_kwargs={'lr':0.033},\n",
    "    loss = 'Negative Log Likelihood Loss',\n",
    "    regularizer='LP', \n",
    "    regularizer_kwargs={'p':2, 'weight':1e-5}, \n",
    "    \n",
    "    negative_sampler='basic',\n",
    "    negative_sampler_kwargs=dict(\n",
    "        filtered=True,\n",
    "        num_negs_per_pos=5\n",
    "    ),\n",
    "    evaluator_kwargs=dict(\n",
    "        filtered=True,\n",
    "    ),\n",
    "    training_kwargs={'batch_size': 5000}\n",
    ")\n",
    "print(pipeline_result.get_metric('mrr'))\n",
    "print(pipeline_result.get_metric('hits@10'))\n",
    "\n"
   ]
  },
  {
   "cell_type": "code",
   "execution_count": 24,
   "metadata": {},
   "outputs": [
    {
     "data": {
      "text/plain": [
       "(-4.0, 4.0)"
      ]
     },
     "execution_count": 24,
     "metadata": {},
     "output_type": "execute_result"
    },
    {
     "data": {
      "image/png": "[encoded data removed]",
      "text/plain": [
       "<Figure size 1000x1000 with 1 Axes>"
      ]
     },
     "metadata": {},
     "output_type": "display_data"
    }
   ],
   "source": [
    "from sklearn.cluster import KMeans\n",
    "model = pipeline_result.model\n",
    "entity_to_id = got_training.entity_to_id\n",
    "relation_to_id = got_training.relation_to_id\n",
    "\n",
    "pca = PCA(n_components=2)\n",
    "entity_embeddings = np.hstack([model.entity_representations[0](indices=None).detach().numpy().real, model.entity_representations[0](indices=None).detach().numpy().imag])\n",
    "m = pca.fit(entity_embeddings)\n",
    "\n",
    "eu = m.transform(entity_embeddings)\n",
    "\n",
    "kmeans = KMeans(n_clusters=4, n_init=10, random_state=42) #cheating a bit with the random state here\n",
    "cluster_labels = kmeans.fit_predict(eu)\n",
    "\n",
    "#let's pick some interesting names\n",
    "people = ['Eddard Stark', 'Arya Stark', 'Jon Snow',  \n",
    " 'Sansa Stark', 'Brandon Stark', 'Rickon Stark', 'Catelyn Stark', 'Robb Stark',  \n",
    " 'Benjen Stark', 'Lyanna Stark', 'Theon Greyjoy', 'Balon Greyjoy',  \n",
    " 'Daenerys Targaryen', 'Viserys Targaryen', 'Aegon Targaryen', 'Rhaegar Targaryen',  \n",
    " 'Tyrion Lannister', 'Jaime Lannister', 'Cersei Lannister', 'Tywin Lannister',  \n",
    " 'Kevan Lannister','Joffrey Baratheon', 'Tommen Baratheon',  \n",
    " 'Stannis Baratheon', 'Renly Baratheon', 'Robert I Baratheon',  \n",
    " 'Jorah Mormont', 'Jeor Mormont']\n",
    "houses = ['House Stark of Winterfell', 'House Lannister of Casterly Rock',\"House Targaryen of King's Landing\",\n",
    "  'House Baratheon of Dragonstone', 'House Tyrell of Highgarden', 'House Greyjoy of Pyke']  \n",
    "\n",
    "to_plot = people + houses\n",
    "ids = [entity_to_id[name] for name in to_plot]\n",
    "\n",
    "plt.figure(figsize=(10, 10))\n",
    "sc = plt.scatter(eu[ids, 0], eu[ids, 1], c=cluster_labels[ids], cmap='tab10', alpha=0.7)\n",
    "\n",
    "for i, entity, c in zip(ids, people + houses, cluster_labels):\n",
    "    \n",
    "    plt.annotate(\n",
    "        text=entity,\n",
    "        xy=(eu[i, 0], eu[i, 1]),\n",
    "        color=\"tab:blue\",\n",
    "        ha=\"center\", va=\"top\"\n",
    "    )\n",
    "\n",
    "lim = 4\n",
    "\n",
    "\n",
    "plt.xlim([-lim, lim])\n",
    "plt.ylim([-lim, lim])\n",
    "\n"
   ]
  },
  {
   "cell_type": "markdown",
   "metadata": {},
   "source": [
    "# 7 More Visualisation"
   ]
  },
  {
   "cell_type": "markdown",
   "metadata": {},
   "source": [
    "[Tensorboard](https://www.tensorflow.org/tensorboard) allows to dig into the workings of our model, plot how it is learning, and visualize [high-dimensional embeddings](https://projector.tensorflow.org/). See [this tutorial](https://www.tensorflow.org/tensorboard/get_started) to get started with Tensorflow and see [here](https://pykeen.readthedocs.io/en/stable/tutorial/trackers/using_tensorboard.html) for Tensorboard with PyKEEN.\n",
    "\n",
    "First ytou neeed to start the tensorboard web application from the command line with \n",
    "\n",
    "$ tensorboard --logdir=~/.data/pykeen/logs/tensorboard/\n",
    "\n",
    "and then we can add tensorboard as the result_tracker in our pipeline."
   ]
  },
  {
   "cell_type": "code",
   "execution_count": 29,
   "metadata": {},
   "outputs": [
    {
     "name": "stderr",
     "output_type": "stream",
     "text": [
      "WARNING:pykeen.pipeline.api:No random seed is specified. Setting to 2009197443.\n",
      "WARNING:pykeen.utils:No cuda devices were available. The model runs on CPU\n",
      "INFO:pykeen.pipeline.api:Using device: None\n",
      "Training epochs on cpu: 100%|██████████| 200/200 [00:50<00:00,  3.96epoch/s, loss=0.277, prev_loss=0.299]\n",
      "INFO:pykeen.evaluation.evaluator:Currently automatic memory optimization only supports GPUs, but you're using a CPU. Therefore, the batch_size will be set to the default value.\n",
      "INFO:pykeen.evaluation.evaluator:No evaluation batch_size provided. Setting batch_size to '32'.\n",
      "Evaluating on cpu: 100%|██████████| 159/159 [00:00<00:00, 611triple/s] \n",
      "INFO:pykeen.evaluation.evaluator:Evaluation took 0.30s seconds\n"
     ]
    }
   ],
   "source": [
    "pipeline_result = pipeline(\n",
    "    model='ComplEx',\n",
    "    training=got_training,\n",
    "    testing=got_testing,\n",
    "    training_kwargs=dict(\n",
    "        num_epochs=200\n",
    "    ),\n",
    "    dimensions=150,\n",
    "    optimizer='adam',\n",
    "    optimizer_kwargs={'lr':1e-3},\n",
    "    loss='pairwisehinge', \n",
    "    regularizer='LP', \n",
    "    regularizer_kwargs={'p':3, 'weight':1e-5}, \n",
    "    negative_sampler='basic',\n",
    "    negative_sampler_kwargs=dict(\n",
    "        filtered=True,\n",
    "    ),\n",
    "    result_tracker='tensorboard'\n",
    ")"
   ]
  },
  {
   "cell_type": "markdown",
   "metadata": {},
   "source": [
    "### Exercise 7 Your Own Data now\n",
    "\n",
    "Choose a dataset of your own. Best if it is the data you are using in your group project. \n",
    "\n",
    "- Create a training and testset. \n",
    "- Train your model to compute Knowledge Graph Embeddings, and save the best parameters model. - Predict new links over your dataset\n",
    "- Visualise the embeddings you computed \n",
    "- Optional : cluster your embeddings, [see this tutorial](https://docs.ampligraph.org/en/1.4.0/tutorials/ClusteringAndClassificationWithEmbeddings.html)"
   ]
  },
  {
   "cell_type": "code",
   "execution_count": null,
   "metadata": {},
   "outputs": [],
   "source": []
  }
 ],
 "metadata": {
  "kernelspec": {
   "display_name": "KGST",
   "language": "python",
   "name": "python3"
  },
  "language_info": {
   "codemirror_mode": {
    "name": "ipython",
    "version": 3
   },
   "file_extension": ".py",
   "mimetype": "text/x-python",
   "name": "python",
   "nbconvert_exporter": "python",
   "pygments_lexer": "ipython3",
   "version": "3.10.16"
  }
 },
 "nbformat": 4,
 "nbformat_minor": 4
}

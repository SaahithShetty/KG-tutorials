{
 "cells": [
  {
   "cell_type": "markdown",
   "metadata": {},
   "source": [
    "# Knowledge Graphs and Semantic Technologies -- Ontology Engineering Tutorial"
   ]
  },
  {
   "attachments": {},
   "cell_type": "markdown",
   "metadata": {},
   "source": [
    "## Engineer your ontology based on a .csv file, and transform it into RDF/OWL using [Chowlk](https://chowlk.linkeddata.es/)\n",
    "\n",
    "1. Read these [slides](https://protect.oeg.fi.upm.es/ontoworkshop/chowlk.pdf) which explain the Chowlk notation in detail. You need to follow this notation to be able to transform your drawn ontology into RDF/OWL.\n",
    "\n",
    "2. Follow the instructions diligently on downloading [Chowlk](https://chowlk.linkeddata.es/) and uploading it into the online tool [draw.io/diagrams.net](https://app.diagrams.net/). Now you are ready to engineer your ontology.\n",
    "\n",
    "3. Look at this [sheet](https://github.com/kai-vu/KRW-tutorials/blob/master/data/musicoset_metadata/artists.csv), and design your (simple) ontology by drawing it in the online tool:\n",
    "   - Draw the ontology: classes, relationships, domain/range definitions. Reuse existing properties and classes that you can find in: https://lov.linkeddata.es/dataset/lov/ \\\n",
    "   - Transform at least 10 entities from the csv file into named individuals using the Chowlk notation.\n",
    "   \n",
    "\n",
    "4. Ensure you are following the notation correctly. Export it in XML from the online tool and use the Chawlk online service to convert it to RDF/OWL. You can check if the conversion worked by opening the ontology using [Protege](https://protege.stanford.edu/) or by inspecting it in a text editor. Make sure the ontology is correct and corresponds to what you have drawn. Fix any mistakes you find and once you are satisfied you can upload the ontology file (RDF/OWL) to Canvas.\n",
    "\n",
    "For creating individuals of the Hybrid Intelligence Ontology (A2.1) you can use the tool of your choice: draw.io and Chowlk, Protege or python. Most important is that you follow the template, don't change the ontology, check your work for correctness and upload the RDF file to Canvas."
   ]
  }
 ],
 "metadata": {
  "kernelspec": {
   "display_name": "Python 3 (ipykernel)",
   "language": "python",
   "name": "python3"
  },
  "language_info": {
   "codemirror_mode": {
    "name": "ipython",
    "version": 3
   },
   "file_extension": ".py",
   "mimetype": "text/x-python",
   "name": "python",
   "nbconvert_exporter": "python",
   "pygments_lexer": "ipython3",
   "version": "3.9.12"
  },
  "vscode": {
   "interpreter": {
    "hash": "aee8b7b246df8f9039afb4144a1f6fd8d2ca17a180786b69acc140d282b71a49"
   }
  }
 },
 "nbformat": 4,
 "nbformat_minor": 2
}

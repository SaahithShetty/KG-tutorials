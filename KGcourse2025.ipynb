{
  "nbformat": 4,
  "nbformat_minor": 0,
  "metadata": {
    "colab": {
      "provenance": [],
      "toc_visible": true
    },
    "kernelspec": {
      "name": "python3",
      "display_name": "Python 3"
    },
    "language_info": {
      "name": "python"
    }
  },
  "cells": [
    {
      "cell_type": "code",
      "execution_count": null,
      "metadata": {
        "colab": {
          "base_uri": "https://localhost:8080/"
        },
        "id": "n17o6QLYTbqx",
        "outputId": "88f7ee26-8bef-4819-c8ca-7c06726a5cc2"
      },
      "outputs": [
        {
          "output_type": "stream",
          "name": "stdout",
          "text": [
            "Collecting rdflib\n",
            "  Downloading rdflib-7.1.3-py3-none-any.whl.metadata (11 kB)\n",
            "Collecting owlrl\n",
            "  Downloading owlrl-7.1.3-py3-none-any.whl.metadata (3.6 kB)\n",
            "Requirement already satisfied: pyparsing<4,>=2.1.0 in /usr/local/lib/python3.11/dist-packages (from rdflib) (3.2.1)\n",
            "Downloading rdflib-7.1.3-py3-none-any.whl (564 kB)\n",
            "\u001b[?25l   \u001b[90m━━━━━━━━━━━━━━━━━━━━━━━━━━━━━━━━━━━━━━━━\u001b[0m \u001b[32m0.0/564.9 kB\u001b[0m \u001b[31m?\u001b[0m eta \u001b[36m-:--:--\u001b[0m\r\u001b[2K   \u001b[90m━━━━━━━━━━━━━━━━━━━━━━━━━━━━━━━━━━━━━━━━\u001b[0m \u001b[32m564.9/564.9 kB\u001b[0m \u001b[31m28.1 MB/s\u001b[0m eta \u001b[36m0:00:00\u001b[0m\n",
            "\u001b[?25hDownloading owlrl-7.1.3-py3-none-any.whl (51 kB)\n",
            "\u001b[?25l   \u001b[90m━━━━━━━━━━━━━━━━━━━━━━━━━━━━━━━━━━━━━━━━\u001b[0m \u001b[32m0.0/51.9 kB\u001b[0m \u001b[31m?\u001b[0m eta \u001b[36m-:--:--\u001b[0m\r\u001b[2K   \u001b[90m━━━━━━━━━━━━━━━━━━━━━━━━━━━━━━━━━━━━━━━━\u001b[0m \u001b[32m51.9/51.9 kB\u001b[0m \u001b[31m3.9 MB/s\u001b[0m eta \u001b[36m0:00:00\u001b[0m\n",
            "\u001b[?25hInstalling collected packages: rdflib, owlrl\n",
            "Successfully installed owlrl-7.1.3 rdflib-7.1.3\n"
          ]
        }
      ],
      "source": [
        "import sys\n",
        "!{sys.executable} -m pip install rdflib owlrl\n",
        "\n",
        "# utilities\n",
        "import pandas as pd\n",
        "\n",
        "# libraries to handle triples and graphs\n",
        "from rdflib import Graph, Namespace, URIRef, Literal, BNode\n",
        "from rdflib.namespace import RDFS, RDF, OWL\n",
        "\n",
        "# libraries to handle reasoning\n",
        "from owlrl import DeductiveClosure, OWLRL_Semantics"
      ]
    },
    {
      "cell_type": "markdown",
      "source": [
        "# Loading Graphs"
      ],
      "metadata": {
        "id": "dgsjg48qqb1l"
      }
    },
    {
      "cell_type": "code",
      "source": [
        "# utility variable : list of namespaces that we will need for querying\n",
        "namespaces = {'rdf': RDF, 'rdfs' : RDFS, \"\": 'http://example.org/', 'owl': OWL}"
      ],
      "metadata": {
        "id": "cTNW9AHhfFZU"
      },
      "execution_count": null,
      "outputs": []
    },
    {
      "cell_type": "code",
      "source": [
        "# initialise an empty graph\n",
        "myKnowledgeGraph = Graph()\n",
        "\n",
        "# parse a knowledge graph from a local file\n",
        "myKnowledgeGraph = Graph().parse(\"./sample_data/kitchen-exercise.ttl\")"
      ],
      "metadata": {
        "id": "pnbeUbWhUGkP",
        "colab": {
          "base_uri": "https://localhost:8080/",
          "height": 321
        },
        "outputId": "39b9e267-53a6-454e-ac07-47490f174e94"
      },
      "execution_count": null,
      "outputs": [
        {
          "output_type": "error",
          "ename": "FileNotFoundError",
          "evalue": "[Errno 2] No such file or directory: '/sample_data/kitchen-exercise.ttl'",
          "traceback": [
            "\u001b[0;31m---------------------------------------------------------------------------\u001b[0m",
            "\u001b[0;31mFileNotFoundError\u001b[0m                         Traceback (most recent call last)",
            "\u001b[0;32m<ipython-input-4-44afc8464f62>\u001b[0m in \u001b[0;36m<cell line: 0>\u001b[0;34m()\u001b[0m\n\u001b[1;32m      3\u001b[0m \u001b[0;34m\u001b[0m\u001b[0m\n\u001b[1;32m      4\u001b[0m \u001b[0;31m# parse a knowledge graph from a local file\u001b[0m\u001b[0;34m\u001b[0m\u001b[0;34m\u001b[0m\u001b[0m\n\u001b[0;32m----> 5\u001b[0;31m \u001b[0mmyKnowledgeGraph\u001b[0m \u001b[0;34m=\u001b[0m \u001b[0mGraph\u001b[0m\u001b[0;34m(\u001b[0m\u001b[0;34m)\u001b[0m\u001b[0;34m.\u001b[0m\u001b[0mparse\u001b[0m\u001b[0;34m(\u001b[0m\u001b[0;34m\"./sample_data/kitchen-exercise.ttl\"\u001b[0m\u001b[0;34m)\u001b[0m\u001b[0;34m\u001b[0m\u001b[0;34m\u001b[0m\u001b[0m\n\u001b[0m",
            "\u001b[0;32m/usr/local/lib/python3.11/dist-packages/rdflib/graph.py\u001b[0m in \u001b[0;36mparse\u001b[0;34m(self, source, publicID, format, location, file, data, **args)\u001b[0m\n\u001b[1;32m   1505\u001b[0m         \"\"\"\n\u001b[1;32m   1506\u001b[0m \u001b[0;34m\u001b[0m\u001b[0m\n\u001b[0;32m-> 1507\u001b[0;31m         source = create_input_source(\n\u001b[0m\u001b[1;32m   1508\u001b[0m             \u001b[0msource\u001b[0m\u001b[0;34m=\u001b[0m\u001b[0msource\u001b[0m\u001b[0;34m,\u001b[0m\u001b[0;34m\u001b[0m\u001b[0;34m\u001b[0m\u001b[0m\n\u001b[1;32m   1509\u001b[0m             \u001b[0mpublicID\u001b[0m\u001b[0;34m=\u001b[0m\u001b[0mpublicID\u001b[0m\u001b[0;34m,\u001b[0m\u001b[0;34m\u001b[0m\u001b[0;34m\u001b[0m\u001b[0m\n",
            "\u001b[0;32m/usr/local/lib/python3.11/dist-packages/rdflib/parser.py\u001b[0m in \u001b[0;36mcreate_input_source\u001b[0;34m(source, publicID, location, file, data, format)\u001b[0m\n\u001b[1;32m    733\u001b[0m             \u001b[0mfile\u001b[0m\u001b[0;34m,\u001b[0m\u001b[0;34m\u001b[0m\u001b[0;34m\u001b[0m\u001b[0m\n\u001b[1;32m    734\u001b[0m             \u001b[0minput_source\u001b[0m\u001b[0;34m,\u001b[0m\u001b[0;34m\u001b[0m\u001b[0;34m\u001b[0m\u001b[0m\n\u001b[0;32m--> 735\u001b[0;31m         \u001b[0;34m)\u001b[0m \u001b[0;34m=\u001b[0m \u001b[0m_create_input_source_from_location\u001b[0m\u001b[0;34m(\u001b[0m\u001b[0;34m\u001b[0m\u001b[0;34m\u001b[0m\u001b[0m\n\u001b[0m\u001b[1;32m    736\u001b[0m             \u001b[0mfile\u001b[0m\u001b[0;34m=\u001b[0m\u001b[0mfile\u001b[0m\u001b[0;34m,\u001b[0m\u001b[0;34m\u001b[0m\u001b[0;34m\u001b[0m\u001b[0m\n\u001b[1;32m    737\u001b[0m             \u001b[0mformat\u001b[0m\u001b[0;34m=\u001b[0m\u001b[0mformat\u001b[0m\u001b[0;34m,\u001b[0m\u001b[0;34m\u001b[0m\u001b[0;34m\u001b[0m\u001b[0m\n",
            "\u001b[0;32m/usr/local/lib/python3.11/dist-packages/rdflib/parser.py\u001b[0m in \u001b[0;36m_create_input_source_from_location\u001b[0;34m(file, format, input_source, location)\u001b[0m\n\u001b[1;32m    793\u001b[0m     \u001b[0;32mif\u001b[0m \u001b[0mabsolute_location\u001b[0m\u001b[0;34m.\u001b[0m\u001b[0mstartswith\u001b[0m\u001b[0;34m(\u001b[0m\u001b[0;34m\"file:///\"\u001b[0m\u001b[0;34m)\u001b[0m\u001b[0;34m:\u001b[0m\u001b[0;34m\u001b[0m\u001b[0;34m\u001b[0m\u001b[0m\n\u001b[1;32m    794\u001b[0m         \u001b[0mfilename\u001b[0m \u001b[0;34m=\u001b[0m \u001b[0murl2pathname\u001b[0m\u001b[0;34m(\u001b[0m\u001b[0mabsolute_location\u001b[0m\u001b[0;34m.\u001b[0m\u001b[0mreplace\u001b[0m\u001b[0;34m(\u001b[0m\u001b[0;34m\"file:///\"\u001b[0m\u001b[0;34m,\u001b[0m \u001b[0;34m\"/\"\u001b[0m\u001b[0;34m)\u001b[0m\u001b[0;34m)\u001b[0m\u001b[0;34m\u001b[0m\u001b[0;34m\u001b[0m\u001b[0m\n\u001b[0;32m--> 795\u001b[0;31m         \u001b[0mfile\u001b[0m \u001b[0;34m=\u001b[0m \u001b[0mopen\u001b[0m\u001b[0;34m(\u001b[0m\u001b[0mfilename\u001b[0m\u001b[0;34m,\u001b[0m \u001b[0;34m\"rb\"\u001b[0m\u001b[0;34m)\u001b[0m\u001b[0;34m\u001b[0m\u001b[0;34m\u001b[0m\u001b[0m\n\u001b[0m\u001b[1;32m    796\u001b[0m     \u001b[0;32melse\u001b[0m\u001b[0;34m:\u001b[0m\u001b[0;34m\u001b[0m\u001b[0;34m\u001b[0m\u001b[0m\n\u001b[1;32m    797\u001b[0m         \u001b[0minput_source\u001b[0m \u001b[0;34m=\u001b[0m \u001b[0mURLInputSource\u001b[0m\u001b[0;34m(\u001b[0m\u001b[0mabsolute_location\u001b[0m\u001b[0;34m,\u001b[0m \u001b[0mformat\u001b[0m\u001b[0;34m)\u001b[0m\u001b[0;34m\u001b[0m\u001b[0;34m\u001b[0m\u001b[0m\n",
            "\u001b[0;31mFileNotFoundError\u001b[0m: [Errno 2] No such file or directory: '/sample_data/kitchen-exercise.ttl'"
          ]
        }
      ]
    },
    {
      "cell_type": "markdown",
      "source": [
        "Let's see how many triples the graph contains"
      ],
      "metadata": {
        "id": "V2HYgav_dxFh"
      }
    },
    {
      "cell_type": "code",
      "source": [
        "print(\"Graph has %s statements.\" % len(myKnowledgeGraph))"
      ],
      "metadata": {
        "colab": {
          "base_uri": "https://localhost:8080/"
        },
        "id": "2wvwK3gMTsBm",
        "outputId": "728c97aa-e06f-43eb-a048-8dc6837dc310"
      },
      "execution_count": null,
      "outputs": [
        {
          "output_type": "stream",
          "name": "stdout",
          "text": [
            "Graph has 211 statements.\n"
          ]
        }
      ]
    },
    {
      "cell_type": "markdown",
      "source": [
        "Let's try adding and removing triples to see what changes in the graph."
      ],
      "metadata": {
        "id": "Vqh4JHJHeeis"
      }
    },
    {
      "cell_type": "code",
      "source": [
        "# Adding triples\n",
        "myKnowledgeGraph.add((URIRef(\"http://example.org/bed2\"),RDF.type , URIRef(\"http://example.org/Bed\")))\n",
        "\n",
        "# print the length of the graph\n",
        "print(\"My Kitchen graph has now %d triples.\" % len(myKnowledgeGraph))\n",
        "\n",
        "#removing triples\n",
        "myKnowledgeGraph.remove((URIRef(\"http://example.org/bed2\"),RDF.type , URIRef(\"http://example.org/Bed\")))\n",
        "\n",
        "# print again the length of the graph\n",
        "print(\"My Kitchen graph has now %d triples.\" % len(myKnowledgeGraph))"
      ],
      "metadata": {
        "colab": {
          "base_uri": "https://localhost:8080/"
        },
        "id": "shUkWNdcebO1",
        "outputId": "f9c37392-cea7-4dcd-9de6-7da0441b8ee9"
      },
      "execution_count": null,
      "outputs": [
        {
          "output_type": "stream",
          "name": "stdout",
          "text": [
            "My Kitchen graph has now 212 triples.\n",
            "My Kitchen graph has now 211 triples.\n"
          ]
        }
      ]
    },
    {
      "cell_type": "markdown",
      "source": [
        "# Querying with RDFlib (without reasoning)"
      ],
      "metadata": {
        "id": "JsPCECQUqPel"
      }
    },
    {
      "cell_type": "markdown",
      "source": [
        "We can now query the graph we created. We start by asking which subjects are there in the graph."
      ],
      "metadata": {
        "id": "6nQ1zm-neY30"
      }
    },
    {
      "cell_type": "code",
      "source": [
        "# this is equivalent to saying : for i in myKnowledgeGraph.subjects() : print i\n",
        "list(i for i in myKnowledgeGraph.subjects() if type(i) != BNode)"
      ],
      "metadata": {
        "colab": {
          "base_uri": "https://localhost:8080/"
        },
        "id": "GLXPN0_pdeR9",
        "outputId": "614f571f-d09c-4813-f6fe-5998942a992e"
      },
      "execution_count": null,
      "outputs": [
        {
          "output_type": "execute_result",
          "data": {
            "text/plain": [
              "[rdflib.term.URIRef('http://example.org/table2'),\n",
              " rdflib.term.URIRef('https://example.org/Box'),\n",
              " rdflib.term.URIRef('http://example.org/Wardrobe'),\n",
              " rdflib.term.URIRef('http://example.org/sink1'),\n",
              " rdflib.term.URIRef('http://example.org/room2'),\n",
              " rdflib.term.URIRef('http://example.org/wardrobe1'),\n",
              " rdflib.term.URIRef('http://example.org/room3'),\n",
              " rdflib.term.URIRef('http://example.org/sink1'),\n",
              " rdflib.term.URIRef('http://example.org/fridge1'),\n",
              " rdflib.term.URIRef('http://example.org/box1'),\n",
              " rdflib.term.URIRef('http://example.org/Object'),\n",
              " rdflib.term.URIRef('http://example.org/room1'),\n",
              " rdflib.term.URIRef('http://example.org/bookshelf1'),\n",
              " rdflib.term.URIRef('http://example.org/Bed'),\n",
              " rdflib.term.URIRef('http://example.org/bookshelf2'),\n",
              " rdflib.term.URIRef('http://example.org/bed1'),\n",
              " rdflib.term.URIRef('http://example.org/hasStatus'),\n",
              " rdflib.term.URIRef('http://example.org/Kitchen'),\n",
              " rdflib.term.URIRef('http://example.org/table4'),\n",
              " rdflib.term.URIRef('http://example.org/stove1'),\n",
              " rdflib.term.URIRef('http://example.org/hasLocation'),\n",
              " rdflib.term.URIRef('http://example.org/stove1'),\n",
              " rdflib.term.URIRef('http://example.org/Fridge'),\n",
              " rdflib.term.URIRef('http://example.org/wardrobe1'),\n",
              " rdflib.term.URIRef('http://example.org/box2'),\n",
              " rdflib.term.URIRef('http://example.org/hasGeometry'),\n",
              " rdflib.term.URIRef('http://example.org/Sink'),\n",
              " rdflib.term.URIRef('http://example.org/Wardrobe'),\n",
              " rdflib.term.URIRef('http://example.org/Table'),\n",
              " rdflib.term.URIRef('http://example.org/box3'),\n",
              " rdflib.term.URIRef('http://example.org/table1'),\n",
              " rdflib.term.URIRef('http://example.org/table2'),\n",
              " rdflib.term.URIRef('http://example.org/hasGeometry'),\n",
              " rdflib.term.URIRef('http://example.org/Kitchen'),\n",
              " rdflib.term.URIRef('http://example.org/door4'),\n",
              " rdflib.term.URIRef('http://example.org/room3'),\n",
              " rdflib.term.URIRef('http://example.org/box1'),\n",
              " rdflib.term.URIRef('http://example.org/box3'),\n",
              " rdflib.term.URIRef('http://example.org/Shelf'),\n",
              " rdflib.term.URIRef('http://example.org/room3'),\n",
              " rdflib.term.URIRef('http://example.org/room3'),\n",
              " rdflib.term.URIRef('http://example.org/door1'),\n",
              " rdflib.term.URIRef('http://example.org/room4'),\n",
              " rdflib.term.URIRef('http://example.org/Table'),\n",
              " rdflib.term.URIRef('http://example.org/room2'),\n",
              " rdflib.term.URIRef('http://example.org/door3'),\n",
              " rdflib.term.URIRef('http://example.org/stove1'),\n",
              " rdflib.term.URIRef('http://example.org/box2'),\n",
              " rdflib.term.URIRef('http://example.org/KitchenObject'),\n",
              " rdflib.term.URIRef('http://example.org/table3'),\n",
              " rdflib.term.URIRef('http://example.org/door3'),\n",
              " rdflib.term.URIRef('http://example.org/room2'),\n",
              " rdflib.term.URIRef('http://example.org/bookshelf1'),\n",
              " rdflib.term.URIRef('http://example.org/room1'),\n",
              " rdflib.term.URIRef('http://example.org/bookshelf3'),\n",
              " rdflib.term.URIRef('http://example.org/room2'),\n",
              " rdflib.term.URIRef('http://example.org/box1'),\n",
              " rdflib.term.URIRef('http://example.org/hasCoordinates'),\n",
              " rdflib.term.URIRef('http://example.org/LivingRoom'),\n",
              " rdflib.term.URIRef('http://example.org/Wardrobe'),\n",
              " rdflib.term.URIRef('http://example.org/bookshelf3'),\n",
              " rdflib.term.URIRef('http://example.org/Shelf'),\n",
              " rdflib.term.URIRef('http://example.org/table1'),\n",
              " rdflib.term.URIRef('http://example.org/room2'),\n",
              " rdflib.term.URIRef('http://example.org/room2'),\n",
              " rdflib.term.URIRef('http://example.org/door4'),\n",
              " rdflib.term.URIRef('http://example.org/box1'),\n",
              " rdflib.term.URIRef('http://example.org/bookshelf1'),\n",
              " rdflib.term.URIRef('http://example.org/table3'),\n",
              " rdflib.term.URIRef('http://example.org/bookshelf1'),\n",
              " rdflib.term.URIRef('http://example.org/Room'),\n",
              " rdflib.term.URIRef('http://example.org/table1'),\n",
              " rdflib.term.URIRef('http://example.org/bed1'),\n",
              " rdflib.term.URIRef('https://example.org/Box'),\n",
              " rdflib.term.URIRef('http://example.org/LivingRoom'),\n",
              " rdflib.term.URIRef('http://example.org/entrance'),\n",
              " rdflib.term.URIRef('http://example.org/box2'),\n",
              " rdflib.term.URIRef('http://example.org/wardrobe1'),\n",
              " rdflib.term.URIRef('http://example.org/Table'),\n",
              " rdflib.term.URIRef('http://example.org/table4'),\n",
              " rdflib.term.URIRef('http://example.org/bookshelf2'),\n",
              " rdflib.term.URIRef('http://example.org/bed1'),\n",
              " rdflib.term.URIRef('http://example.org/stove1'),\n",
              " rdflib.term.URIRef('http://example.org/entrance'),\n",
              " rdflib.term.URIRef('http://example.org/table4'),\n",
              " rdflib.term.URIRef('http://example.org/Door'),\n",
              " rdflib.term.URIRef('http://example.org/room4'),\n",
              " rdflib.term.URIRef('http://example.org/door2'),\n",
              " rdflib.term.URIRef('http://example.org/Bed'),\n",
              " rdflib.term.URIRef('http://example.org/box3'),\n",
              " rdflib.term.URIRef('http://example.org/entrance'),\n",
              " rdflib.term.URIRef('http://example.org/door2'),\n",
              " rdflib.term.URIRef('http://example.org/Sofa'),\n",
              " rdflib.term.URIRef('http://example.org/contains'),\n",
              " rdflib.term.URIRef('http://example.org/hasLocation'),\n",
              " rdflib.term.URIRef('http://example.org/Door'),\n",
              " rdflib.term.URIRef('http://example.org/contains'),\n",
              " rdflib.term.URIRef('http://example.org/hasStatus'),\n",
              " rdflib.term.URIRef('http://example.org/bed1'),\n",
              " rdflib.term.URIRef('http://example.org/bookshelf3'),\n",
              " rdflib.term.URIRef('http://example.org/BedRoom'),\n",
              " rdflib.term.URIRef('http://example.org/Stove'),\n",
              " rdflib.term.URIRef('http://example.org/hasCoordinates'),\n",
              " rdflib.term.URIRef('http://example.org/door3'),\n",
              " rdflib.term.URIRef('http://example.org/table1'),\n",
              " rdflib.term.URIRef('http://example.org/table2'),\n",
              " rdflib.term.URIRef('http://example.org/bookshelf1'),\n",
              " rdflib.term.URIRef('http://example.org/door1'),\n",
              " rdflib.term.URIRef('http://example.org/room4'),\n",
              " rdflib.term.URIRef('http://example.org/room1'),\n",
              " rdflib.term.URIRef('http://example.org/table2'),\n",
              " rdflib.term.URIRef('http://example.org/bookshelf2'),\n",
              " rdflib.term.URIRef('http://example.org/bookshelf2'),\n",
              " rdflib.term.URIRef('http://example.org/Chair'),\n",
              " rdflib.term.URIRef('http://example.org/room2'),\n",
              " rdflib.term.URIRef('http://example.org/Shelf'),\n",
              " rdflib.term.URIRef('http://example.org/bookshelf2'),\n",
              " rdflib.term.URIRef('http://example.org/contains'),\n",
              " rdflib.term.URIRef('http://example.org/door1'),\n",
              " rdflib.term.URIRef('http://example.org/BedRoom'),\n",
              " rdflib.term.URIRef('http://example.org/door4'),\n",
              " rdflib.term.URIRef('http://example.org/sink1'),\n",
              " rdflib.term.URIRef('http://example.org/Sink'),\n",
              " rdflib.term.URIRef('http://example.org/table2'),\n",
              " rdflib.term.URIRef('http://example.org/room1'),\n",
              " rdflib.term.URIRef('http://example.org/contains'),\n",
              " rdflib.term.URIRef('http://example.org/wardrobe1'),\n",
              " rdflib.term.URIRef('http://example.org/bookshelf3'),\n",
              " rdflib.term.URIRef('http://example.org/KitchenObject'),\n",
              " rdflib.term.URIRef('http://example.org/Sink'),\n",
              " rdflib.term.URIRef('http://example.org/Sofa'),\n",
              " rdflib.term.URIRef('http://example.org/sink1'),\n",
              " rdflib.term.URIRef('http://example.org/Stove'),\n",
              " rdflib.term.URIRef('http://example.org/bed1'),\n",
              " rdflib.term.URIRef('http://example.org/table4'),\n",
              " rdflib.term.URIRef('http://example.org/Room'),\n",
              " rdflib.term.URIRef('http://example.org/Kitchen'),\n",
              " rdflib.term.URIRef('http://example.org/box2'),\n",
              " rdflib.term.URIRef('http://example.org/door2'),\n",
              " rdflib.term.URIRef('http://example.org/Stove'),\n",
              " rdflib.term.URIRef('http://example.org/hasGeometry'),\n",
              " rdflib.term.URIRef('http://example.org/table3'),\n",
              " rdflib.term.URIRef('http://example.org/fridge1'),\n",
              " rdflib.term.URIRef('http://example.org/Chair'),\n",
              " rdflib.term.URIRef('http://example.org/Location'),\n",
              " rdflib.term.URIRef('http://example.org/Fridge'),\n",
              " rdflib.term.URIRef('http://example.org/wardrobe1'),\n",
              " rdflib.term.URIRef('http://example.org/Door'),\n",
              " rdflib.term.URIRef('http://example.org/fridge1'),\n",
              " rdflib.term.URIRef('http://example.org/fridge1'),\n",
              " rdflib.term.URIRef('http://example.org/Fridge'),\n",
              " rdflib.term.URIRef('http://example.org/table3'),\n",
              " rdflib.term.URIRef('http://example.org/Wardrobe'),\n",
              " rdflib.term.URIRef('http://example.org/box3'),\n",
              " rdflib.term.URIRef('http://example.org/table1'),\n",
              " rdflib.term.URIRef('http://example.org/room4'),\n",
              " rdflib.term.URIRef('http://example.org/table3')]"
            ]
          },
          "metadata": {},
          "execution_count": 35
        }
      ]
    },
    {
      "cell_type": "markdown",
      "source": [],
      "metadata": {
        "id": "E9AK0GvJM7gA"
      }
    },
    {
      "cell_type": "code",
      "source": [
        "sorted(list(kitchen_class for kitchen_class in myKnowledgeGraph.subjects(RDF.type, OWL.Class) if type(kitchen_class) != BNode))"
      ],
      "metadata": {
        "colab": {
          "base_uri": "https://localhost:8080/"
        },
        "id": "7ooprECnMMsB",
        "outputId": "e1393439-fd17-4873-cde0-d543ada86ad2"
      },
      "execution_count": null,
      "outputs": [
        {
          "output_type": "execute_result",
          "data": {
            "text/plain": [
              "[rdflib.term.URIRef('http://example.org/Bed'),\n",
              " rdflib.term.URIRef('http://example.org/BedRoom'),\n",
              " rdflib.term.URIRef('http://example.org/Chair'),\n",
              " rdflib.term.URIRef('http://example.org/Door'),\n",
              " rdflib.term.URIRef('http://example.org/Fridge'),\n",
              " rdflib.term.URIRef('http://example.org/Kitchen'),\n",
              " rdflib.term.URIRef('http://example.org/KitchenObject'),\n",
              " rdflib.term.URIRef('http://example.org/LivingRoom'),\n",
              " rdflib.term.URIRef('http://example.org/Location'),\n",
              " rdflib.term.URIRef('http://example.org/Object'),\n",
              " rdflib.term.URIRef('http://example.org/Room'),\n",
              " rdflib.term.URIRef('http://example.org/Shelf'),\n",
              " rdflib.term.URIRef('http://example.org/Sink'),\n",
              " rdflib.term.URIRef('http://example.org/Sofa'),\n",
              " rdflib.term.URIRef('http://example.org/Stove'),\n",
              " rdflib.term.URIRef('http://example.org/Table'),\n",
              " rdflib.term.URIRef('http://example.org/Wardrobe'),\n",
              " rdflib.term.URIRef('https://example.org/Box')]"
            ]
          },
          "metadata": {},
          "execution_count": 44
        }
      ]
    },
    {
      "cell_type": "markdown",
      "source": [
        "Let's ask whether 'door2' is closed.\n",
        "\n"
      ],
      "metadata": {
        "id": "egQ28DkUiFbi"
      }
    },
    {
      "cell_type": "code",
      "source": [
        "openDoor2 = myKnowledgeGraph.value(URIRef('http://example.org/door3'), URIRef(\"http://example.org/hasStatus\"))\n",
        "\n",
        "if openDoor2 == \"closed\":\n",
        "  print(True)\n",
        "else : print(False)"
      ],
      "metadata": {
        "colab": {
          "base_uri": "https://localhost:8080/"
        },
        "outputId": "3129ae40-370a-4312-d31e-03ddb3f6109c",
        "id": "IUnkTWFQjhlO"
      },
      "execution_count": null,
      "outputs": [
        {
          "output_type": "stream",
          "name": "stdout",
          "text": [
            "False\n"
          ]
        }
      ]
    },
    {
      "cell_type": "markdown",
      "source": [
        "We can update the status of a door and ask again if there is any door open."
      ],
      "metadata": {
        "id": "BdbiE5qyijWM"
      }
    },
    {
      "cell_type": "code",
      "source": [
        "# NB: you need to remove the old triple from the graph, and then add a new one. Else they will both be stored in the KG!\n",
        "myKnowledgeGraph.remove((URIRef(\"http://example.org/door2\"),URIRef('http://example.org/hasStatus') , Literal(\"open\")))\n",
        "myKnowledgeGraph.add((URIRef(\"http://example.org/door2\"),URIRef('http://example.org/hasStatus') , Literal(\"closed\")))\n",
        "\n",
        "\n",
        "# ask which doors are closed\n",
        "for s,p,o in myKnowledgeGraph.triples((None, URIRef(\"http://example.org/hasStatus\"), None )):\n",
        "  if o == Literal(\"closed\") : print(s)"
      ],
      "metadata": {
        "colab": {
          "base_uri": "https://localhost:8080/"
        },
        "id": "PAFNEt3bm0Q2",
        "outputId": "8ed2e395-d2fe-4da1-c301-a898162512ad"
      },
      "execution_count": null,
      "outputs": [
        {
          "output_type": "stream",
          "name": "stdout",
          "text": [
            "http://example.org/door2\n"
          ]
        }
      ]
    },
    {
      "cell_type": "markdown",
      "source": [
        "# Reasoning and querying"
      ],
      "metadata": {
        "id": "IS8egv9uqsZF"
      }
    },
    {
      "cell_type": "markdown",
      "source": [
        "We can now start a reasoner and generate triples we did not know before."
      ],
      "metadata": {
        "id": "Muh6AYcMjq4s"
      }
    },
    {
      "cell_type": "code",
      "source": [
        "# initialise new graphs : asserted (triples stated in the ttl file), inferred (triples generated by the reasoner)\n",
        "asserted = Graph()\n",
        "inferred = Graph()\n",
        "\n",
        "asserted = asserted.parse(\"./sample_data/kitchen-exercise.ttl\")\n",
        "DeductiveClosure(OWLRL_Semantics).expand(myKnowledgeGraph) # this function will run an OWL RL reasoner and expand the asserted KG with inferred triples\n",
        "# NB : the .expand() function will add the inferred triples to the original asserted graph. Thankfully, we saved a copy of the original asserted KG into the variable 'asserted'!\n",
        "\n",
        "# we can now check which are the inferred triples by substracting the expanded and original graph.\n",
        "inferred = myKnowledgeGraph - asserted"
      ],
      "metadata": {
        "id": "XmLc_LYlq8Oh"
      },
      "execution_count": null,
      "outputs": []
    },
    {
      "cell_type": "markdown",
      "source": [
        "Let's now check how many triples these graphs have."
      ],
      "metadata": {
        "id": "gRSZF5KPk7Ms"
      }
    },
    {
      "cell_type": "code",
      "source": [
        "print(\"asserted {}, inferred {}, total {}\".format(len(asserted), len(inferred),len(myKnowledgeGraph)))\n"
      ],
      "metadata": {
        "colab": {
          "base_uri": "https://localhost:8080/"
        },
        "id": "hQnhhaotzZ6P",
        "outputId": "fda4f413-e74b-4601-b40c-09404f319b32"
      },
      "execution_count": null,
      "outputs": [
        {
          "output_type": "stream",
          "name": "stdout",
          "text": [
            "asserted 211, inferred 589, total 737\n"
          ]
        }
      ]
    },
    {
      "cell_type": "markdown",
      "source": [
        "Based on the restriction\n",
        "\n",
        "```\n",
        ":Kitchen owl:equivalentClass [ rdf:type owl:Restriction ;\n",
        "                               owl:onProperty :contains ;\n",
        "                               owl:someValuesFrom ( :Fridge :Sink :Stove )\n",
        "                              ]\n",
        "```\n",
        "we know that the class `Kitchen` should contain at least an element from the class `Fridge`, `Sink` or `Stove`.\n",
        "\n",
        "From the asserted triples, we know that `:room2` contains `:fridge1`, `:stove1` and `:sink1` .\n",
        "\n",
        "If the reasoner worked, we can ask the inferred graph whether `:room2` is a kitchen."
      ],
      "metadata": {
        "id": "6YEC9HaBlgzD"
      }
    },
    {
      "cell_type": "code",
      "source": [
        "EX = Namespace(\"http://example.org/\")\n",
        "\n",
        "# NB : EX['room2'] is now equivalent to URIRef(\"http://example.org/room2\")\n",
        "for s,p,o in inferred.triples((EX['room2'],RDF.type,None)):\n",
        "      print(s,p,o)"
      ],
      "metadata": {
        "colab": {
          "base_uri": "https://localhost:8080/"
        },
        "id": "64qyO-wHzgNy",
        "outputId": "dad35d43-130e-49dc-df81-49f3eda0ff10"
      },
      "execution_count": null,
      "outputs": [
        {
          "output_type": "stream",
          "name": "stdout",
          "text": [
            "http://example.org/room2 http://www.w3.org/1999/02/22-rdf-syntax-ns#type n625f8bf0e68249f69c578e9e6e87c91db10\n",
            "http://example.org/room2 http://www.w3.org/1999/02/22-rdf-syntax-ns#type http://example.org/Kitchen\n",
            "http://example.org/room2 http://www.w3.org/1999/02/22-rdf-syntax-ns#type http://example.org/Location\n",
            "http://example.org/room2 http://www.w3.org/1999/02/22-rdf-syntax-ns#type http://www.w3.org/2002/07/owl#Thing\n"
          ]
        }
      ]
    },
    {
      "cell_type": "markdown",
      "source": [
        "Now compare with what the asserted graph knows about `:room2`.   "
      ],
      "metadata": {
        "id": "ZT3hafnixxSe"
      }
    },
    {
      "cell_type": "code",
      "source": [
        "# NB : EX['room2'] is now equivalent to URIRef(\"http://example.org/room2\")\n",
        "for s,p,o in asserted.triples((EX['room2'],RDF.type,None)):\n",
        "      print(s,p,o)"
      ],
      "metadata": {
        "colab": {
          "base_uri": "https://localhost:8080/"
        },
        "id": "agtZYthLySu3",
        "outputId": "2a5cf789-61af-4f36-d932-d4783fb34924"
      },
      "execution_count": null,
      "outputs": [
        {
          "output_type": "stream",
          "name": "stdout",
          "text": [
            "http://example.org/room2 http://www.w3.org/1999/02/22-rdf-syntax-ns#type http://www.w3.org/2002/07/owl#NamedIndividual\n",
            "http://example.org/room2 http://www.w3.org/1999/02/22-rdf-syntax-ns#type http://example.org/Room\n"
          ]
        }
      ]
    },
    {
      "cell_type": "markdown",
      "source": [
        "The reasoner also reasons about object property contraints.\n",
        "\n",
        "For instance, we know that the property `:contains` is inverse of `:hasLocation`."
      ],
      "metadata": {
        "id": "mT49rXAJymqX"
      }
    },
    {
      "cell_type": "code",
      "source": [
        "# select objects from room4\n",
        "for s,p,o in asserted.triples( (EX['room4'],EX['contains'],None)  ):\n",
        "  print (o)\n",
        "\n",
        "# Try replacing the triple pattern above with the triple (and remember to print the subject instead of the object)"
      ],
      "metadata": {
        "id": "eQgoXFmwPA-f"
      },
      "execution_count": null,
      "outputs": []
    },
    {
      "cell_type": "markdown",
      "source": [
        "Nothing is known about `:room4` in the asserted graph. Hence the result is empty.\n",
        "\n",
        "Go check yourself in the `.ttl` file!\n",
        "\n"
      ],
      "metadata": {
        "id": "2Xg2SGJvzXqi"
      }
    },
    {
      "cell_type": "code",
      "source": [
        "# compare with what is known about room4 in the inferred graph\n",
        "for s,p,o in inferred.triples( (EX['room4'],EX['contains'],None)  ):\n",
        "  print (o)\n",
        "\n",
        "# Now we have the right inference!"
      ],
      "metadata": {
        "colab": {
          "base_uri": "https://localhost:8080/"
        },
        "id": "R1JzkxViJeAL",
        "outputId": "4fb2ebb0-d307-467f-deb1-321537b64701"
      },
      "execution_count": null,
      "outputs": [
        {
          "output_type": "stream",
          "name": "stdout",
          "text": [
            "http://example.org/bookshelf3\n",
            "http://example.org/box3\n",
            "http://example.org/box2\n",
            "http://example.org/table1\n",
            "http://example.org/table2\n"
          ]
        }
      ]
    },
    {
      "cell_type": "markdown",
      "source": [
        "# Exercises"
      ],
      "metadata": {
        "id": "psNvlyy0qjWs"
      }
    },
    {
      "cell_type": "markdown",
      "source": [
        "**Exercise 1**\n",
        "\n",
        "Extend the taxonomy of Kitchen classes, with e.g. movable and non-movable classes\n",
        "\n",
        "- Create a new file .ttl and parse it in a new graph.\n",
        "\n",
        "- Query the new graph and check if your taxonomy was taken into account.\n",
        "\n",
        "\n"
      ],
      "metadata": {
        "id": "spToTIdKm7xl"
      }
    },
    {
      "cell_type": "code",
      "source": [
        "# your code here"
      ],
      "metadata": {
        "id": "2VecrW19nway"
      },
      "execution_count": null,
      "outputs": []
    },
    {
      "cell_type": "markdown",
      "source": [
        "**Exercise 2**\n",
        "\n",
        "Build a restriction for the living room or bedroom, similar to the one we have for the kitchen\n",
        "(i.e. a bedroom is a room that contains at least one bed, a livingroom has at least a sofa and a bookshelf)\n",
        "\n",
        "- Create a new file .ttl and parse it in a new graph.\n",
        "\n",
        "- Run the reasoner and check if your restriction was taken into account.\n",
        "\n",
        "- _harder variant_ : try using ```owl:minCardinality``` instead of ```owl:someValuesFrom``` ! Tip : you may need to create a new object property.\n",
        "\n"
      ],
      "metadata": {
        "id": "R0LoQ0u6nbPR"
      }
    },
    {
      "cell_type": "code",
      "source": [
        "# your code here"
      ],
      "metadata": {
        "id": "RBFjkhiOnxYm"
      },
      "execution_count": null,
      "outputs": []
    },
    {
      "cell_type": "markdown",
      "source": [
        "**Exercise 3**\n",
        "\n",
        "Update the status of a door (from e.g. open to close) or the coordinates of an object.\n",
        "\n",
        "- Use the functions\n",
        "```\n",
        "graph.remove((UriRef(#subject),UriRef(#predicate ),UriRef( #object )))\n",
        "graph.add((UriRef(#subject),UriRef(#predicate ),UriRef( #object )) )\n",
        "```\n",
        "to remove the old triple and add a new one.\n",
        "\n",
        "\n",
        "\n",
        "- Save the graph using the function\n",
        "```graph.serialise()```\n",
        "\n",
        "- check with your favourite text editor if your KG has been updated!"
      ],
      "metadata": {
        "id": "vt59OCZnnxwN"
      }
    },
    {
      "cell_type": "code",
      "source": [
        "# your code here"
      ],
      "metadata": {
        "id": "ViI8TcFLUlpM"
      },
      "execution_count": null,
      "outputs": []
    }
  ]
}
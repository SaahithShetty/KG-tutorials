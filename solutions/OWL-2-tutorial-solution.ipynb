{
 "cells": [
  {
   "cell_type": "markdown",
   "metadata": {},
   "source": [
    "# OWL tutorial"
   ]
  },
  {
   "cell_type": "markdown",
   "metadata": {},
   "source": [
    "First install owlready2 if you don't already have it, and have a quick look at the [documentation](https://owlready2.readthedocs.io/en/v0.36/onto.html#)."
   ]
  },
  {
   "cell_type": "code",
   "execution_count": null,
   "metadata": {},
   "outputs": [],
   "source": [
    "## Uncomment if you do not have owlrl installed (you should have it installed from the RDFS tutorial)\n",
    "#import sys\n",
    "#!{sys.executable} -m pip install rdflib  owlready2 pandas\n",
    "\n",
    "import pandas as pd\n",
    "from rdflib import Graph, Literal, Namespace, RDF, URIRef, OWL\n",
    "from rdflib.namespace import DC, FOAF\n",
    "\n",
    "from owlready2 import *\n"
   ]
  },
  {
   "cell_type": "markdown",
   "metadata": {},
   "source": [
    "Let's start loading some data from a .CSV file. We are going to create an ontology that describes the data inside.\n",
    "We already did part of this using the semantics of RDF(S), now we'll use the semantics of [OWL](https://www.w3.org/TR/2012/REC-owl2-primer-20121211/) through owlready2. (Tip: follow the link to avoid looking at funny pictures of owls the rest of the afternoon) \n",
    "\n",
    "Remember that an ontology is often an application ontology, meaning that it is built with a specific task in mind. \n",
    "We could model _everything_ within a certain domain in the most ontologically correct way possible, _or_ **we could model the domain in accordance with the application's task.** \n",
    "\n",
    "\n",
    "**Your task and domain:** You are a broadcaster that has just digitised its radio archives into a digital music archive (DMA), and aims to play more interesting tracks by discovering their 'hidden treasures', by making unexpected and potentially interesting relations between tracks visible to the users (which are journalists and program makers).\n",
    "\n",
    "\n",
    "**Exercise 1** \n",
    "\n",
    "1. load music.csv into a pandas dataframe (use display.max_columns to show all columns). \n",
    "2. initialise an empty ontology using owlready2\n",
    "3. using owlready2, create a hierarchy of classes and subclasses that describe the entities in your dataframe\n",
    "4. using owrleady2, create properties and subproperties that describe how these relate to one another (using domain and range). If it helps: draw out your ontology in https://app.diagrams.net/\n",
    "    - create: object properties, data properties, functional properties (you can even add a new column of data if you want) \n",
    "5. using owlready2, add class restrictions\n",
    "6. create invididuals of your classes, and provide them with attributes using your properties! \n",
    "7. write simple queries to retrieve your individuals following: https://owlready2.readthedocs.io/en/v0.36/onto.html#simple-queries. What kind of things would journalists and program makers like to retrieve? \n",
    "6. save your asserted owl file"
   ]
  },
  {
   "cell_type": "code",
   "execution_count": null,
   "metadata": {},
   "outputs": [],
   "source": [
    "csv_file =  pd.read_csv('../data/musicoset_metadata/albums.csv',sep='\\t')\n",
    "pd.set_option('display.max_columns', None)\n",
    "csv_file.head()"
   ]
  },
  {
   "cell_type": "code",
   "execution_count": null,
   "metadata": {},
   "outputs": [],
   "source": [
    "csv_file =  pd.read_csv('../data/musicoset_metadata/artists.csv',sep='\\t')\n",
    "pd.set_option('display.max_columns', None)\n",
    "csv_file.head()"
   ]
  },
  {
   "cell_type": "code",
   "execution_count": null,
   "metadata": {},
   "outputs": [],
   "source": [
    "csv_file =  pd.read_csv('../data/musicoset_metadata/songs.csv',sep='\\t')\n",
    "pd.set_option('display.max_columns', None)\n",
    "csv_file.head()"
   ]
  },
  {
   "cell_type": "code",
   "execution_count": null,
   "metadata": {},
   "outputs": [],
   "source": [
    "csv_file =  pd.read_csv('../data/musicoset_metadata/tracks.csv',sep='\\t')\n",
    "pd.set_option('display.max_columns', None)\n",
    "csv_file.head()"
   ]
  },
  {
   "cell_type": "code",
   "execution_count": null,
   "metadata": {
    "scrolled": true
   },
   "outputs": [],
   "source": [
    "onto = get_ontology(\"http://test.org/myonto.owl\") # creates an empty ontology. Use the namespace you like!"
   ]
  },
  {
   "cell_type": "markdown",
   "metadata": {},
   "source": [
    "#### Creating classes\n",
    "Every class is a subclass of Thing"
   ]
  },
  {
   "cell_type": "code",
   "execution_count": null,
   "metadata": {},
   "outputs": [],
   "source": [
    "# every class is a subclass of owl:Thing!\n",
    "\n",
    "class Person(Thing):\n",
    "    namespace = onto\n",
    "    \n",
    "class Artist(Thing):\n",
    "    namespace = onto\n",
    "\n",
    "class Location(Thing) :\n",
    "    namespace = onto\n",
    "    \n",
    "class Song(Thing) :\n",
    "    namespace = onto\n",
    "    \n",
    "class Genre(Thing) :\n",
    "    namespace = onto\n",
    "\n",
    "class Member(Thing):\n",
    "    namespace = onto"
   ]
  },
  {
   "cell_type": "code",
   "execution_count": null,
   "metadata": {
    "scrolled": true
   },
   "outputs": [],
   "source": [
    "# add a class that is a subclass    \n",
    "class SoloArtist(Person):\n",
    "    pass \n",
    "    # no need to specify namespace here, which is derived from Person\n",
    "\n",
    "class SubGenre(Genre):\n",
    "    pass\n",
    "# let's check the superclasses\n",
    "print(SoloArtist.ancestors())"
   ]
  },
  {
   "cell_type": "code",
   "execution_count": null,
   "metadata": {
    "scrolled": true
   },
   "outputs": [],
   "source": [
    "# print the list of the classes in the ontology\n",
    "\n",
    "print(list(onto.classes()))"
   ]
  },
  {
   "cell_type": "markdown",
   "metadata": {},
   "source": [
    "#### Create object properties\n",
    "Properties of type owl:ObjectProperty have only non-literals as range, \n",
    "They are rdfs:subPropertyOf owl:topObjectProperty"
   ]
  },
  {
   "cell_type": "code",
   "execution_count": null,
   "metadata": {},
   "outputs": [],
   "source": [
    "class authorOf(ObjectProperty): \n",
    "    domain = [Artist]\n",
    "    range = [Song]\n",
    "    namespace = onto\n",
    "    pass\n",
    "\n",
    "class locatedIn(Artist >> Location): # another way of specifying domain and range\n",
    "    namespace = onto\n",
    "\n",
    "class hasGenre(Song >> Genre): \n",
    "    namespace = onto \n",
    "    \n",
    "class writtenBy(Song >> Artist):\n",
    "    namespace = onto\n",
    "    \n",
    "class hasFan(Artist >> Person):\n",
    "    namespace = onto\n",
    "\n",
    "class bandMember(Artist >> Member):\n",
    "    namespace = onto\n",
    "        "
   ]
  },
  {
   "cell_type": "markdown",
   "metadata": {},
   "source": [
    "Let's add properties with restrictions too"
   ]
  },
  {
   "cell_type": "code",
   "execution_count": null,
   "metadata": {},
   "outputs": [],
   "source": [
    "# properties with restrictions\n",
    "class locatedIn(ObjectProperty, TransitiveProperty): # if <A locatedin B>, and <B locatedin C>, infer <A locatedin C> \n",
    "    namespace = onto\n",
    "    domain = [Location]\n",
    "    range = [Location]\n",
    "    \n",
    "class collaboratesWith(ObjectProperty, SymmetricProperty):  #if <A collaboratesWith B>, infer <B collaboratesWith A>\n",
    "    domain = [Artist]\n",
    "    range = [Artist]   \n",
    "    namespace = onto\n",
    "    \n",
    "class authorOf(Artist >> Song): #if <A authorOf B>, infer <B writtenBy A>\n",
    "    inverse_property = writtenBy \n",
    "    namespace = onto\n",
    "    \n",
    "class isFanOf(Person >> Artist):\n",
    "    inverse_property = hasFan \n",
    "    namespace = onto"
   ]
  },
  {
   "cell_type": "markdown",
   "metadata": {},
   "source": [
    "#### Create datatype properties\n",
    "Properties of type owl:DatatypeProperty have only literals as range,\n",
    "They are rdfs:subPropertyOf owl:topDatatypeProperty"
   ]
  },
  {
   "cell_type": "code",
   "execution_count": null,
   "metadata": {},
   "outputs": [],
   "source": [
    "# datatype properties \n",
    "class followers(DataProperty, FunctionalProperty): #every Artist has a single nr of followers (per platform)\n",
    "    namespace = onto\n",
    "    domain = [Artist]\n",
    "    range = [int] \n",
    "        \n",
    "class name(DataProperty, FunctionalProperty): #every artist has a single name\n",
    "    namespace = onto\n",
    "    domain = [Artist]\n",
    "    range = [str] \n",
    "    \n",
    "class releaseDate(DataProperty, FunctionalProperty):\n",
    "    namespace = onto\n",
    "    domain = [Song]\n",
    "    range = [str] #this can also be a datetype, but lets use str for now\n",
    "    \n",
    "class birthDate(DataProperty, FunctionalProperty):\n",
    "    namespace = onto\n",
    "    domain = [Person]\n",
    "    range = [str] #this can also be a datetype, but lets use str for now\n",
    "    \n",
    "class height(DataProperty, FunctionalProperty):\n",
    "    namespace = onto\n",
    "    domain = [Person]\n",
    "    range = [int] "
   ]
  },
  {
   "cell_type": "code",
   "execution_count": null,
   "metadata": {},
   "outputs": [],
   "source": [
    "#print all properties\n",
    "list(onto.properties()) # can also return .object_properties() or .data_properties()"
   ]
  },
  {
   "cell_type": "markdown",
   "metadata": {},
   "source": [
    "#### Adding class restrictions \n",
    "Class Restictions are special owl:Classes"
   ]
  },
  {
   "cell_type": "code",
   "execution_count": null,
   "metadata": {
    "scrolled": true
   },
   "outputs": [],
   "source": [
    "# restriction over Artist : an artist must have at a minimum written 1 song\n",
    "Artist.is_a.append(authorOf.min(1,Song)) \n",
    "\n",
    "# restriction over Song : a song must have at least one genre\n",
    "Song.is_a.append(hasGenre.min(1))\n",
    "\n",
    "# restriction over Song : a song must have at least one genre\n",
    "Song.is_a.append(releaseDate.max(1))\n",
    "\n",
    "# restrictions can also be specified in a class definition directly\n",
    "\n",
    "class CollaboratingArtist(Artist):\n",
    "    equivalent_to = [ Artist & collaboratesWith.some(Artist)]\n",
    "    \n",
    "class SoloArtist(Artist):\n",
    "    equivalent_to = [Artist & bandMember.max(1)]\n"
   ]
  },
  {
   "cell_type": "markdown",
   "metadata": {},
   "source": [
    "Let's add some disjointness between classes"
   ]
  },
  {
   "cell_type": "code",
   "execution_count": null,
   "metadata": {},
   "outputs": [],
   "source": [
    "# you cannot be an instance of an Arist and a Song at the same time \n",
    "AllDisjoint([Artist,Song])"
   ]
  },
  {
   "cell_type": "markdown",
   "metadata": {},
   "source": [
    "#### Create instances (individuals)\n",
    "Instances in OWL are called individuals!"
   ]
  },
  {
   "cell_type": "code",
   "execution_count": null,
   "metadata": {},
   "outputs": [],
   "source": [
    "biffy = Artist(\"biffy_clyro\")\n",
    "massive_attack = Artist(\"massive_attack\", namespace = onto) # you can also add a namespace\n",
    "\n",
    "# # creating individuals with properties \n",
    "tricky = SoloArtist(\"tricky\", collaboratesWith=[massive_attack]) \n",
    "\n",
    "ilaria = Person(\"ilaria\", isFanOf=[biffy], birthDate=\"19-03-1997\" ) # because I am 23 yo\n",
    "lise = Person(\"lise\", isFanOf=[massive_attack], height=172) # and I am not as tall as I look\n",
    "\n",
    "space = Song(\"Space\")\n",
    "\n",
    "# or adding a property to an individual directly\n",
    "biffy.authorOf = [space]\n",
    "    \n",
    "uk = Location('United_Kingdom', namespace= onto)\n",
    "scotland = Location(\"Scotland\", namespace= onto, locatedIn = [uk])\n",
    "edi = Location(\"Edinburgh\", namespace= onto, locatedIn = [scotland])\n",
    "\n",
    "biffy.locatedIn = [scotland]\n",
    "massive_attack.locatedIn = [uk]"
   ]
  },
  {
   "cell_type": "markdown",
   "metadata": {},
   "source": [
    "Let's also look at disjointness in our ontology"
   ]
  },
  {
   "cell_type": "code",
   "execution_count": null,
   "metadata": {},
   "outputs": [],
   "source": [
    "pop     = Genre('pop')\n",
    "rock    = Genre('rock')\n",
    "triphop = Genre('triphop')\n",
    "experimentalRock = SubGenre('experimentalRock')\n",
    "\n",
    "# Assert that there exist only three possible genres in this world\n",
    "Genre.is_a.append(OneOf([pop, rock, triphop]))\n",
    "\n",
    "#and that all instruments are different (instance level)\n",
    "AllDifferent([pop, rock, triphop])"
   ]
  },
  {
   "cell_type": "markdown",
   "metadata": {},
   "source": [
    "#### Basic ontology querying\n",
    "\n",
    "Let's search information in our ontology"
   ]
  },
  {
   "cell_type": "code",
   "execution_count": null,
   "metadata": {},
   "outputs": [],
   "source": [
    "print(\"Biffy's IRI : %s\" % biffy.iri)\n",
    "print(\"Ilaria is born on %s\" % ilaria.birthDate)\n",
    "print(\"\")  \n",
    "print(\"Lise's height is %s cm\" % lise.height)\n",
    "print(\"Who collaborates with someone? \\n%s\"% onto.search(collaboratesWith = \"*\"))\n",
    "print(\"\")\n",
    "print(\"Search for a IRI containing 'ilaria'\\n%s\" % onto.search(iri = \"*ilaria\"))\n",
    "print(\"\")\n",
    "print(\"Which artist has a fan?\\n%s\" % onto.search(type=onto.Artist, hasFan=\"*\"))\n",
    "\n",
    "## other Basic queries\n",
    "# iri, for searching entities by its full IRI\n",
    "# type, for searching Individuals of a given Class\n",
    "# subclass_of, for searching subclasses of a given Class\n",
    "# is_a*, for searching both Individuals and subclasses of a given Class"
   ]
  },
  {
   "cell_type": "code",
   "execution_count": null,
   "metadata": {},
   "outputs": [],
   "source": [
    "for d in onto.disjoints(): # will print both AllDifferent (individuals) and AllDisjoint (classes)\n",
    "    print(d.entities)"
   ]
  },
  {
   "cell_type": "markdown",
   "metadata": {},
   "source": [
    "#### Save asserted triples"
   ]
  },
  {
   "cell_type": "code",
   "execution_count": null,
   "metadata": {},
   "outputs": [],
   "source": [
    "onto.save(file = \"../data/my_music_ontology_asserted.owl\", format = \"rdfxml\") # also supported ntriples"
   ]
  },
  {
   "cell_type": "markdown",
   "metadata": {},
   "source": [
    "## Inference time\n",
    "\n",
    "Let's look at how reasoning works.\n",
    "\n",
    "\n",
    "Some things (eg superclasses) are already inferred by owlready2\n",
    "\n",
    "**Exercise 2**\n",
    "1. think about which things are inferred from your OWL semantics. Query/look at your graph: do you see what you expected?\n",
    "2. "
   ]
  },
  {
   "cell_type": "code",
   "execution_count": null,
   "metadata": {},
   "outputs": [],
   "source": [
    "# NB : we never asserted that tricky was a person, nor that experimentalRock was a Genre\n",
    "\n",
    "for p in Person.instances(): # all people :\n",
    "    print(p)\n",
    "\n",
    "print(\"\")\n",
    "for i in Genre.instances(): # all genres :\n",
    "    print(i) "
   ]
  },
  {
   "cell_type": "code",
   "execution_count": null,
   "metadata": {
    "scrolled": true
   },
   "outputs": [],
   "source": [
    "print(\"Biffy has fan : %s\" % biffy.hasFan) # did we specify that simon has any fan?\n",
    "print(\"Tricky plays with : %s\" % tricky.collaboratesWith) # did we specify who simon plays with?"
   ]
  },
  {
   "cell_type": "code",
   "execution_count": null,
   "metadata": {},
   "outputs": [],
   "source": [
    "# this does not work! We need a reasoner ! (transitiveProperty)\n",
    "print(\"Edinburgh is located in : %s\" % edi.locatedIn) "
   ]
  },
  {
   "cell_type": "code",
   "execution_count": null,
   "metadata": {},
   "outputs": [],
   "source": [
    "edi"
   ]
  },
  {
   "cell_type": "markdown",
   "metadata": {},
   "source": [
    "### Consistency checking\n",
    "\n",
    "Check out a full example at https://owlready2.readthedocs.io/en/latest/reasoning.html\n"
   ]
  },
  {
   "cell_type": "code",
   "execution_count": null,
   "metadata": {},
   "outputs": [],
   "source": [
    "# after adding all restrictions we can run a reasoner\n",
    "\n",
    "with onto : \n",
    "    sync_reasoner(infer_property_values = True)\n",
    "    # if you remove infer_property and infer_data_property, it will only infer over Classes!"
   ]
  },
  {
   "cell_type": "markdown",
   "metadata": {},
   "source": [
    "Owlready automatically gets the results of the reasoning from HermiT (a type of reasoner) and reclassifies Individuals and Classes. \n",
    "\n",
    "For example, Owlready inferred 2 new superclasses for SoloArtist : MusicPerformer and Artist ."
   ]
  },
  {
   "cell_type": "code",
   "execution_count": null,
   "metadata": {},
   "outputs": [],
   "source": [
    "# let's look at its superclasses\n",
    "SoloArtist.ancestors()"
   ]
  },
  {
   "cell_type": "markdown",
   "metadata": {},
   "source": [
    "Now we have inferred that Edinburgh is in Scotland!"
   ]
  },
  {
   "cell_type": "code",
   "execution_count": null,
   "metadata": {
    "scrolled": true
   },
   "outputs": [],
   "source": [
    "edi.locatedIn # now it works :)"
   ]
  },
  {
   "cell_type": "markdown",
   "metadata": {},
   "source": [
    "#### Querying inferred triples\n",
    "\n",
    "** Exercise 3**\n",
    "Query your inferred triples: \n",
    "\n",
    "- *.get_parents_of(entity)* accepts any entity (Class, property or individual), and returns the superclasses (for a class), the superproperties (for a property), or the classes (for an individual). \n",
    "\n",
    "- *.get_instances_of(Class)* returns the individuals that are asserted as belonging to the given Class in the ontology. (NB for obtaining all instances, independently of the ontology they are asserted in, use Class.instances()).\n",
    "\n",
    "- *.get_children_of(entity)* returns the subclasses (or subproperties) that are asserted for the given Class or property in the ontology. (NB for obtaining all children, independently of the ontology they are asserted in, use entity.subclasses())."
   ]
  },
  {
   "cell_type": "code",
   "execution_count": null,
   "metadata": {},
   "outputs": [],
   "source": [
    "print(onto.get_parents_of(SoloArtist))\n",
    "print(onto.get_children_of(Person))\n",
    "print(onto.get_instances_of(Genre))"
   ]
  },
  {
   "cell_type": "code",
   "execution_count": null,
   "metadata": {},
   "outputs": [],
   "source": [
    "# checks for inconsistencies in the ontology\n",
    "list(default_world.inconsistent_classes())"
   ]
  },
  {
   "cell_type": "markdown",
   "metadata": {},
   "source": [
    "#### Save inferred ontology\n",
    "\n",
    "Once inferred all facts with can save the ontology with the asserted and inferred facts. Compare it with your ontology_asserted.owl, and check for the differences."
   ]
  },
  {
   "cell_type": "code",
   "execution_count": null,
   "metadata": {},
   "outputs": [],
   "source": [
    "onto.save(file = \"../data/my_music_ontology_inferred.owl\", format = \"rdfxml\") # also supported ntriples"
   ]
  }
 ],
 "metadata": {
  "kernelspec": {
   "display_name": "base",
   "language": "python",
   "name": "python3"
  },
  "language_info": {
   "codemirror_mode": {
    "name": "ipython",
    "version": 3
   },
   "file_extension": ".py",
   "mimetype": "text/x-python",
   "name": "python",
   "nbconvert_exporter": "python",
   "pygments_lexer": "ipython3",
   "version": "3.9.13"
  }
 },
 "nbformat": 4,
 "nbformat_minor": 4
}

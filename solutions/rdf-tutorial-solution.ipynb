{
 "cells": [
  {
   "cell_type": "markdown",
   "metadata": {},
   "source": [
    "# Knowledge Representation on the Web -- RDF tutorial\n",
    "\n",
    "In this tutorial we'll learn the basics of interacting with RDF graphs with Python. We'll be using rdflib for this, a widely used Ptyhon library for RDF (all documentation can be found [here](https://rdflib.readthedocs.io/en/stable/index.html))"
   ]
  },
  {
   "cell_type": "markdown",
   "metadata": {},
   "source": [
    "## Imports\n",
    "These are the main classes and types we'll be using from rdflib"
   ]
  },
  {
   "cell_type": "code",
   "execution_count": 1,
   "metadata": {},
   "outputs": [],
   "source": [
    "import sys\n",
    "\n",
    "from rdflib import Graph, ConjunctiveGraph, Literal, BNode, Namespace, RDF, URIRef, RDFS\n",
    "from rdflib.namespace import DC, FOAF\n",
    "\n",
    "import pprint\n"
   ]
  },
  {
   "cell_type": "markdown",
   "metadata": {},
   "source": [
    "## Loading data remotely and from files\n",
    "\n",
    "rdflib accepts importing RDF data from a variety of sources, either locally from a file (including an extensive support of serializations), or remotely via a URI (this is a great way of checking practically if URIs return RDF according to the 3rd Linked Data principle).\n",
    "\n",
    "A Graph object is always required to load triples.\n",
    "**Note**: to load quads, and hence supporting named graphs, you'll need to use an instance of ConjunctiveGraph instead\n",
    "\n",
    "**Exercise 1** \n",
    "\n",
    "1. create two graphs using rdflib:\n",
    "    - and load one with triples from the site https://csarven.ca/ and/or http://www.w3.org/People/Berners-Lee/card \n",
    "    - load one with triples from ./data/ingredients.rdf. "
   ]
  },
  {
   "cell_type": "code",
   "execution_count": 2,
   "metadata": {},
   "outputs": [
    {
     "name": "stdout",
     "output_type": "stream",
     "text": [
      "Graph has 86 statements.\n",
      "Graph has 758 statements.\n",
      "Graph has 837 statements.\n"
     ]
    }
   ],
   "source": [
    "g = Graph()\n",
    "h = Graph()\n",
    "f = Graph()\n",
    "\n",
    "result = g.parse(\"http://www.w3.org/People/Berners-Lee/card\")\n",
    "\n",
    "result2 = h.parse(\"https://csarven.ca/\", format=\"n3\")\n",
    "\n",
    "result3 = f.parse(\"../data/ingredients.rdf\")\n",
    "\n",
    "print(\"Graph has %s statements.\" % len(g))\n",
    "print(\"Graph has %s statements.\" % len(h))\n",
    "print(\"Graph has %s statements.\" % len(f))"
   ]
  },
  {
   "cell_type": "markdown",
   "metadata": {},
   "source": [
    "## Serialising and saving RDF graphs\n",
    "\n",
    "There are different formats for storing RDF triples. Semantically, these mean the same, they differ only in their syntax. \n",
    "\n",
    "\n",
    "Use the function Graph.serialize(format). \n",
    "\n",
    "**Exercise 2**\n",
    "\n",
    "1. serialise one of the graphs to the .ttl, .xml and .nt format, and print the first n lines to compare the syntax\n",
    "1. save your graph in the turtle format to the ./data/ folder"
   ]
  },
  {
   "cell_type": "code",
   "execution_count": 3,
   "metadata": {},
   "outputs": [
    {
     "name": "stdout",
     "output_type": "stream",
     "text": [
      "@prefix : <http://xmlns.com/foaf/0.1/> .\n",
      "@prefix Be: <https://www.w3.org/People/Berners-Lee/> .\n",
      "@prefix Pub: <https://timbl.com/timbl/Public/> .\n",
      "@prefix blog: <http://dig.csail.mit.edu/breadcrumbs/blog/> .\n",
      "@prefix card: <https://www.w3.org/People/Berners-Lee/card#> .\n",
      "@prefix cc: <http://creativecommons.org/ns#> .\n",
      "@prefix cert: <http://www.w3.org/ns/auth/cert#> .\n",
      "@prefix con: <http://www.w3.org/2000/10/swap/pim/contact#> .\n",
      "@prefix dc: <http://purl.org/dc/elements/1.1/> .\n",
      "@prefix dct: <http://purl.org/dc/terms/> .\n",
      "@prefix doap: <http://usefulinc.com/ns/doap#> .\n",
      "@prefix geo1: <http://www.w3.org/2003/01/geo/wgs84_pos#> .\n",
      "@prefix ldp: <http://www.w3.org/ns/ldp#> .\n",
      "@prefix s: <http://www.w3.org/2000/01/rdf-schema#> .\n",
      "@prefix schema1: <http://schema.org/> .\n",
      "@prefix sioc: <http://rdfs.org/sioc/ns#> .\n",
      "@prefix solid: <http://www.w3.org/ns/solid/terms#> .\n",
      "@prefix space: <http://www.w3.org/ns/pim/space#> .\n",
      "@prefix vcard: <http://www.w3.org/2006/vcard/ns#> .\n",
      "@prefix w3c: <http://www.w3.org/data#> .\n",
      "@prefix xsd: <http://www.w3.org/2001/XMLSchema#> .\n",
      "\n",
      "<http://dig.csail.mit.edu/2005/ajar/ajaw/data#Tabulator> doap:developer card:i .\n",
      "\n",
      "<http://dig.csail.mit.edu/2007/01/camp/data#course> :maker card:i .\n",
      "\n",
      "<http://dig.csail.mit.edu/data#DIG> :member card:i .\n",
      "\n",
      "<http://wiki.ontoworld.org/index.php/_IRW2006> dc:title \"Identity, Reference and the Web workshop 2006\" ;\n",
      "    con:participant card:i .\n",
      "\n",
      "<http://www.ecs.soton.ac.uk/~dt2/dlstuff/www2006_data#panel-panelk01> s:label \"The Next Wave of the Web (Plenary Panel)\" ;\n",
      "    con:participant card:i .\n",
      "\n",
      "<http://www.w3.org/2000/10/swap/data#Cwm> doap:developer card:i .\n",
      "\n",
      "<http://www.w3.org/2011/Talks/0331-hyderabad-tbl/data#talk> dct:title \"Designing the Web for an Open Society\" ;\n",
      "    :maker card:i .\n",
      "\n",
      "w3c:W3C :member card:i .\n",
      "\n",
      "<https://www.w3.org/DesignIssues/Overview.html> dc:title \"Design Issues for the World Wide Web\" ;\n",
      "    :maker card:i .\n",
      "\n",
      "Be:card a :PersonalProfileDocument ;\n",
      "    cc:license <http://creativecommons.org/licenses/by-nc/3.0/> ;\n",
      "    dc:title \"Tim Berners-Lee's FOAF file\" ;\n",
      "    :maker card:i ;\n",
      "    :primaryTopic card:i .\n",
      "\n",
      "blog:4 dc:title \"timbl's blog on DIG\" ;\n",
      "    s:seeAlso <http://dig.csail.mit.edu/breadcrumbs/blog/feed/4> ;\n",
      "    :maker card:i .\n",
      "\n",
      "Pub:friends.ttl a :PersonalProfileDocument ;\n",
      "    cc:license <http://creativecommons.org/licenses/by-nc/3.0/> ;\n",
      "    dc:title \"Tim Berners-Lee's editable profile\" ;\n",
      "    :maker card:i ;\n",
      "    :primaryTopic card:i .\n",
      "\n",
      "card:i a con:Male,\n",
      "        :Person ;\n",
      "    s:label \"Tim Berners-Lee\" ;\n",
      "    sioc:avatar <https://www.w3.org/People/Berners-Lee/images/timbl-image-by-Coz-cropped.jpg> ;\n",
      "    schema1:owns <https://timblbot.inrupt.net/profile/card#me> ;\n",
      "    s:seeAlso Pub:friends.ttl ;\n",
      "    con:assistant card:amy ;\n",
      "    con:homePage Be: ;\n",
      "    con:office [ con:address [ con:city \"Cambridge\" ;\n",
      "                    con:country \"USA\" ;\n",
      "                    con:postalCode \"02139\" ;\n",
      "                    con:street \"32 Vassar Street\" ;\n",
      "                    con:street2 \"MIT CSAIL Building 32\" ] ;\n",
      "            geo1:location [ geo1:lat \"42.361860\" ;\n",
      "                    geo1:long \"-71.091840\" ] ] ;\n",
      "    con:preferredURI \"https://www.w3.org/People/Berners-Lee/card#i\" ;\n",
      "    con:publicHomePage Be: ;\n",
      "    vcard:fn \"Tim Berners-Lee\" ;\n",
      "    vcard:hasAddress [ a vcard:Work ;\n",
      "            vcard:locality \"Cambridge\" ;\n",
      "            vcard:postal-code \"02139\" ;\n",
      "            vcard:region \"MA\" ;\n",
      "            vcard:street-address \"32 Vassar Street\" ] ;\n",
      "    cert:key [ a cert:RSAPublicKey ;\n",
      "            cert:exponent 65537 ;\n",
      "            cert:modulus \"ebe99c737bd3670239600547e5e2eb1d1497da39947b6576c3c44ffeca32cf0f2f7cbee3c47001278a90fc7fc5bcf292f741eb1fcd6bbe7f90650afb519cf13e81b2bffc6e02063ee5a55781d420b1dfaf61c15758480e66d47fb0dcb5fa7b9f7f1052e5ccbd01beee9553c3b6b51f4daf1fce991294cd09a3d1d636bc6c7656e4455d0aff06daec740ed0084aa6866fcae1359de61cc12dbe37c8fa42e977c6e727a8258bb9a3f265b27e3766fe0697f6aa0bcc81c3f026e387bd7bbc81580dc1853af2daa099186a9f59da526474ef6ec0a3d84cf400be3261b6b649dea1f78184862d34d685d2d587f09acc14cd8e578fdd2283387821296f0af39b8d8845\"^^xsd:hexBinary ] ;\n",
      "    ldp:inbox Pub:Inbox ;\n",
      "    space:preferencesFile <https://timbl.com/timbl/Data/preferences.n3> ;\n",
      "    space:storage Pub:,\n",
      "        <https://timbl.inrupt.net/>,\n",
      "        <https://timbl.solid.community/> ;\n",
      "    solid:editableProfile Pub:friends.ttl ;\n",
      "    solid:oidcIssuer <https://timbl.com> ;\n",
      "    solid:profileBackgroundColor \"#ffffff\" ;\n",
      "    solid:profileHighlightColor \"#00467E\" ;\n",
      "    solid:publicTypeIndex Pub:PublicTypeIndex.ttl ;\n",
      "    :account <http://en.wikipedia.org/wiki/User:Timbl>,\n",
      "        <http://twitter.com/timberners_lee>,\n",
      "        <http://www.reddit.com/user/timbl/> ;\n",
      "    :based_near [ geo1:lat \"42.361860\" ;\n",
      "            geo1:long \"-71.091840\" ] ;\n",
      "    :family_name \"Berners-Lee\" ;\n",
      "    :givenname \"Timothy\" ;\n",
      "    :homepage Be: ;\n",
      "    :img <https://www.w3.org/Press/Stock/Berners-Lee/2001-europaeum-eighth.jpg> ;\n",
      "    :mbox <mailto:timbl@w3.org> ;\n",
      "    :mbox_sha1sum \"965c47c5a70db7407210cef6e4e6f5374a525c5c\" ;\n",
      "    :name \"Timothy Berners-Lee\" ;\n",
      "    :nick \"TimBL\",\n",
      "        \"timbl\" ;\n",
      "    :openid Be: ;\n",
      "    :title \"Sir\" ;\n",
      "    :weblog blog:4 ;\n",
      "    :workplaceHomepage <https://www.w3.org/> .\n",
      "\n",
      "\n"
     ]
    }
   ],
   "source": [
    "v = g.serialize(format=\"ttl\")\n",
    "\n",
    "print(v)"
   ]
  },
  {
   "cell_type": "code",
   "execution_count": 4,
   "metadata": {},
   "outputs": [
    {
     "name": "stdout",
     "output_type": "stream",
     "text": [
      "<?xml version=\"1.0\" encoding=\"utf-8\"?>\n",
      "<rdf:RDF\n",
      "   xmlns=\"http://xmlns.com/foaf/0.1/\"\n",
      "   xmlns:cc=\"http://creativecommons.org/ns#\"\n",
      "   xmlns:cert=\"http://www.w3.org/ns/auth/cert#\"\n",
      "   xmlns:con=\"http://www.w3.org/2000/10/swap/pim/contact#\"\n",
      "   xmlns:dc=\"http://purl.org/dc/elements/1.1/\"\n",
      "   xmlns:dct=\"http://purl.org/dc/terms/\"\n",
      "   xmlns:doap=\"http://usefulinc.com/ns/doap#\"\n",
      "   xmlns:geo1=\"http://www.w3.org/2003/01/geo/wgs84_pos#\"\n",
      "   xmlns:ldp=\"http://www.w3.org/ns/ldp#\"\n",
      "   xmlns:rdf=\"http://www.w3.org/1999/02/22-rdf-syntax-ns#\"\n",
      "   xmlns:s=\"http://www.w3.org/2000/01/rdf-schema#\"\n",
      "   xmlns:schema1=\"http://schema.org/\"\n",
      "   xmlns:sioc=\"http://rdfs.org/sioc/ns#\"\n",
      "   xmlns:solid=\"http://www.w3.org/ns/solid/terms#\"\n",
      "   xmlns:space=\"http://www.w3.org/ns/pim/space#\"\n",
      "   xmlns:vcard=\"http://www.w3.org/2006/vcard/ns#\"\n",
      ">\n",
      "  <rdf:Description rdf:about=\"https://www.w3.org/People/Berners-Lee/card#i\">\n",
      "    <cert:key rdf:nodeID=\"nc4875910efe94bd8a67379432a41cc6ab1\"/>\n",
      "    <rdf:type rdf:resource=\"http://www.w3.org/2000/10/swap/pim/contact#Male\"/>\n",
      "    <rdf:type rdf:resource=\"http://xmlns.com/foaf/0.1/Person\"/>\n",
      "    <sioc:avatar rdf:resource=\"https://www.w3.org/People/Berners-Lee/images/timbl-image-by-Coz-cropped.jpg\"/>\n",
      "    <schema1:owns rdf:resource=\"https://timblbot.inrupt.net/profile/card#me\"/>\n",
      "    <s:label>Tim Berners-Lee</s:label>\n",
      "    <s:seeAlso rdf:resource=\"https://timbl.com/timbl/Public/friends.ttl\"/>\n",
      "    <con:assistant rdf:resource=\"https://www.w3.org/People/Berners-Lee/card#amy\"/>\n",
      "    <con:homePage rdf:resource=\"https://www.w3.org/People/Berners-Lee/\"/>\n",
      "    <con:office rdf:nodeID=\"nc4875910efe94bd8a67379432a41cc6ab2\"/>\n",
      "    <con:preferredURI>https://www.w3.org/People/Berners-Lee/card#i</con:preferredURI>\n",
      "    <con:publicHomePage rdf:resource=\"https://www.w3.org/People/Berners-Lee/\"/>\n",
      "    <vcard:fn>Tim Berners-Lee</vcard:fn>\n",
      "    <vcard:hasAddress rdf:nodeID=\"nc4875910efe94bd8a67379432a41cc6ab5\"/>\n",
      "    <ldp:inbox rdf:resource=\"https://timbl.com/timbl/Public/Inbox\"/>\n",
      "    <space:preferencesFile rdf:resource=\"https://timbl.com/timbl/Data/preferences.n3\"/>\n",
      "    <space:storage rdf:resource=\"https://timbl.com/timbl/Public/\"/>\n",
      "    <space:storage rdf:resource=\"https://timbl.inrupt.net/\"/>\n",
      "    <space:storage rdf:resource=\"https://timbl.solid.community/\"/>\n",
      "    <solid:editableProfile rdf:resource=\"https://timbl.com/timbl/Public/friends.ttl\"/>\n",
      "    <solid:oidcIssuer rdf:resource=\"https://timbl.com\"/>\n",
      "    <solid:profileBackgroundColor>#ffffff</solid:profileBackgroundColor>\n",
      "    <solid:profileHighlightColor>#00467E</solid:profileHighlightColor>\n",
      "    <solid:publicTypeIndex rdf:resource=\"https://timbl.com/timbl/Public/PublicTypeIndex.ttl\"/>\n",
      "    <account rdf:resource=\"http://en.wikipedia.org/wiki/User:Timbl\"/>\n",
      "    <account rdf:resource=\"http://twitter.com/timberners_lee\"/>\n",
      "    <account rdf:resource=\"http://www.reddit.com/user/timbl/\"/>\n",
      "    <based_near rdf:nodeID=\"nc4875910efe94bd8a67379432a41cc6ab6\"/>\n",
      "    <family_name>Berners-Lee</family_name>\n",
      "    <givenname>Timothy</givenname>\n",
      "    <homepage rdf:resource=\"https://www.w3.org/People/Berners-Lee/\"/>\n",
      "    <img rdf:resource=\"https://www.w3.org/Press/Stock/Berners-Lee/2001-europaeum-eighth.jpg\"/>\n",
      "    <mbox rdf:resource=\"mailto:timbl@w3.org\"/>\n",
      "    <mbox_sha1sum>965c47c5a70db7407210cef6e4e6f5374a525c5c</mbox_sha1sum>\n",
      "    <name>Timothy Berners-Lee</name>\n",
      "    <nick>TimBL</nick>\n",
      "    <nick>timbl</nick>\n",
      "    <openid rdf:resource=\"https://www.w3.org/People/Berners-Lee/\"/>\n",
      "    <title>Sir</title>\n",
      "    <weblog rdf:resource=\"http://dig.csail.mit.edu/breadcrumbs/blog/4\"/>\n",
      "    <workplaceHomepage rdf:resource=\"https://www.w3.org/\"/>\n",
      "  </rdf:Description>\n",
      "  <rdf:Description rdf:nodeID=\"nc4875910efe94bd8a67379432a41cc6ab3\">\n",
      "    <con:city>Cambridge</con:city>\n",
      "    <con:country>USA</con:country>\n",
      "    <con:postalCode>02139</con:postalCode>\n",
      "    <con:street>32 Vassar Street</con:street>\n",
      "    <con:street2>MIT CSAIL Building 32</con:street2>\n",
      "  </rdf:Description>\n",
      "  <rdf:Description rdf:about=\"http://dig.csail.mit.edu/2007/01/camp/data#course\">\n",
      "    <maker rdf:resource=\"https://www.w3.org/People/Berners-Lee/card#i\"/>\n",
      "  </rdf:Description>\n",
      "  <rdf:Description rdf:about=\"https://timbl.com/timbl/Public/friends.ttl\">\n",
      "    <rdf:type rdf:resource=\"http://xmlns.com/foaf/0.1/PersonalProfileDocument\"/>\n",
      "    <cc:license rdf:resource=\"http://creativecommons.org/licenses/by-nc/3.0/\"/>\n",
      "    <dc:title>Tim Berners-Lee's editable profile</dc:title>\n",
      "    <maker rdf:resource=\"https://www.w3.org/People/Berners-Lee/card#i\"/>\n",
      "    <primaryTopic rdf:resource=\"https://www.w3.org/People/Berners-Lee/card#i\"/>\n",
      "  </rdf:Description>\n",
      "  <rdf:Description rdf:about=\"http://dig.csail.mit.edu/data#DIG\">\n",
      "    <member rdf:resource=\"https://www.w3.org/People/Berners-Lee/card#i\"/>\n",
      "  </rdf:Description>\n",
      "  <rdf:Description rdf:nodeID=\"nc4875910efe94bd8a67379432a41cc6ab4\">\n",
      "    <geo1:lat>42.361860</geo1:lat>\n",
      "    <geo1:long>-71.091840</geo1:long>\n",
      "  </rdf:Description>\n",
      "  <rdf:Description rdf:about=\"https://www.w3.org/DesignIssues/Overview.html\">\n",
      "    <dc:title>Design Issues for the World Wide Web</dc:title>\n",
      "    <maker rdf:resource=\"https://www.w3.org/People/Berners-Lee/card#i\"/>\n",
      "  </rdf:Description>\n",
      "  <rdf:Description rdf:about=\"https://www.w3.org/People/Berners-Lee/card\">\n",
      "    <rdf:type rdf:resource=\"http://xmlns.com/foaf/0.1/PersonalProfileDocument\"/>\n",
      "    <cc:license rdf:resource=\"http://creativecommons.org/licenses/by-nc/3.0/\"/>\n",
      "    <dc:title>Tim Berners-Lee's FOAF file</dc:title>\n",
      "    <maker rdf:resource=\"https://www.w3.org/People/Berners-Lee/card#i\"/>\n",
      "    <primaryTopic rdf:resource=\"https://www.w3.org/People/Berners-Lee/card#i\"/>\n",
      "  </rdf:Description>\n",
      "  <rdf:Description rdf:nodeID=\"nc4875910efe94bd8a67379432a41cc6ab1\">\n",
      "    <rdf:type rdf:resource=\"http://www.w3.org/ns/auth/cert#RSAPublicKey\"/>\n",
      "    <cert:exponent rdf:datatype=\"http://www.w3.org/2001/XMLSchema#integer\">65537</cert:exponent>\n",
      "    <cert:modulus rdf:datatype=\"http://www.w3.org/2001/XMLSchema#hexBinary\">ebe99c737bd3670239600547e5e2eb1d1497da39947b6576c3c44ffeca32cf0f2f7cbee3c47001278a90fc7fc5bcf292f741eb1fcd6bbe7f90650afb519cf13e81b2bffc6e02063ee5a55781d420b1dfaf61c15758480e66d47fb0dcb5fa7b9f7f1052e5ccbd01beee9553c3b6b51f4daf1fce991294cd09a3d1d636bc6c7656e4455d0aff06daec740ed0084aa6866fcae1359de61cc12dbe37c8fa42e977c6e727a8258bb9a3f265b27e3766fe0697f6aa0bcc81c3f026e387bd7bbc81580dc1853af2daa099186a9f59da526474ef6ec0a3d84cf400be3261b6b649dea1f78184862d34d685d2d587f09acc14cd8e578fdd2283387821296f0af39b8d8845</cert:modulus>\n",
      "  </rdf:Description>\n",
      "  <rdf:Description rdf:nodeID=\"nc4875910efe94bd8a67379432a41cc6ab6\">\n",
      "    <geo1:lat>42.361860</geo1:lat>\n",
      "    <geo1:long>-71.091840</geo1:long>\n",
      "  </rdf:Description>\n",
      "  <rdf:Description rdf:about=\"http://www.w3.org/data#W3C\">\n",
      "    <member rdf:resource=\"https://www.w3.org/People/Berners-Lee/card#i\"/>\n",
      "  </rdf:Description>\n",
      "  <rdf:Description rdf:about=\"http://wiki.ontoworld.org/index.php/_IRW2006\">\n",
      "    <dc:title>Identity, Reference and the Web workshop 2006</dc:title>\n",
      "    <con:participant rdf:resource=\"https://www.w3.org/People/Berners-Lee/card#i\"/>\n",
      "  </rdf:Description>\n",
      "  <rdf:Description rdf:about=\"http://dig.csail.mit.edu/breadcrumbs/blog/4\">\n",
      "    <dc:title>timbl's blog on DIG</dc:title>\n",
      "    <s:seeAlso rdf:resource=\"http://dig.csail.mit.edu/breadcrumbs/blog/feed/4\"/>\n",
      "    <maker rdf:resource=\"https://www.w3.org/People/Berners-Lee/card#i\"/>\n",
      "  </rdf:Description>\n",
      "  <rdf:Description rdf:nodeID=\"nc4875910efe94bd8a67379432a41cc6ab5\">\n",
      "    <rdf:type rdf:resource=\"http://www.w3.org/2006/vcard/ns#Work\"/>\n",
      "    <vcard:locality>Cambridge</vcard:locality>\n",
      "    <vcard:postal-code>02139</vcard:postal-code>\n",
      "    <vcard:region>MA</vcard:region>\n",
      "    <vcard:street-address>32 Vassar Street</vcard:street-address>\n",
      "  </rdf:Description>\n",
      "  <rdf:Description rdf:about=\"http://www.ecs.soton.ac.uk/~dt2/dlstuff/www2006_data#panel-panelk01\">\n",
      "    <s:label>The Next Wave of the Web (Plenary Panel)</s:label>\n",
      "    <con:participant rdf:resource=\"https://www.w3.org/People/Berners-Lee/card#i\"/>\n",
      "  </rdf:Description>\n",
      "  <rdf:Description rdf:about=\"http://www.w3.org/2011/Talks/0331-hyderabad-tbl/data#talk\">\n",
      "    <dct:title>Designing the Web for an Open Society</dct:title>\n",
      "    <maker rdf:resource=\"https://www.w3.org/People/Berners-Lee/card#i\"/>\n",
      "  </rdf:Description>\n",
      "  <rdf:Description rdf:nodeID=\"nc4875910efe94bd8a67379432a41cc6ab2\">\n",
      "    <con:address rdf:nodeID=\"nc4875910efe94bd8a67379432a41cc6ab3\"/>\n",
      "    <geo1:location rdf:nodeID=\"nc4875910efe94bd8a67379432a41cc6ab4\"/>\n",
      "  </rdf:Description>\n",
      "  <rdf:Description rdf:about=\"http://dig.csail.mit.edu/2005/ajar/ajaw/data#Tabulator\">\n",
      "    <doap:developer rdf:resource=\"https://www.w3.org/People/Berners-Lee/card#i\"/>\n",
      "  </rdf:Description>\n",
      "  <rdf:Description rdf:about=\"http://www.w3.org/2000/10/swap/data#Cwm\">\n",
      "    <doap:developer rdf:resource=\"https://www.w3.org/People/Berners-Lee/card#i\"/>\n",
      "  </rdf:Description>\n",
      "</rdf:RDF>\n",
      "\n"
     ]
    }
   ],
   "source": [
    "v = g.serialize(format=\"xml\")\n",
    "\n",
    "print(v)"
   ]
  },
  {
   "cell_type": "code",
   "execution_count": 5,
   "metadata": {},
   "outputs": [
    {
     "name": "stdout",
     "output_type": "stream",
     "text": [
      "<https://www.w3.org/People/Berners-Lee/card#i> <http://www.w3.org/2000/10/swap/pim/contact#assistant> <https://www.w3.org/People/Berners-Lee/card#amy> .\n",
      "_:nc4875910efe94bd8a67379432a41cc6ab3 <http://www.w3.org/2000/10/swap/pim/contact#street> \"32 Vassar Street\" .\n",
      "<http://dig.csail.mit.edu/2007/01/camp/data#course> <http://xmlns.com/foaf/0.1/maker> <https://www.w3.org/People/Berners-Lee/card#i> .\n",
      "<https://www.w3.org/People/Berners-Lee/card#i> <http://xmlns.com/foaf/0.1/based_near> _:nc4875910efe94bd8a67379432a41cc6ab6 .\n",
      "<https://www.w3.org/People/Berners-Lee/card#i> <http://www.w3.org/2000/01/rdf-schema#label> \"Tim Berners-Lee\" .\n",
      "<https://timbl.com/timbl/Public/friends.ttl> <http://xmlns.com/foaf/0.1/maker> <https://www.w3.org/People/Berners-Lee/card#i> .\n",
      "<https://www.w3.org/People/Berners-Lee/card#i> <http://www.w3.org/1999/02/22-rdf-syntax-ns#type> <http://www.w3.org/2000/10/swap/pim/contact#Male> .\n",
      "<http://dig.csail.mit.edu/data#DIG> <http://xmlns.com/foaf/0.1/member> <https://www.w3.org/People/Berners-Lee/card#i> .\n",
      "_:nc4875910efe94bd8a67379432a41cc6ab4 <http://www.w3.org/2003/01/geo/wgs84_pos#lat> \"42.361860\" .\n",
      "_:nc4875910efe94bd8a67379432a41cc6ab3 <http://www.w3.org/2000/10/swap/pim/contact#country> \"USA\" .\n",
      "<https://www.w3.org/DesignIssues/Overview.html> <http://xmlns.com/foaf/0.1/maker> <https://www.w3.org/People/Berners-Lee/card#i> .\n",
      "<https://timbl.com/timbl/Public/friends.ttl> <http://xmlns.com/foaf/0.1/primaryTopic> <https://www.w3.org/People/Berners-Lee/card#i> .\n",
      "<https://www.w3.org/People/Berners-Lee/card> <http://purl.org/dc/elements/1.1/title> \"Tim Berners-Lee's FOAF file\" .\n",
      "_:nc4875910efe94bd8a67379432a41cc6ab1 <http://www.w3.org/ns/auth/cert#exponent> \"65537\"^^<http://www.w3.org/2001/XMLSchema#integer> .\n",
      "<https://www.w3.org/People/Berners-Lee/card#i> <http://www.w3.org/ns/solid/terms#oidcIssuer> <https://timbl.com> .\n",
      "<https://www.w3.org/People/Berners-Lee/card#i> <http://xmlns.com/foaf/0.1/account> <http://www.reddit.com/user/timbl/> .\n",
      "_:nc4875910efe94bd8a67379432a41cc6ab6 <http://www.w3.org/2003/01/geo/wgs84_pos#long> \"-71.091840\" .\n",
      "_:nc4875910efe94bd8a67379432a41cc6ab6 <http://www.w3.org/2003/01/geo/wgs84_pos#lat> \"42.361860\" .\n",
      "<http://www.w3.org/data#W3C> <http://xmlns.com/foaf/0.1/member> <https://www.w3.org/People/Berners-Lee/card#i> .\n",
      "<https://www.w3.org/People/Berners-Lee/card> <http://creativecommons.org/ns#license> <http://creativecommons.org/licenses/by-nc/3.0/> .\n",
      "<https://www.w3.org/People/Berners-Lee/card#i> <http://xmlns.com/foaf/0.1/nick> \"timbl\" .\n",
      "<https://www.w3.org/People/Berners-Lee/card> <http://xmlns.com/foaf/0.1/maker> <https://www.w3.org/People/Berners-Lee/card#i> .\n",
      "<http://wiki.ontoworld.org/index.php/_IRW2006> <http://purl.org/dc/elements/1.1/title> \"Identity, Reference and the Web workshop 2006\" .\n",
      "<http://wiki.ontoworld.org/index.php/_IRW2006> <http://www.w3.org/2000/10/swap/pim/contact#participant> <https://www.w3.org/People/Berners-Lee/card#i> .\n",
      "<https://www.w3.org/People/Berners-Lee/card#i> <http://xmlns.com/foaf/0.1/homepage> <https://www.w3.org/People/Berners-Lee/> .\n",
      "<https://www.w3.org/People/Berners-Lee/card#i> <http://xmlns.com/foaf/0.1/name> \"Timothy Berners-Lee\" .\n",
      "<http://dig.csail.mit.edu/breadcrumbs/blog/4> <http://purl.org/dc/elements/1.1/title> \"timbl's blog on DIG\" .\n",
      "<https://www.w3.org/People/Berners-Lee/card#i> <http://www.w3.org/2000/01/rdf-schema#seeAlso> <https://timbl.com/timbl/Public/friends.ttl> .\n",
      "_:nc4875910efe94bd8a67379432a41cc6ab3 <http://www.w3.org/2000/10/swap/pim/contact#city> \"Cambridge\" .\n",
      "<https://www.w3.org/People/Berners-Lee/card#i> <http://xmlns.com/foaf/0.1/nick> \"TimBL\" .\n",
      "<https://www.w3.org/People/Berners-Lee/card#i> <http://www.w3.org/2000/10/swap/pim/contact#publicHomePage> <https://www.w3.org/People/Berners-Lee/> .\n",
      "<https://www.w3.org/People/Berners-Lee/card#i> <http://www.w3.org/ns/solid/terms#profileBackgroundColor> \"#ffffff\" .\n",
      "<https://www.w3.org/People/Berners-Lee/card#i> <http://xmlns.com/foaf/0.1/img> <https://www.w3.org/Press/Stock/Berners-Lee/2001-europaeum-eighth.jpg> .\n",
      "_:nc4875910efe94bd8a67379432a41cc6ab5 <http://www.w3.org/2006/vcard/ns#postal-code> \"02139\" .\n",
      "_:nc4875910efe94bd8a67379432a41cc6ab5 <http://www.w3.org/1999/02/22-rdf-syntax-ns#type> <http://www.w3.org/2006/vcard/ns#Work> .\n",
      "<https://www.w3.org/People/Berners-Lee/card#i> <http://xmlns.com/foaf/0.1/account> <http://en.wikipedia.org/wiki/User:Timbl> .\n",
      "<https://www.w3.org/People/Berners-Lee/card#i> <http://xmlns.com/foaf/0.1/family_name> \"Berners-Lee\" .\n",
      "<https://www.w3.org/People/Berners-Lee/card> <http://xmlns.com/foaf/0.1/primaryTopic> <https://www.w3.org/People/Berners-Lee/card#i> .\n",
      "<http://www.ecs.soton.ac.uk/~dt2/dlstuff/www2006_data#panel-panelk01> <http://www.w3.org/2000/01/rdf-schema#label> \"The Next Wave of the Web (Plenary Panel)\" .\n",
      "<http://www.w3.org/2011/Talks/0331-hyderabad-tbl/data#talk> <http://xmlns.com/foaf/0.1/maker> <https://www.w3.org/People/Berners-Lee/card#i> .\n",
      "<https://www.w3.org/People/Berners-Lee/card#i> <http://www.w3.org/ns/pim/space#preferencesFile> <https://timbl.com/timbl/Data/preferences.n3> .\n",
      "<http://dig.csail.mit.edu/breadcrumbs/blog/4> <http://xmlns.com/foaf/0.1/maker> <https://www.w3.org/People/Berners-Lee/card#i> .\n",
      "<https://www.w3.org/People/Berners-Lee/card#i> <http://www.w3.org/ns/solid/terms#editableProfile> <https://timbl.com/timbl/Public/friends.ttl> .\n",
      "<https://www.w3.org/People/Berners-Lee/card#i> <http://xmlns.com/foaf/0.1/weblog> <http://dig.csail.mit.edu/breadcrumbs/blog/4> .\n",
      "_:nc4875910efe94bd8a67379432a41cc6ab1 <http://www.w3.org/ns/auth/cert#modulus> \"ebe99c737bd3670239600547e5e2eb1d1497da39947b6576c3c44ffeca32cf0f2f7cbee3c47001278a90fc7fc5bcf292f741eb1fcd6bbe7f90650afb519cf13e81b2bffc6e02063ee5a55781d420b1dfaf61c15758480e66d47fb0dcb5fa7b9f7f1052e5ccbd01beee9553c3b6b51f4daf1fce991294cd09a3d1d636bc6c7656e4455d0aff06daec740ed0084aa6866fcae1359de61cc12dbe37c8fa42e977c6e727a8258bb9a3f265b27e3766fe0697f6aa0bcc81c3f026e387bd7bbc81580dc1853af2daa099186a9f59da526474ef6ec0a3d84cf400be3261b6b649dea1f78184862d34d685d2d587f09acc14cd8e578fdd2283387821296f0af39b8d8845\"^^<http://www.w3.org/2001/XMLSchema#hexBinary> .\n",
      "_:nc4875910efe94bd8a67379432a41cc6ab4 <http://www.w3.org/2003/01/geo/wgs84_pos#long> \"-71.091840\" .\n",
      "<https://www.w3.org/People/Berners-Lee/card#i> <http://www.w3.org/ns/pim/space#storage> <https://timbl.solid.community/> .\n",
      "<https://www.w3.org/People/Berners-Lee/card#i> <http://rdfs.org/sioc/ns#avatar> <https://www.w3.org/People/Berners-Lee/images/timbl-image-by-Coz-cropped.jpg> .\n",
      "<https://www.w3.org/People/Berners-Lee/card#i> <http://www.w3.org/ns/solid/terms#publicTypeIndex> <https://timbl.com/timbl/Public/PublicTypeIndex.ttl> .\n",
      "<https://timbl.com/timbl/Public/friends.ttl> <http://www.w3.org/1999/02/22-rdf-syntax-ns#type> <http://xmlns.com/foaf/0.1/PersonalProfileDocument> .\n",
      "<https://timbl.com/timbl/Public/friends.ttl> <http://creativecommons.org/ns#license> <http://creativecommons.org/licenses/by-nc/3.0/> .\n",
      "_:nc4875910efe94bd8a67379432a41cc6ab2 <http://www.w3.org/2000/10/swap/pim/contact#address> _:nc4875910efe94bd8a67379432a41cc6ab3 .\n",
      "<http://dig.csail.mit.edu/breadcrumbs/blog/4> <http://www.w3.org/2000/01/rdf-schema#seeAlso> <http://dig.csail.mit.edu/breadcrumbs/blog/feed/4> .\n",
      "<https://www.w3.org/People/Berners-Lee/card#i> <http://www.w3.org/ns/auth/cert#key> _:nc4875910efe94bd8a67379432a41cc6ab1 .\n",
      "<https://www.w3.org/People/Berners-Lee/card#i> <http://www.w3.org/2000/10/swap/pim/contact#preferredURI> \"https://www.w3.org/People/Berners-Lee/card#i\" .\n",
      "<https://www.w3.org/People/Berners-Lee/card#i> <http://xmlns.com/foaf/0.1/title> \"Sir\" .\n",
      "<https://timbl.com/timbl/Public/friends.ttl> <http://purl.org/dc/elements/1.1/title> \"Tim Berners-Lee's editable profile\" .\n",
      "<https://www.w3.org/People/Berners-Lee/card#i> <http://xmlns.com/foaf/0.1/account> <http://twitter.com/timberners_lee> .\n",
      "<https://www.w3.org/People/Berners-Lee/card#i> <http://www.w3.org/ns/ldp#inbox> <https://timbl.com/timbl/Public/Inbox> .\n",
      "<http://www.ecs.soton.ac.uk/~dt2/dlstuff/www2006_data#panel-panelk01> <http://www.w3.org/2000/10/swap/pim/contact#participant> <https://www.w3.org/People/Berners-Lee/card#i> .\n",
      "<https://www.w3.org/People/Berners-Lee/card#i> <http://www.w3.org/1999/02/22-rdf-syntax-ns#type> <http://xmlns.com/foaf/0.1/Person> .\n",
      "<https://www.w3.org/People/Berners-Lee/card#i> <http://xmlns.com/foaf/0.1/openid> <https://www.w3.org/People/Berners-Lee/> .\n",
      "<https://www.w3.org/People/Berners-Lee/card#i> <http://www.w3.org/2006/vcard/ns#fn> \"Tim Berners-Lee\" .\n",
      "<https://www.w3.org/People/Berners-Lee/card#i> <http://www.w3.org/2000/10/swap/pim/contact#office> _:nc4875910efe94bd8a67379432a41cc6ab2 .\n",
      "<https://www.w3.org/People/Berners-Lee/card> <http://www.w3.org/1999/02/22-rdf-syntax-ns#type> <http://xmlns.com/foaf/0.1/PersonalProfileDocument> .\n",
      "<https://www.w3.org/People/Berners-Lee/card#i> <http://xmlns.com/foaf/0.1/workplaceHomepage> <https://www.w3.org/> .\n",
      "_:nc4875910efe94bd8a67379432a41cc6ab1 <http://www.w3.org/1999/02/22-rdf-syntax-ns#type> <http://www.w3.org/ns/auth/cert#RSAPublicKey> .\n",
      "_:nc4875910efe94bd8a67379432a41cc6ab5 <http://www.w3.org/2006/vcard/ns#region> \"MA\" .\n",
      "_:nc4875910efe94bd8a67379432a41cc6ab3 <http://www.w3.org/2000/10/swap/pim/contact#street2> \"MIT CSAIL Building 32\" .\n",
      "<https://www.w3.org/People/Berners-Lee/card#i> <http://www.w3.org/ns/pim/space#storage> <https://timbl.inrupt.net/> .\n",
      "<http://www.w3.org/2011/Talks/0331-hyderabad-tbl/data#talk> <http://purl.org/dc/terms/title> \"Designing the Web for an Open Society\" .\n",
      "<https://www.w3.org/People/Berners-Lee/card#i> <http://www.w3.org/ns/solid/terms#profileHighlightColor> \"#00467E\" .\n",
      "<https://www.w3.org/DesignIssues/Overview.html> <http://purl.org/dc/elements/1.1/title> \"Design Issues for the World Wide Web\" .\n",
      "<https://www.w3.org/People/Berners-Lee/card#i> <http://xmlns.com/foaf/0.1/mbox_sha1sum> \"965c47c5a70db7407210cef6e4e6f5374a525c5c\" .\n",
      "_:nc4875910efe94bd8a67379432a41cc6ab3 <http://www.w3.org/2000/10/swap/pim/contact#postalCode> \"02139\" .\n",
      "_:nc4875910efe94bd8a67379432a41cc6ab5 <http://www.w3.org/2006/vcard/ns#street-address> \"32 Vassar Street\" .\n",
      "<https://www.w3.org/People/Berners-Lee/card#i> <http://www.w3.org/2000/10/swap/pim/contact#homePage> <https://www.w3.org/People/Berners-Lee/> .\n",
      "<https://www.w3.org/People/Berners-Lee/card#i> <http://xmlns.com/foaf/0.1/givenname> \"Timothy\" .\n",
      "<https://www.w3.org/People/Berners-Lee/card#i> <http://www.w3.org/2006/vcard/ns#hasAddress> _:nc4875910efe94bd8a67379432a41cc6ab5 .\n",
      "_:nc4875910efe94bd8a67379432a41cc6ab5 <http://www.w3.org/2006/vcard/ns#locality> \"Cambridge\" .\n",
      "<http://dig.csail.mit.edu/2005/ajar/ajaw/data#Tabulator> <http://usefulinc.com/ns/doap#developer> <https://www.w3.org/People/Berners-Lee/card#i> .\n",
      "<https://www.w3.org/People/Berners-Lee/card#i> <http://xmlns.com/foaf/0.1/mbox> <mailto:timbl@w3.org> .\n",
      "_:nc4875910efe94bd8a67379432a41cc6ab2 <http://www.w3.org/2003/01/geo/wgs84_pos#location> _:nc4875910efe94bd8a67379432a41cc6ab4 .\n",
      "<https://www.w3.org/People/Berners-Lee/card#i> <http://www.w3.org/ns/pim/space#storage> <https://timbl.com/timbl/Public/> .\n",
      "<https://www.w3.org/People/Berners-Lee/card#i> <http://schema.org/owns> <https://timblbot.inrupt.net/profile/card#me> .\n",
      "<http://www.w3.org/2000/10/swap/data#Cwm> <http://usefulinc.com/ns/doap#developer> <https://www.w3.org/People/Berners-Lee/card#i> .\n",
      "\n"
     ]
    }
   ],
   "source": [
    "v = g.serialize(format=\"nt\")\n",
    "\n",
    "print(v)"
   ]
  },
  {
   "cell_type": "markdown",
   "metadata": {},
   "source": [
    "##  Merging graphs\n",
    "\n",
    "Merging graphs can be done via sequential parsings or by the overloaded operator +\n",
    "\n",
    "**Note:** Set-theoretic graph semantics apply\n",
    "\n",
    "The Food knowledge graph FoodKG contains a graph of statements about ingredients, as well as a graph with statements about recipes. \n",
    "\n",
    "**Exercise 3**: \n",
    "\n",
    "1. load ./data/ingredients.rdf and ./data/ghostbusters.ttl into a single graph, either by sequential parsing or using the operator +.\n",
    "\n",
    "2. count the number of statements in each graph, and the intersection of the two graphs. \n",
    "\n",
    "3. check whether the combined graph is connected (using graph.connected()) \n",
    "\n",
    "4. load ./data/ingredients.rdf and ./data/recipes.rdf into a single graph, either by sequential parsing or using the operator +. \n",
    "\n",
    "5. count the number of statements in each graph, and the intersection of the two graphs. \n",
    "\n",
    "6. check whether the combined graph is connected (using graph.connected()). Explain the result with respect to point 3! "
   ]
  },
  {
   "cell_type": "code",
   "execution_count": 6,
   "metadata": {},
   "outputs": [
    {
     "name": "stdout",
     "output_type": "stream",
     "text": [
      "g1 has 837 triples\n",
      "g2 has 52337 triples\n",
      "g1 + g2 has 53174 triples\n",
      "len(g1) + len(g2) equals 53174\n",
      "g1 & g2 has 0 triples\n"
     ]
    }
   ],
   "source": [
    "g1 = Graph()\n",
    "g1.parse(\"../data/ingredients.rdf\")\n",
    "print(\"g1 has {} triples\".format(len(g1)))\n",
    "\n",
    "g2 = Graph()\n",
    "g2.parse(\"../data/ghostbusters.ttl\", format='ttl')\n",
    "print(\"g2 has {} triples\".format(len(g2)))\n",
    "\n",
    "union = g1 + g2\n",
    "print(\"g1 + g2 has {} triples\".format(len(union)))\n",
    "\n",
    "print(\"len(g1) + len(g2) equals {}\".format(len(g1)+len(g2)))\n",
    "\n",
    "intersection = g1 & g2\n",
    "print(\"g1 & g2 has {} triples\".format(len(intersection)))\n",
    "\n",
    "#print(\"is the graph connected? {}\".format(union.connected()))"
   ]
  },
  {
   "cell_type": "code",
   "execution_count": 7,
   "metadata": {},
   "outputs": [
    {
     "name": "stdout",
     "output_type": "stream",
     "text": [
      "g1 has 837 triples\n",
      "g2 has 480 triples\n",
      "g1 + g2 has 1299 triples\n",
      "len(g1) + len(g2) equals 1317\n",
      "g1 & g2 has 18 triples\n",
      "is the union connected? False\n"
     ]
    }
   ],
   "source": [
    "g1 = Graph()\n",
    "g1.parse(\"../data/ingredients.rdf\")\n",
    "print(\"g1 has {} triples\".format(len(g1)))\n",
    "\n",
    "g2 = Graph()\n",
    "g2.parse(\"../data/recipes.rdf\")\n",
    "print(\"g2 has {} triples\".format(len(g2)))\n",
    "\n",
    "union = g1 + g2\n",
    "print(\"g1 + g2 has {} triples\".format(len(union)))\n",
    "\n",
    "print(\"len(g1) + len(g2) equals {}\".format(len(g1)+len(g2)))\n",
    "\n",
    "intersection = g1 & g2\n",
    "print(\"g1 & g2 has {} triples\".format(len(intersection)))\n",
    "\n",
    "print(\"is the union connected? {}\".format(union.connected()))"
   ]
  },
  {
   "cell_type": "markdown",
   "metadata": {},
   "source": [
    "Both combined graphs are not fully connected, meaning that not all entities can be reached, starting traversal from one node in the graph. It might be interesting, however, to see how connected the ingredient + recipe graph is, how many times an ingredient is used in a recipe for instance. RDFlib doesn't provide this functionality, but we could do this using [networkx](https://derwen.ai/docs/kgl/ex6_0/):  "
   ]
  },
  {
   "cell_type": "code",
   "execution_count": 9,
   "metadata": {},
   "outputs": [
    {
     "data": {
      "text/plain": [
       "<kglab.kglab.KnowledgeGraph at 0x7effc3aa00d0>"
      ]
     },
     "execution_count": 9,
     "metadata": {},
     "output_type": "execute_result"
    }
   ],
   "source": [
    "import kglab\n",
    "import os\n",
    "\n",
    "namespaces = {\n",
    "    \"wtm\":  \"http://purl.org/heals/food/\",\n",
    "    \"ind\":  \"http://purl.org/heals/ingredient/\",\n",
    "    }\n",
    "\n",
    "kg = kglab.KnowledgeGraph(\n",
    "    name = \"A recipe KG example based on https://github.com/foodkg/foodkg.github.io.git\",\n",
    "    namespaces = namespaces,\n",
    "    )\n",
    "\n",
    "kg.load_rdf(\"../data/recipes.rdf\", format=\"xml\")\n",
    "kg.load_rdf(\"../data/ingredients.rdf\", format=\"xml\") "
   ]
  },
  {
   "cell_type": "code",
   "execution_count": 10,
   "metadata": {},
   "outputs": [],
   "source": [
    "import networkx as nx\n",
    "\n",
    "#here we extract the recipes and their ingredients\n",
    "sparql = \"\"\"\n",
    "    SELECT ?subject ?object\n",
    "    WHERE {\n",
    "        ?subject rdf:type wtm:Recipe .\n",
    "        ?subject wtm:hasIngredient ?object .\n",
    "    }\n",
    "    \"\"\"\n",
    "\n",
    "subgraph = kglab.SubgraphMatrix(kg, sparql)\n",
    "\n",
    "#from these, we create a digraph\n",
    "nx_graph = subgraph.build_nx_graph(nx.DiGraph(), bipartite=True)\n",
    "recipe_nodes, ingredient_nodes = nx.bipartite.sets(nx_graph)"
   ]
  },
  {
   "cell_type": "code",
   "execution_count": 11,
   "metadata": {},
   "outputs": [
    {
     "name": "stdout",
     "output_type": "stream",
     "text": [
      " 0.182 ind:Salt\n",
      " 0.102 ind:ChickenEgg\n",
      " 0.102 ind:WhiteSugar\n",
      " 0.091 ind:Butter\n",
      " 0.080 ind:AllPurposeFlour\n",
      " 0.080 ind:BlackPepper\n",
      " 0.080 ind:Onion\n",
      " 0.068 ind:Chicken\n",
      " 0.057 ind:BakingPowder\n",
      " 0.057 ind:VanillaExtract\n",
      " 0.057 ind:Potato\n",
      " 0.057 ind:CowMilk\n",
      " 0.045 ind:OliveOil\n",
      " 0.045 ind:BakingSoda\n",
      " 0.045 ind:BeefBouillon\n",
      " 0.045 ind:Carrot\n",
      " 0.045 ind:Water\n",
      " 0.034 ind:Banana\n",
      " 0.034 ind:BrownSugar\n",
      " 0.034 ind:Beef\n",
      " 0.034 ind:Celery\n",
      " 0.034 ind:Rosemary\n",
      " 0.034 ind:VegetableOil\n",
      " 0.034 ind:Basil\n",
      " 0.034 ind:KamutFlour\n",
      " 0.023 ind:Almond\n",
      " 0.023 ind:Garlic\n",
      " 0.023 ind:LemonJuice\n",
      " 0.023 ind:AlmondMeal\n",
      " 0.023 ind:Honey\n",
      " 0.023 ind:Walnut\n",
      " 0.023 ind:Cornstarch\n",
      " 0.023 ind:Thyme\n",
      " 0.023 ind:Tomato\n",
      " 0.023 ind:Coconut\n",
      " 0.023 ind:BakersYeast\n",
      " 0.011 ind:Tarragon\n",
      " 0.011 ind:WholeGrainMustard\n",
      " 0.011 ind:AppleCiderVinegar\n",
      " 0.011 ind:Blueberry\n",
      " 0.011 ind:BlackPeppercorn\n",
      " 0.011 ind:Cabbage\n",
      " 0.011 ind:ChayoteSquash\n",
      " 0.011 ind:Parsley\n",
      " 0.011 ind:BalsamicVinegar\n",
      " 0.011 ind:Oregano\n",
      " 0.011 ind:CocoaPowder\n",
      " 0.011 ind:DriedCranberry\n",
      " 0.011 ind:GreenOnion\n",
      " 0.011 ind:GreenPepper\n",
      " 0.011 ind:Mayonnaise\n",
      " 0.011 ind:Paprika\n",
      " 0.011 ind:Pecan\n",
      " 0.011 ind:CornedBeef\n",
      " 0.011 ind:CoconutMilk\n",
      " 0.011 ind:GlutenFreeFlour\n",
      " 0.011 ind:WhiteVinegar\n",
      " 0.011 ind:ChuckRoast\n",
      " 0.011 ind:Bacon\n",
      " 0.011 ind:Cheese\n",
      " 0.011 ind:ChickenBroth\n",
      " 0.011 ind:Cilantro\n",
      " 0.011 ind:SesameOil\n",
      " 0.011 ind:SoySauce\n",
      " 0.011 ind:CanolaOil\n",
      " 0.011 ind:Oat\n",
      " 0.011 ind:WholeWheatFlour\n"
     ]
    }
   ],
   "source": [
    "results = nx.degree_centrality(nx_graph)\n",
    "ind_rank = {}\n",
    "\n",
    "#we calculate degree centrality: how connected is each node? \n",
    "for node_id, rank in sorted(results.items(), key=lambda item: item[1], reverse=True):\n",
    "    if node_id in ingredient_nodes:\n",
    "        ind_rank[node_id] = rank\n",
    "        node = subgraph.inverse_transform(node_id)\n",
    "        label = subgraph.n3fy(node)\n",
    "        print(\"{:6.3f} {}\".format(rank, label))"
   ]
  },
  {
   "cell_type": "markdown",
   "metadata": {},
   "source": [
    "## Namespaces \n",
    "\n",
    "Remind yourself what namespaces are. \n",
    "\n",
    "In RDFLib, the namespace module defines many common namespaces such as RDF, RDFS, OWL, FOAF, SKOS, etc., but you can also easily add URIs within a different namespace:\n"
   ]
  },
  {
   "cell_type": "code",
   "execution_count": 12,
   "metadata": {},
   "outputs": [
    {
     "data": {
      "text/plain": [
       "rdflib.term.URIRef('http://linkedscience.org/teach/ns#Teacher')"
      ]
     },
     "execution_count": 12,
     "metadata": {},
     "output_type": "execute_result"
    }
   ],
   "source": [
    "TEACH = Namespace(\"http://linkedscience.org/teach/ns#\")\n",
    "TEACH.Teacher"
   ]
  },
  {
   "cell_type": "markdown",
   "metadata": {},
   "source": [
    "Check out the specification to see which other terms are used within the TEACH namespace. http://linkedscience.org/teach/ns/#sec-specification. \n",
    "You can use a NamespaceManager to bind a prefix to a namespace: "
   ]
  },
  {
   "cell_type": "code",
   "execution_count": 13,
   "metadata": {},
   "outputs": [],
   "source": [
    "g = Graph()\n",
    "g.namespace_manager.bind('TEACH', URIRef('http://linkedscience.org/teach/ns#'))"
   ]
  },
  {
   "cell_type": "code",
   "execution_count": 14,
   "metadata": {},
   "outputs": [
    {
     "data": {
      "text/plain": [
       "rdflib.term.URIRef('http://krw.vu.nl/data#Student')"
      ]
     },
     "execution_count": 14,
     "metadata": {},
     "output_type": "execute_result"
    }
   ],
   "source": [
    "KRW = Namespace(\"http://krw.vu.nl/data#\")\n",
    "\n",
    "#creating individuals within your namespace\n",
    "KRW.Teacher\n",
    "KRW.Student"
   ]
  },
  {
   "cell_type": "markdown",
   "metadata": {},
   "source": [
    "**Exercise 4:**\n",
    "1. create your own namespace (can be made up) "
   ]
  },
  {
   "cell_type": "markdown",
   "metadata": {},
   "source": [
    "\n",
    "## Creating RDF triples\n",
    "\n",
    "Triples are added to the graph with the function Graph.add()\n",
    "\n",
    "The parameter is a triple given in a Python **tuple** (subject, predicate, object)\n",
    "\n",
    "Notice the namespace convenience syntax!\n",
    "\n",
    "**Exercise 5:** \n",
    "\n",
    "1. create a new graph and add triples (~10) within your made-up namespace using Graph.add(). These triples can be about anything, for instance ingredients or recipes. Make sure they include the predicates RDF.type, RDFS.label and RDFS.subClassOf\n",
    "\n",
    "2. open yourRDF.ttl, and write your triples out by hand in a syntax of your choice (turtle is recommended, notice the file extension!). Load the triples here with rdflib. "
   ]
  },
  {
   "cell_type": "code",
   "execution_count": 15,
   "metadata": {},
   "outputs": [
    {
     "name": "stdout",
     "output_type": "stream",
     "text": [
      "https://example.org/whale\n",
      "https://example.org/Mammalia\n",
      "https://example.org/crocodile\n",
      "https://example.org/Amphibia\n"
     ]
    }
   ],
   "source": [
    "g = Graph()\n",
    "\n",
    "#example namespace\n",
    "EX = Namespace(\"https://example.org/\")\n",
    "\n",
    "# Add triples using store's add method.\n",
    "g.add( (EX.whale, RDF.type, EX.Mammalia) )\n",
    "g.add( (EX.whale, RDFS.label, Literal('whale'))) #in this example, the identifiers have human readable names, but these can also be arbitrary strings. rdfs:label makes these human-interpretable.  \n",
    "g.add( (EX.crocodile, RDF.type, EX.Amphibia) )\n",
    "g.add( (EX.Amphibia, RDFS.subClassOf, EX.Animalia) )\n",
    "\n",
    "#note that there is not one way to describe your domain! When do you define something as an instance or class?  \n",
    "\n",
    "# You can reuse matches of subjects to filter further e.g. objects\n",
    "for entity in g.subjects(RDF.type, None):\n",
    "    print(entity)\n",
    "    for objects in g.objects(entity, RDF.type):\n",
    "        print(objects)"
   ]
  },
  {
   "cell_type": "code",
   "execution_count": 16,
   "metadata": {},
   "outputs": [],
   "source": [
    "#save your ttl graph\n",
    "v = g.serialize(destination=\"myRDF.ttl\")\n",
    "\n",
    "\n"
   ]
  },
  {
   "cell_type": "code",
   "execution_count": 17,
   "metadata": {},
   "outputs": [
    {
     "name": "stdout",
     "output_type": "stream",
     "text": [
      "@prefix rdfs: <http://www.w3.org/2000/01/rdf-schema#> .\n",
      "\n",
      "<https://example.org/crocodile> a <https://example.org/Amphibia> .\n",
      "\n",
      "<https://example.org/whale> a <https://example.org/Mammalia> ;\n",
      "    rdfs:label \"whale\" .\n",
      "\n",
      "<https://example.org/Amphibia> rdfs:subClassOf <https://example.org/Animalia> .\n",
      "\n",
      "\n"
     ]
    }
   ],
   "source": [
    "#load it \n",
    "d = Graph()\n",
    "d.parse('myRDF.ttl')\n",
    "print(d.serialize(format='ttl'))"
   ]
  },
  {
   "cell_type": "markdown",
   "metadata": {},
   "source": [
    "## Navigating graphs\n",
    "\n",
    "rdflib uses iterators to navigate Graphs. The methods for navigating subjects, predicates and objects are Graph.subjects, Graph.predicates, Graph.objects\n",
    "\n",
    "**Exercise 6:**\n",
    "\n",
    "1. print all the triples in yourRDF.ttl\n",
    "2. print all subjects in yourRDF.ttl\n",
    "3. print all predicates in yourRDF.ttl\n",
    "4. print all objects in yourRDF.ttl\n"
   ]
  },
  {
   "cell_type": "code",
   "execution_count": 18,
   "metadata": {},
   "outputs": [
    {
     "name": "stdout",
     "output_type": "stream",
     "text": [
      "https://example.org/whale http://www.w3.org/2000/01/rdf-schema#label whale\n",
      "https://example.org/whale http://www.w3.org/1999/02/22-rdf-syntax-ns#type https://example.org/Mammalia\n",
      "https://example.org/crocodile http://www.w3.org/1999/02/22-rdf-syntax-ns#type https://example.org/Amphibia\n",
      "https://example.org/Amphibia http://www.w3.org/2000/01/rdf-schema#subClassOf https://example.org/Animalia\n"
     ]
    }
   ],
   "source": [
    "for s,p,o in g.triples( (None, None, None) ):\n",
    "    print(s,p,o)"
   ]
  },
  {
   "cell_type": "code",
   "execution_count": 19,
   "metadata": {},
   "outputs": [
    {
     "name": "stdout",
     "output_type": "stream",
     "text": [
      "https://example.org/whale\n",
      "https://example.org/whale\n",
      "https://example.org/crocodile\n",
      "https://example.org/Amphibia\n"
     ]
    }
   ],
   "source": [
    "for s in g.subjects():\n",
    "    print(s)"
   ]
  },
  {
   "cell_type": "code",
   "execution_count": 20,
   "metadata": {},
   "outputs": [
    {
     "name": "stdout",
     "output_type": "stream",
     "text": [
      "http://www.w3.org/2000/01/rdf-schema#label\n",
      "http://www.w3.org/1999/02/22-rdf-syntax-ns#type\n",
      "http://www.w3.org/1999/02/22-rdf-syntax-ns#type\n",
      "http://www.w3.org/2000/01/rdf-schema#subClassOf\n"
     ]
    }
   ],
   "source": [
    "for s in g.predicates():\n",
    "    print(s)"
   ]
  },
  {
   "cell_type": "code",
   "execution_count": 21,
   "metadata": {},
   "outputs": [
    {
     "name": "stdout",
     "output_type": "stream",
     "text": [
      "whale\n",
      "https://example.org/Mammalia\n",
      "https://example.org/Amphibia\n",
      "https://example.org/Animalia\n"
     ]
    }
   ],
   "source": [
    "for s in g.objects():\n",
    "    print(s)"
   ]
  },
  {
   "cell_type": "markdown",
   "metadata": {},
   "source": [
    "We can also filter the subjects, predicates and objects we want to retrieve, and match their values like in a database \"join\" operation\n",
    "\n",
    "\n",
    "**Exercise 7:**\n",
    "\n",
    "1. print all subject types in yourRDF.ttl\n",
    "2. print all subject labels yourRDF.ttl"
   ]
  },
  {
   "cell_type": "code",
   "execution_count": 22,
   "metadata": {},
   "outputs": [
    {
     "name": "stdout",
     "output_type": "stream",
     "text": [
      "https://example.org/Mammalia\n",
      "https://example.org/Amphibia\n"
     ]
    }
   ],
   "source": [
    "for s,p,o in g.triples( (None, RDF.type, None) ):\n",
    "    print(o)"
   ]
  },
  {
   "cell_type": "code",
   "execution_count": 23,
   "metadata": {},
   "outputs": [
    {
     "name": "stdout",
     "output_type": "stream",
     "text": [
      "whale\n"
     ]
    }
   ],
   "source": [
    "for s,p,o in g.triples( (None, RDFS.label, None) ):\n",
    "    print(o)"
   ]
  },
  {
   "cell_type": "markdown",
   "metadata": {},
   "source": [
    "### Basic triple matching (almost querying!)\n",
    "\n",
    "We use method Graph.triples and a Python tuple that acts as a mask for specifying our criteria\n",
    "\n",
    "**Exercise 8:**\n",
    "\n",
    "1. check whether a triple is in your graph -> print true or false\n",
    "2. print all triples related to a certain subject in your graph\n",
    "3. print all triples related to a certain object in your graph"
   ]
  },
  {
   "cell_type": "code",
   "execution_count": 24,
   "metadata": {},
   "outputs": [
    {
     "name": "stdout",
     "output_type": "stream",
     "text": [
      "False\n",
      "http://www.w3.org/1999/02/22-rdf-syntax-ns#type https://example.org/Mammalia\n",
      "http://www.w3.org/2000/01/rdf-schema#label whale\n",
      "https://example.org/whale http://www.w3.org/1999/02/22-rdf-syntax-ns#type\n"
     ]
    }
   ],
   "source": [
    "print((EX.whale, RDFS.subClassOf, EX.Amphibia) in g)\n",
    "    \n",
    "for s,p,o in g.triples( (EX.whale, None, None) ):\n",
    "    print(p,o)\n",
    "    \n",
    "for s,p,o in g.triples( (None, None, EX.Mammalia) ):\n",
    "    print(s,p)"
   ]
  },
  {
   "cell_type": "markdown",
   "metadata": {},
   "source": [
    "## Assignment part 1: your own webapplication. \n",
    "\n",
    "You are a chef in a restaurant, and you need to serve someone that is gluten intolerant. \n",
    "\n",
    "1. load the ./data/recipes.rdf and ./data/ingredients.rdf datasets in one graph\n",
    "2. query your graph (as we did in previous exercises) to retrieve all recipes without gluten\n",
    "3. query your graph for all recipes that you can make for your gluten intolerant guest. \n",
    "4. the guest asks you whether there are more options. Can you find the recipes for which an ingredient with gluten can be replaced, solely using pattern matching? (Hint: you need to write multiple of these pattern matching queries, and check the predicate __substitutesFor__) \n",
    "5. another guest is allergic to pecan nuts, which recipes could you serve them (including those for which pecan nuts can be replaced) "
   ]
  },
  {
   "cell_type": "code",
   "execution_count": 25,
   "metadata": {},
   "outputs": [
    {
     "name": "stdout",
     "output_type": "stream",
     "text": [
      "Graph has 1299 triples\n"
     ]
    }
   ],
   "source": [
    "food = Graph()\n",
    "\n",
    "# Sequential parsings merge *new* triples\n",
    "\n",
    "food.parse(\"../data/ingredients.rdf\")\n",
    "food.parse(\"../data/recipes.rdf\")\n",
    "\n",
    "print(\"Graph has {} triples\".format(len(food)))"
   ]
  },
  {
   "cell_type": "code",
   "execution_count": 26,
   "metadata": {},
   "outputs": [
    {
     "name": "stdout",
     "output_type": "stream",
     "text": [
      "All recipes with gluten:\n",
      "http://purl.org/heals/ingredient/AlmondBiscotti, containing: (http://purl.org/heals/ingredient/AllPurposeFlour)\n",
      "http://purl.org/heals/ingredient/BananaBread, containing: (http://purl.org/heals/ingredient/AllPurposeFlour)\n",
      "http://purl.org/heals/ingredient/Brownies, containing: (http://purl.org/heals/ingredient/AllPurposeFlour)\n",
      "http://purl.org/heals/ingredient/GoldenKamutBread, containing: (http://purl.org/heals/ingredient/AllPurposeFlour)\n",
      "http://purl.org/heals/ingredient/KamutMuffin, containing: (http://purl.org/heals/ingredient/AllPurposeFlour)\n",
      "http://purl.org/heals/ingredient/KamutPancake, containing: (http://purl.org/heals/ingredient/AllPurposeFlour)\n",
      "http://purl.org/heals/ingredient/WhiteBread, containing: (http://purl.org/heals/ingredient/AllPurposeFlour)\n",
      "http://purl.org/heals/ingredient/ThaiChicken, containing: (http://purl.org/heals/ingredient/ChickenBroth)\n",
      "http://purl.org/heals/ingredient/GoldenKamutBread, containing: (http://purl.org/heals/ingredient/KamutFlour)\n",
      "http://purl.org/heals/ingredient/KamutMuffin, containing: (http://purl.org/heals/ingredient/KamutFlour)\n",
      "http://purl.org/heals/ingredient/KamutPancake, containing: (http://purl.org/heals/ingredient/KamutFlour)\n",
      "http://purl.org/heals/ingredient/ChickenSalad, containing: (http://purl.org/heals/ingredient/Mayonnaise)\n",
      "http://purl.org/heals/ingredient/WholeGrainBananaPancake, containing: (http://purl.org/heals/ingredient/WholeWheatFlour)\n",
      "Glutenfree recipes:\n",
      "http://purl.org/heals/ingredient/BakedChickenTender\n",
      "http://purl.org/heals/ingredient/BananaBlueberryAlmondFlourMuffin\n",
      "http://purl.org/heals/ingredient/BeefNilaga\n",
      "http://purl.org/heals/ingredient/BeefStew\n",
      "http://purl.org/heals/ingredient/BraisedBalsamicChicken\n",
      "http://purl.org/heals/ingredient/CornedBeefHash\n",
      "http://purl.org/heals/ingredient/FlourlessCoconutAndAlmondCake\n",
      "http://purl.org/heals/ingredient/GlutenFreeCoconutCake\n",
      "http://purl.org/heals/ingredient/GrilledChickenKabob\n",
      "http://purl.org/heals/ingredient/PotRoastWithVegetables\n",
      "http://purl.org/heals/ingredient/SaucyShepherdPie\n",
      "http://purl.org/heals/ingredient/SmotheredChickenBreast\n"
     ]
    }
   ],
   "source": [
    "import rdflib\n",
    "WTM = Namespace(\"http://purl.org/heals/food/\")\n",
    "IND = Namespace(\"http://purl.org/heals/ingredient/\")\n",
    "\n",
    "#something to get you started: \n",
    "\n",
    "#first retrieve all ingredients: \n",
    "gl_rec = []\n",
    "print(\"All recipes with gluten:\") \n",
    "for s1,p1,o1 in food.triples( (None, WTM.hasGluten, None)):\n",
    "    if (bool(o1)):\n",
    "        for s2, p2, o2 in food.triples( (None, WTM.hasIngredient, s1)):\n",
    "            print(\"{}, containing: ({})\".format(s2,s1))\n",
    "            gl_rec.append(s2)\n",
    "            \n",
    "print(\"Glutenfree recipes:\")\n",
    "for s,p,o in food.triples((None, RDF.type, WTM.Recipe)):\n",
    "    if s not in gl_rec:\n",
    "        print(s)\n",
    "        \n",
    "#note that this is a bit tedious: later on, we will be querying more complicated patterns with SPARQL!\n",
    "\n",
    "\n",
    "\n"
   ]
  },
  {
   "attachments": {},
   "cell_type": "markdown",
   "metadata": {},
   "source": [
    "You can also do that by querying the boolean value of the object in the triple where hasGluten is predicate. Note that you have to fo it by first specifying it is a Literal and then a boolean"
   ]
  },
  {
   "cell_type": "code",
   "execution_count": 27,
   "metadata": {},
   "outputs": [
    {
     "name": "stdout",
     "output_type": "stream",
     "text": [
      "All recipes with gluten:\n",
      "http://purl.org/heals/ingredient/AlmondBiscotti, containing: (http://purl.org/heals/ingredient/AllPurposeFlour)\n",
      "http://purl.org/heals/ingredient/BananaBread, containing: (http://purl.org/heals/ingredient/AllPurposeFlour)\n",
      "http://purl.org/heals/ingredient/Brownies, containing: (http://purl.org/heals/ingredient/AllPurposeFlour)\n",
      "http://purl.org/heals/ingredient/GoldenKamutBread, containing: (http://purl.org/heals/ingredient/AllPurposeFlour)\n",
      "http://purl.org/heals/ingredient/KamutMuffin, containing: (http://purl.org/heals/ingredient/AllPurposeFlour)\n",
      "http://purl.org/heals/ingredient/KamutPancake, containing: (http://purl.org/heals/ingredient/AllPurposeFlour)\n",
      "http://purl.org/heals/ingredient/WhiteBread, containing: (http://purl.org/heals/ingredient/AllPurposeFlour)\n",
      "http://purl.org/heals/ingredient/ThaiChicken, containing: (http://purl.org/heals/ingredient/ChickenBroth)\n",
      "http://purl.org/heals/ingredient/GoldenKamutBread, containing: (http://purl.org/heals/ingredient/KamutFlour)\n",
      "http://purl.org/heals/ingredient/KamutMuffin, containing: (http://purl.org/heals/ingredient/KamutFlour)\n",
      "http://purl.org/heals/ingredient/KamutPancake, containing: (http://purl.org/heals/ingredient/KamutFlour)\n",
      "http://purl.org/heals/ingredient/ChickenSalad, containing: (http://purl.org/heals/ingredient/Mayonnaise)\n",
      "http://purl.org/heals/ingredient/WholeGrainBananaPancake, containing: (http://purl.org/heals/ingredient/WholeWheatFlour)\n",
      "Glutenfree recipes:\n",
      "http://purl.org/heals/ingredient/BakedChickenTender\n",
      "http://purl.org/heals/ingredient/BananaBlueberryAlmondFlourMuffin\n",
      "http://purl.org/heals/ingredient/BeefNilaga\n",
      "http://purl.org/heals/ingredient/BeefStew\n",
      "http://purl.org/heals/ingredient/BraisedBalsamicChicken\n",
      "http://purl.org/heals/ingredient/CornedBeefHash\n",
      "http://purl.org/heals/ingredient/FlourlessCoconutAndAlmondCake\n",
      "http://purl.org/heals/ingredient/GlutenFreeCoconutCake\n",
      "http://purl.org/heals/ingredient/GrilledChickenKabob\n",
      "http://purl.org/heals/ingredient/PotRoastWithVegetables\n",
      "http://purl.org/heals/ingredient/SaucyShepherdPie\n",
      "http://purl.org/heals/ingredient/SmotheredChickenBreast\n"
     ]
    }
   ],
   "source": [
    "#actually you can also check for the boolean in the loop like this \n",
    "gl_rec = []\n",
    "print(\"All recipes with gluten:\") \n",
    "for s1,p1,o1 in food.triples( (None, WTM.hasGluten,Literal(bool('true'))) ): #you have to do Literal and bool because it is stored as a literal in the KG\n",
    "    for s2, p2, o2 in food.triples( (None, WTM.hasIngredient, s1)):\n",
    "        print(\"{}, containing: ({})\".format(s2,s1))\n",
    "        gl_rec.append(s2)\n",
    "            \n",
    "print(\"Glutenfree recipes:\")\n",
    "for s,p,o in food.triples((None, RDF.type, WTM.Recipe)):\n",
    "    if s not in gl_rec:\n",
    "        print(s)"
   ]
  },
  {
   "attachments": {},
   "cell_type": "markdown",
   "metadata": {},
   "source": [
    "Note that you can also query for triples by specifying the Literal of the object. In that case you have to refer to how the entity has been labeled"
   ]
  },
  {
   "cell_type": "code",
   "execution_count": 28,
   "metadata": {},
   "outputs": [
    {
     "name": "stdout",
     "output_type": "stream",
     "text": [
      "http://purl.org/heals/ingredient/AlmondBiscotti, containing: (http://purl.org/heals/ingredient/Almond)\n",
      "http://purl.org/heals/ingredient/Almond, containing: (almond)\n",
      "http://purl.org/heals/ingredient/FlourlessCoconutAndAlmondCake, containing: (http://purl.org/heals/ingredient/Almond)\n",
      "http://purl.org/heals/ingredient/Almond, containing: (almond)\n",
      "Almond free recipes:\n",
      "http://purl.org/heals/ingredient/BakedChickenTender\n",
      "http://purl.org/heals/ingredient/BananaBlueberryAlmondFlourMuffin\n",
      "http://purl.org/heals/ingredient/BananaBread\n",
      "http://purl.org/heals/ingredient/BeefNilaga\n",
      "http://purl.org/heals/ingredient/BeefStew\n",
      "http://purl.org/heals/ingredient/BraisedBalsamicChicken\n",
      "http://purl.org/heals/ingredient/Brownies\n",
      "http://purl.org/heals/ingredient/ChickenSalad\n",
      "http://purl.org/heals/ingredient/CornedBeefHash\n",
      "http://purl.org/heals/ingredient/GlutenFreeCoconutCake\n",
      "http://purl.org/heals/ingredient/GoldenKamutBread\n",
      "http://purl.org/heals/ingredient/GrilledChickenKabob\n",
      "http://purl.org/heals/ingredient/KamutMuffin\n",
      "http://purl.org/heals/ingredient/KamutPancake\n",
      "http://purl.org/heals/ingredient/PotRoastWithVegetables\n",
      "http://purl.org/heals/ingredient/SaucyShepherdPie\n",
      "http://purl.org/heals/ingredient/SmotheredChickenBreast\n",
      "http://purl.org/heals/ingredient/ThaiChicken\n",
      "http://purl.org/heals/ingredient/WhiteBread\n",
      "http://purl.org/heals/ingredient/WholeGrainBananaPancake\n"
     ]
    }
   ],
   "source": [
    "#For instance check recipees with Almonds\n",
    "almonds_rec = []\n",
    "for s1,p1,o1 in food.triples( (None, None, Literal(\"almond\"))): #the literal should be the label given\n",
    "       for s2, p2, o2 in food.triples( (None, WTM.hasIngredient, s1)):\n",
    "        print(\"{}, containing: ({})\".format(s2,s1))\n",
    "        print(\"{}, containing: ({})\".format(s1,o1))\n",
    "        almonds_rec.append(s2)\n",
    "            \n",
    "print(\"Almond free recipes:\")\n",
    "for s,p,o in food.triples((None, RDF.type, WTM.Recipe)):\n",
    "     if s not in almonds_rec:\n",
    "         print(s)\n",
    "\n"
   ]
  },
  {
   "cell_type": "code",
   "execution_count": 32,
   "metadata": {},
   "outputs": [
    {
     "name": "stdout",
     "output_type": "stream",
     "text": [
      "All recipes with Pecan:\n",
      "http://purl.org/heals/ingredient/ChickenSalad\n",
      "Pecan free recipes:\n",
      "http://purl.org/heals/ingredient/AlmondBiscotti\n",
      "http://purl.org/heals/ingredient/BakedChickenTender\n",
      "http://purl.org/heals/ingredient/BananaBlueberryAlmondFlourMuffin\n",
      "http://purl.org/heals/ingredient/BananaBread\n",
      "http://purl.org/heals/ingredient/BeefNilaga\n",
      "http://purl.org/heals/ingredient/BeefStew\n",
      "http://purl.org/heals/ingredient/BraisedBalsamicChicken\n",
      "http://purl.org/heals/ingredient/Brownies\n",
      "http://purl.org/heals/ingredient/CornedBeefHash\n",
      "http://purl.org/heals/ingredient/FlourlessCoconutAndAlmondCake\n",
      "http://purl.org/heals/ingredient/GlutenFreeCoconutCake\n",
      "http://purl.org/heals/ingredient/GoldenKamutBread\n",
      "http://purl.org/heals/ingredient/GrilledChickenKabob\n",
      "http://purl.org/heals/ingredient/KamutMuffin\n",
      "http://purl.org/heals/ingredient/KamutPancake\n",
      "http://purl.org/heals/ingredient/PotRoastWithVegetables\n",
      "http://purl.org/heals/ingredient/SaucyShepherdPie\n",
      "http://purl.org/heals/ingredient/SmotheredChickenBreast\n",
      "http://purl.org/heals/ingredient/ThaiChicken\n",
      "http://purl.org/heals/ingredient/WhiteBread\n",
      "http://purl.org/heals/ingredient/WholeGrainBananaPancake\n"
     ]
    }
   ],
   "source": [
    "#Recipees with Pecan nuts\n",
    "pecan_rec = []\n",
    "print(\"All recipes with Pecan:\") \n",
    "#Recipees that directly have Pecan\n",
    "for s in food.subjects(WTM.hasIngredient, IND.Pecan):\n",
    "    pecan_rec.append(s)\n",
    "    print(s)\n",
    "\n",
    "print(\"Pecan free recipes:\")\n",
    "for s,p,o in food.triples((None, RDF.type, WTM.Recipe)):\n",
    "     if s not in pecan_rec:\n",
    "         print(s)\n",
    "\n",
    "        "
   ]
  }
 ],
 "metadata": {
  "kernelspec": {
   "display_name": "base",
   "language": "python",
   "name": "python3"
  },
  "language_info": {
   "codemirror_mode": {
    "name": "ipython",
    "version": 3
   },
   "file_extension": ".py",
   "mimetype": "text/x-python",
   "name": "python",
   "nbconvert_exporter": "python",
   "pygments_lexer": "ipython3",
   "version": "3.9.13"
  }
 },
 "nbformat": 4,
 "nbformat_minor": 4
}

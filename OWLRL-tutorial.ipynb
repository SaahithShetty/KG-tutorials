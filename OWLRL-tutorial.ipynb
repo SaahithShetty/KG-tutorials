{
  "cells": [
    {
      "cell_type": "code",
      "execution_count": null,
      "metadata": {
        "colab": {
          "base_uri": "https://localhost:8080/"
        },
        "id": "n17o6QLYTbqx",
        "outputId": "5b15c3c3-085e-4544-e35a-a7d3bf397b6f"
      },
      "outputs": [
        {
          "name": "stdout",
          "output_type": "stream",
          "text": [
            "Requirement already satisfied: rdflib in /usr/local/lib/python3.11/dist-packages (7.1.3)\n",
            "Requirement already satisfied: owlrl in /usr/local/lib/python3.11/dist-packages (7.1.3)\n",
            "Requirement already satisfied: pyparsing<4,>=2.1.0 in /usr/local/lib/python3.11/dist-packages (from rdflib) (3.2.1)\n"
          ]
        }
      ],
      "source": [
        "import sys\n",
        "!{sys.executable} -m pip install rdflib owlrl\n",
        "\n",
        "# utilities\n",
        "import pandas as pd\n",
        "\n",
        "# libraries to handle triples and graphs\n",
        "from rdflib import Graph, Namespace, URIRef, Literal, BNode\n",
        "from rdflib.namespace import RDFS, RDF, OWL\n",
        "\n",
        "# libraries to handle reasoning\n",
        "from owlrl import DeductiveClosure, OWLRL_Semantics"
      ]
    },
    {
      "cell_type": "markdown",
      "metadata": {
        "id": "dgsjg48qqb1l"
      },
      "source": [
        "# Loading Graphs"
      ]
    },
    {
      "cell_type": "code",
      "execution_count": null,
      "metadata": {
        "id": "cTNW9AHhfFZU"
      },
      "outputs": [],
      "source": [
        "# utility variable : list of namespaces that we will need for querying\n",
        "namespaces = {'rdf': RDF, 'rdfs' : RDFS, \"\": 'http://example.org/', 'owl': OWL}"
      ]
    },
    {
      "cell_type": "code",
      "execution_count": null,
      "metadata": {
        "id": "pnbeUbWhUGkP"
      },
      "outputs": [],
      "source": [
        "# initialise an empty graph\n",
        "myKnowledgeGraph = Graph()\n",
        "\n",
        "# parse a knowledge graph from a local file\n",
        "myKnowledgeGraph = Graph().parse(\"./data/kitchen-exercise.ttl\")"
      ]
    },
    {
      "cell_type": "markdown",
      "metadata": {
        "id": "V2HYgav_dxFh"
      },
      "source": [
        "Let's see how many triples the graph contains"
      ]
    },
    {
      "cell_type": "code",
      "execution_count": null,
      "metadata": {
        "colab": {
          "base_uri": "https://localhost:8080/"
        },
        "id": "2wvwK3gMTsBm",
        "outputId": "728c97aa-e06f-43eb-a048-8dc6837dc310"
      },
      "outputs": [
        {
          "name": "stdout",
          "output_type": "stream",
          "text": [
            "Graph has 211 statements.\n"
          ]
        }
      ],
      "source": [
        "print(\"Graph has %s statements.\" % len(myKnowledgeGraph))"
      ]
    },
    {
      "cell_type": "markdown",
      "metadata": {
        "id": "Vqh4JHJHeeis"
      },
      "source": [
        "Let's try adding and removing triples to see what changes in the graph."
      ]
    },
    {
      "cell_type": "code",
      "execution_count": null,
      "metadata": {
        "colab": {
          "base_uri": "https://localhost:8080/"
        },
        "id": "shUkWNdcebO1",
        "outputId": "f9c37392-cea7-4dcd-9de6-7da0441b8ee9"
      },
      "outputs": [
        {
          "name": "stdout",
          "output_type": "stream",
          "text": [
            "My Kitchen graph has now 212 triples.\n",
            "My Kitchen graph has now 211 triples.\n"
          ]
        }
      ],
      "source": [
        "# Adding triples\n",
        "myKnowledgeGraph.add((URIRef(\"http://example.org/bed2\"),RDF.type , URIRef(\"http://example.org/Bed\")))\n",
        "\n",
        "# print the length of the graph\n",
        "print(\"My Kitchen graph has now %d triples.\" % len(myKnowledgeGraph))\n",
        "\n",
        "#removing triples\n",
        "myKnowledgeGraph.remove((URIRef(\"http://example.org/bed2\"),RDF.type , URIRef(\"http://example.org/Bed\")))\n",
        "\n",
        "# print again the length of the graph\n",
        "print(\"My Kitchen graph has now %d triples.\" % len(myKnowledgeGraph))"
      ]
    },
    {
      "cell_type": "markdown",
      "metadata": {
        "id": "JsPCECQUqPel"
      },
      "source": [
        "# Querying with RDFlib (without reasoning)"
      ]
    },
    {
      "cell_type": "markdown",
      "metadata": {
        "id": "6nQ1zm-neY30"
      },
      "source": [
        "We can now query the graph we created. We start by asking which subjects are there in the graph."
      ]
    },
    {
      "cell_type": "code",
      "execution_count": null,
      "metadata": {
        "colab": {
          "base_uri": "https://localhost:8080/"
        },
        "id": "GLXPN0_pdeR9",
        "outputId": "614f571f-d09c-4813-f6fe-5998942a992e"
      },
      "outputs": [
        {
          "data": {
            "text/plain": [
              "[rdflib.term.URIRef('http://example.org/table2'),\n",
              " rdflib.term.URIRef('https://example.org/Box'),\n",
              " rdflib.term.URIRef('http://example.org/Wardrobe'),\n",
              " rdflib.term.URIRef('http://example.org/sink1'),\n",
              " rdflib.term.URIRef('http://example.org/room2'),\n",
              " rdflib.term.URIRef('http://example.org/wardrobe1'),\n",
              " rdflib.term.URIRef('http://example.org/room3'),\n",
              " rdflib.term.URIRef('http://example.org/sink1'),\n",
              " rdflib.term.URIRef('http://example.org/fridge1'),\n",
              " rdflib.term.URIRef('http://example.org/box1'),\n",
              " rdflib.term.URIRef('http://example.org/Object'),\n",
              " rdflib.term.URIRef('http://example.org/room1'),\n",
              " rdflib.term.URIRef('http://example.org/bookshelf1'),\n",
              " rdflib.term.URIRef('http://example.org/Bed'),\n",
              " rdflib.term.URIRef('http://example.org/bookshelf2'),\n",
              " rdflib.term.URIRef('http://example.org/bed1'),\n",
              " rdflib.term.URIRef('http://example.org/hasStatus'),\n",
              " rdflib.term.URIRef('http://example.org/Kitchen'),\n",
              " rdflib.term.URIRef('http://example.org/table4'),\n",
              " rdflib.term.URIRef('http://example.org/stove1'),\n",
              " rdflib.term.URIRef('http://example.org/hasLocation'),\n",
              " rdflib.term.URIRef('http://example.org/stove1'),\n",
              " rdflib.term.URIRef('http://example.org/Fridge'),\n",
              " rdflib.term.URIRef('http://example.org/wardrobe1'),\n",
              " rdflib.term.URIRef('http://example.org/box2'),\n",
              " rdflib.term.URIRef('http://example.org/hasGeometry'),\n",
              " rdflib.term.URIRef('http://example.org/Sink'),\n",
              " rdflib.term.URIRef('http://example.org/Wardrobe'),\n",
              " rdflib.term.URIRef('http://example.org/Table'),\n",
              " rdflib.term.URIRef('http://example.org/box3'),\n",
              " rdflib.term.URIRef('http://example.org/table1'),\n",
              " rdflib.term.URIRef('http://example.org/table2'),\n",
              " rdflib.term.URIRef('http://example.org/hasGeometry'),\n",
              " rdflib.term.URIRef('http://example.org/Kitchen'),\n",
              " rdflib.term.URIRef('http://example.org/door4'),\n",
              " rdflib.term.URIRef('http://example.org/room3'),\n",
              " rdflib.term.URIRef('http://example.org/box1'),\n",
              " rdflib.term.URIRef('http://example.org/box3'),\n",
              " rdflib.term.URIRef('http://example.org/Shelf'),\n",
              " rdflib.term.URIRef('http://example.org/room3'),\n",
              " rdflib.term.URIRef('http://example.org/room3'),\n",
              " rdflib.term.URIRef('http://example.org/door1'),\n",
              " rdflib.term.URIRef('http://example.org/room4'),\n",
              " rdflib.term.URIRef('http://example.org/Table'),\n",
              " rdflib.term.URIRef('http://example.org/room2'),\n",
              " rdflib.term.URIRef('http://example.org/door3'),\n",
              " rdflib.term.URIRef('http://example.org/stove1'),\n",
              " rdflib.term.URIRef('http://example.org/box2'),\n",
              " rdflib.term.URIRef('http://example.org/KitchenObject'),\n",
              " rdflib.term.URIRef('http://example.org/table3'),\n",
              " rdflib.term.URIRef('http://example.org/door3'),\n",
              " rdflib.term.URIRef('http://example.org/room2'),\n",
              " rdflib.term.URIRef('http://example.org/bookshelf1'),\n",
              " rdflib.term.URIRef('http://example.org/room1'),\n",
              " rdflib.term.URIRef('http://example.org/bookshelf3'),\n",
              " rdflib.term.URIRef('http://example.org/room2'),\n",
              " rdflib.term.URIRef('http://example.org/box1'),\n",
              " rdflib.term.URIRef('http://example.org/hasCoordinates'),\n",
              " rdflib.term.URIRef('http://example.org/LivingRoom'),\n",
              " rdflib.term.URIRef('http://example.org/Wardrobe'),\n",
              " rdflib.term.URIRef('http://example.org/bookshelf3'),\n",
              " rdflib.term.URIRef('http://example.org/Shelf'),\n",
              " rdflib.term.URIRef('http://example.org/table1'),\n",
              " rdflib.term.URIRef('http://example.org/room2'),\n",
              " rdflib.term.URIRef('http://example.org/room2'),\n",
              " rdflib.term.URIRef('http://example.org/door4'),\n",
              " rdflib.term.URIRef('http://example.org/box1'),\n",
              " rdflib.term.URIRef('http://example.org/bookshelf1'),\n",
              " rdflib.term.URIRef('http://example.org/table3'),\n",
              " rdflib.term.URIRef('http://example.org/bookshelf1'),\n",
              " rdflib.term.URIRef('http://example.org/Room'),\n",
              " rdflib.term.URIRef('http://example.org/table1'),\n",
              " rdflib.term.URIRef('http://example.org/bed1'),\n",
              " rdflib.term.URIRef('https://example.org/Box'),\n",
              " rdflib.term.URIRef('http://example.org/LivingRoom'),\n",
              " rdflib.term.URIRef('http://example.org/entrance'),\n",
              " rdflib.term.URIRef('http://example.org/box2'),\n",
              " rdflib.term.URIRef('http://example.org/wardrobe1'),\n",
              " rdflib.term.URIRef('http://example.org/Table'),\n",
              " rdflib.term.URIRef('http://example.org/table4'),\n",
              " rdflib.term.URIRef('http://example.org/bookshelf2'),\n",
              " rdflib.term.URIRef('http://example.org/bed1'),\n",
              " rdflib.term.URIRef('http://example.org/stove1'),\n",
              " rdflib.term.URIRef('http://example.org/entrance'),\n",
              " rdflib.term.URIRef('http://example.org/table4'),\n",
              " rdflib.term.URIRef('http://example.org/Door'),\n",
              " rdflib.term.URIRef('http://example.org/room4'),\n",
              " rdflib.term.URIRef('http://example.org/door2'),\n",
              " rdflib.term.URIRef('http://example.org/Bed'),\n",
              " rdflib.term.URIRef('http://example.org/box3'),\n",
              " rdflib.term.URIRef('http://example.org/entrance'),\n",
              " rdflib.term.URIRef('http://example.org/door2'),\n",
              " rdflib.term.URIRef('http://example.org/Sofa'),\n",
              " rdflib.term.URIRef('http://example.org/contains'),\n",
              " rdflib.term.URIRef('http://example.org/hasLocation'),\n",
              " rdflib.term.URIRef('http://example.org/Door'),\n",
              " rdflib.term.URIRef('http://example.org/contains'),\n",
              " rdflib.term.URIRef('http://example.org/hasStatus'),\n",
              " rdflib.term.URIRef('http://example.org/bed1'),\n",
              " rdflib.term.URIRef('http://example.org/bookshelf3'),\n",
              " rdflib.term.URIRef('http://example.org/BedRoom'),\n",
              " rdflib.term.URIRef('http://example.org/Stove'),\n",
              " rdflib.term.URIRef('http://example.org/hasCoordinates'),\n",
              " rdflib.term.URIRef('http://example.org/door3'),\n",
              " rdflib.term.URIRef('http://example.org/table1'),\n",
              " rdflib.term.URIRef('http://example.org/table2'),\n",
              " rdflib.term.URIRef('http://example.org/bookshelf1'),\n",
              " rdflib.term.URIRef('http://example.org/door1'),\n",
              " rdflib.term.URIRef('http://example.org/room4'),\n",
              " rdflib.term.URIRef('http://example.org/room1'),\n",
              " rdflib.term.URIRef('http://example.org/table2'),\n",
              " rdflib.term.URIRef('http://example.org/bookshelf2'),\n",
              " rdflib.term.URIRef('http://example.org/bookshelf2'),\n",
              " rdflib.term.URIRef('http://example.org/Chair'),\n",
              " rdflib.term.URIRef('http://example.org/room2'),\n",
              " rdflib.term.URIRef('http://example.org/Shelf'),\n",
              " rdflib.term.URIRef('http://example.org/bookshelf2'),\n",
              " rdflib.term.URIRef('http://example.org/contains'),\n",
              " rdflib.term.URIRef('http://example.org/door1'),\n",
              " rdflib.term.URIRef('http://example.org/BedRoom'),\n",
              " rdflib.term.URIRef('http://example.org/door4'),\n",
              " rdflib.term.URIRef('http://example.org/sink1'),\n",
              " rdflib.term.URIRef('http://example.org/Sink'),\n",
              " rdflib.term.URIRef('http://example.org/table2'),\n",
              " rdflib.term.URIRef('http://example.org/room1'),\n",
              " rdflib.term.URIRef('http://example.org/contains'),\n",
              " rdflib.term.URIRef('http://example.org/wardrobe1'),\n",
              " rdflib.term.URIRef('http://example.org/bookshelf3'),\n",
              " rdflib.term.URIRef('http://example.org/KitchenObject'),\n",
              " rdflib.term.URIRef('http://example.org/Sink'),\n",
              " rdflib.term.URIRef('http://example.org/Sofa'),\n",
              " rdflib.term.URIRef('http://example.org/sink1'),\n",
              " rdflib.term.URIRef('http://example.org/Stove'),\n",
              " rdflib.term.URIRef('http://example.org/bed1'),\n",
              " rdflib.term.URIRef('http://example.org/table4'),\n",
              " rdflib.term.URIRef('http://example.org/Room'),\n",
              " rdflib.term.URIRef('http://example.org/Kitchen'),\n",
              " rdflib.term.URIRef('http://example.org/box2'),\n",
              " rdflib.term.URIRef('http://example.org/door2'),\n",
              " rdflib.term.URIRef('http://example.org/Stove'),\n",
              " rdflib.term.URIRef('http://example.org/hasGeometry'),\n",
              " rdflib.term.URIRef('http://example.org/table3'),\n",
              " rdflib.term.URIRef('http://example.org/fridge1'),\n",
              " rdflib.term.URIRef('http://example.org/Chair'),\n",
              " rdflib.term.URIRef('http://example.org/Location'),\n",
              " rdflib.term.URIRef('http://example.org/Fridge'),\n",
              " rdflib.term.URIRef('http://example.org/wardrobe1'),\n",
              " rdflib.term.URIRef('http://example.org/Door'),\n",
              " rdflib.term.URIRef('http://example.org/fridge1'),\n",
              " rdflib.term.URIRef('http://example.org/fridge1'),\n",
              " rdflib.term.URIRef('http://example.org/Fridge'),\n",
              " rdflib.term.URIRef('http://example.org/table3'),\n",
              " rdflib.term.URIRef('http://example.org/Wardrobe'),\n",
              " rdflib.term.URIRef('http://example.org/box3'),\n",
              " rdflib.term.URIRef('http://example.org/table1'),\n",
              " rdflib.term.URIRef('http://example.org/room4'),\n",
              " rdflib.term.URIRef('http://example.org/table3')]"
            ]
          },
          "execution_count": 35,
          "metadata": {},
          "output_type": "execute_result"
        }
      ],
      "source": [
        "# this is equivalent to saying : for i in myKnowledgeGraph.subjects() : print i\n",
        "list(i for i in myKnowledgeGraph.subjects() if type(i) != BNode)"
      ]
    },
    {
      "cell_type": "markdown",
      "metadata": {
        "id": "E9AK0GvJM7gA"
      },
      "source": []
    },
    {
      "cell_type": "code",
      "execution_count": null,
      "metadata": {
        "colab": {
          "base_uri": "https://localhost:8080/"
        },
        "id": "7ooprECnMMsB",
        "outputId": "e1393439-fd17-4873-cde0-d543ada86ad2"
      },
      "outputs": [
        {
          "data": {
            "text/plain": [
              "[rdflib.term.URIRef('http://example.org/Bed'),\n",
              " rdflib.term.URIRef('http://example.org/BedRoom'),\n",
              " rdflib.term.URIRef('http://example.org/Chair'),\n",
              " rdflib.term.URIRef('http://example.org/Door'),\n",
              " rdflib.term.URIRef('http://example.org/Fridge'),\n",
              " rdflib.term.URIRef('http://example.org/Kitchen'),\n",
              " rdflib.term.URIRef('http://example.org/KitchenObject'),\n",
              " rdflib.term.URIRef('http://example.org/LivingRoom'),\n",
              " rdflib.term.URIRef('http://example.org/Location'),\n",
              " rdflib.term.URIRef('http://example.org/Object'),\n",
              " rdflib.term.URIRef('http://example.org/Room'),\n",
              " rdflib.term.URIRef('http://example.org/Shelf'),\n",
              " rdflib.term.URIRef('http://example.org/Sink'),\n",
              " rdflib.term.URIRef('http://example.org/Sofa'),\n",
              " rdflib.term.URIRef('http://example.org/Stove'),\n",
              " rdflib.term.URIRef('http://example.org/Table'),\n",
              " rdflib.term.URIRef('http://example.org/Wardrobe'),\n",
              " rdflib.term.URIRef('https://example.org/Box')]"
            ]
          },
          "execution_count": 44,
          "metadata": {},
          "output_type": "execute_result"
        }
      ],
      "source": [
        "sorted(list(kitchen_class for kitchen_class in myKnowledgeGraph.subjects(RDF.type, OWL.Class) if type(kitchen_class) != BNode))"
      ]
    },
    {
      "cell_type": "markdown",
      "metadata": {
        "id": "egQ28DkUiFbi"
      },
      "source": [
        "Let's ask whether 'door2' is closed.\n",
        "\n"
      ]
    },
    {
      "cell_type": "code",
      "execution_count": null,
      "metadata": {
        "colab": {
          "base_uri": "https://localhost:8080/"
        },
        "id": "IUnkTWFQjhlO",
        "outputId": "3129ae40-370a-4312-d31e-03ddb3f6109c"
      },
      "outputs": [
        {
          "name": "stdout",
          "output_type": "stream",
          "text": [
            "False\n"
          ]
        }
      ],
      "source": [
        "openDoor2 = myKnowledgeGraph.value(URIRef('http://example.org/door3'), URIRef(\"http://example.org/hasStatus\"))\n",
        "\n",
        "if openDoor2 == \"closed\":\n",
        "  print(True)\n",
        "else : print(False)"
      ]
    },
    {
      "cell_type": "markdown",
      "metadata": {
        "id": "BdbiE5qyijWM"
      },
      "source": [
        "We can update the status of a door and ask again if there is any door open."
      ]
    },
    {
      "cell_type": "code",
      "execution_count": null,
      "metadata": {
        "colab": {
          "base_uri": "https://localhost:8080/"
        },
        "id": "PAFNEt3bm0Q2",
        "outputId": "8ed2e395-d2fe-4da1-c301-a898162512ad"
      },
      "outputs": [
        {
          "name": "stdout",
          "output_type": "stream",
          "text": [
            "http://example.org/door2\n"
          ]
        }
      ],
      "source": [
        "# NB: you need to remove the old triple from the graph, and then add a new one. Else they will both be stored in the KG!\n",
        "myKnowledgeGraph.remove((URIRef(\"http://example.org/door2\"),URIRef('http://example.org/hasStatus') , Literal(\"open\")))\n",
        "myKnowledgeGraph.add((URIRef(\"http://example.org/door2\"),URIRef('http://example.org/hasStatus') , Literal(\"closed\")))\n",
        "\n",
        "\n",
        "# ask which doors are closed\n",
        "for s,p,o in myKnowledgeGraph.triples((None, URIRef(\"http://example.org/hasStatus\"), None )):\n",
        "  if o == Literal(\"closed\") : print(s)"
      ]
    },
    {
      "cell_type": "markdown",
      "metadata": {
        "id": "IS8egv9uqsZF"
      },
      "source": [
        "# Reasoning and querying"
      ]
    },
    {
      "cell_type": "markdown",
      "metadata": {
        "id": "Muh6AYcMjq4s"
      },
      "source": [
        "We can now start a reasoner and generate triples we did not know before."
      ]
    },
    {
      "cell_type": "code",
      "execution_count": null,
      "metadata": {
        "id": "XmLc_LYlq8Oh"
      },
      "outputs": [],
      "source": [
        "# initialise new graphs : asserted (triples stated in the ttl file), inferred (triples generated by the reasoner)\n",
        "asserted = Graph()\n",
        "inferred = Graph()\n",
        "\n",
        "asserted = asserted.parse(\"./data/kitchen-exercise.ttl\")\n",
        "DeductiveClosure(OWLRL_Semantics).expand(myKnowledgeGraph) # this function will run an OWL RL reasoner and expand the asserted KG with inferred triples\n",
        "# NB : the .expand() function will add the inferred triples to the original asserted graph. Thankfully, we saved a copy of the original asserted KG into the variable 'asserted'!\n",
        "\n",
        "# we can now check which are the inferred triples by substracting the expanded and original graph.\n",
        "inferred = myKnowledgeGraph - asserted"
      ]
    },
    {
      "cell_type": "markdown",
      "metadata": {
        "id": "gRSZF5KPk7Ms"
      },
      "source": [
        "Let's now check how many triples these graphs have."
      ]
    },
    {
      "cell_type": "code",
      "execution_count": null,
      "metadata": {
        "colab": {
          "base_uri": "https://localhost:8080/"
        },
        "id": "hQnhhaotzZ6P",
        "outputId": "fda4f413-e74b-4601-b40c-09404f319b32"
      },
      "outputs": [
        {
          "name": "stdout",
          "output_type": "stream",
          "text": [
            "asserted 211, inferred 589, total 737\n"
          ]
        }
      ],
      "source": [
        "print(\"asserted {}, inferred {}, total {}\".format(len(asserted), len(inferred),len(myKnowledgeGraph)))\n"
      ]
    },
    {
      "cell_type": "markdown",
      "metadata": {
        "id": "6YEC9HaBlgzD"
      },
      "source": [
        "Based on the restriction\n",
        "\n",
        "```\n",
        ":Kitchen owl:equivalentClass [ rdf:type owl:Restriction ;\n",
        "                               owl:onProperty :contains ;\n",
        "                               owl:someValuesFrom ( :Fridge :Sink :Stove )\n",
        "                              ]\n",
        "```\n",
        "we know that the class `Kitchen` should contain at least an element from the class `Fridge`, `Sink` or `Stove`.\n",
        "\n",
        "From the asserted triples, we know that `:room2` contains `:fridge1`, `:stove1` and `:sink1` .\n",
        "\n",
        "If the reasoner worked, we can ask the inferred graph whether `:room2` is a kitchen."
      ]
    },
    {
      "cell_type": "code",
      "execution_count": null,
      "metadata": {
        "colab": {
          "base_uri": "https://localhost:8080/"
        },
        "id": "64qyO-wHzgNy",
        "outputId": "dad35d43-130e-49dc-df81-49f3eda0ff10"
      },
      "outputs": [
        {
          "name": "stdout",
          "output_type": "stream",
          "text": [
            "http://example.org/room2 http://www.w3.org/1999/02/22-rdf-syntax-ns#type n625f8bf0e68249f69c578e9e6e87c91db10\n",
            "http://example.org/room2 http://www.w3.org/1999/02/22-rdf-syntax-ns#type http://example.org/Kitchen\n",
            "http://example.org/room2 http://www.w3.org/1999/02/22-rdf-syntax-ns#type http://example.org/Location\n",
            "http://example.org/room2 http://www.w3.org/1999/02/22-rdf-syntax-ns#type http://www.w3.org/2002/07/owl#Thing\n"
          ]
        }
      ],
      "source": [
        "EX = Namespace(\"http://example.org/\")\n",
        "\n",
        "# NB : EX['room2'] is now equivalent to URIRef(\"http://example.org/room2\")\n",
        "for s,p,o in inferred.triples((EX['room2'],RDF.type,None)):\n",
        "      print(s,p,o)"
      ]
    },
    {
      "cell_type": "markdown",
      "metadata": {
        "id": "ZT3hafnixxSe"
      },
      "source": [
        "Now compare with what the asserted graph knows about `:room2`.   "
      ]
    },
    {
      "cell_type": "code",
      "execution_count": null,
      "metadata": {
        "colab": {
          "base_uri": "https://localhost:8080/"
        },
        "id": "agtZYthLySu3",
        "outputId": "2a5cf789-61af-4f36-d932-d4783fb34924"
      },
      "outputs": [
        {
          "name": "stdout",
          "output_type": "stream",
          "text": [
            "http://example.org/room2 http://www.w3.org/1999/02/22-rdf-syntax-ns#type http://www.w3.org/2002/07/owl#NamedIndividual\n",
            "http://example.org/room2 http://www.w3.org/1999/02/22-rdf-syntax-ns#type http://example.org/Room\n"
          ]
        }
      ],
      "source": [
        "# NB : EX['room2'] is now equivalent to URIRef(\"http://example.org/room2\")\n",
        "for s,p,o in asserted.triples((EX['room2'],RDF.type,None)):\n",
        "      print(s,p,o)"
      ]
    },
    {
      "cell_type": "markdown",
      "metadata": {
        "id": "mT49rXAJymqX"
      },
      "source": [
        "The reasoner also reasons about object property contraints.\n",
        "\n",
        "For instance, we know that the property `:contains` is inverse of `:hasLocation`."
      ]
    },
    {
      "cell_type": "code",
      "execution_count": null,
      "metadata": {
        "id": "eQgoXFmwPA-f"
      },
      "outputs": [],
      "source": [
        "# select objects from room4\n",
        "for s,p,o in asserted.triples( (EX['room4'],EX['contains'],None)  ):\n",
        "  print (o)\n",
        "\n",
        "# Try replacing the triple pattern above with the triple (and remember to print the subject instead of the object)"
      ]
    },
    {
      "cell_type": "markdown",
      "metadata": {
        "id": "2Xg2SGJvzXqi"
      },
      "source": [
        "Nothing is known about `:room4` in the asserted graph. Hence the result is empty.\n",
        "\n",
        "Go check yourself in the `.ttl` file!\n",
        "\n"
      ]
    },
    {
      "cell_type": "code",
      "execution_count": null,
      "metadata": {
        "colab": {
          "base_uri": "https://localhost:8080/"
        },
        "id": "R1JzkxViJeAL",
        "outputId": "4fb2ebb0-d307-467f-deb1-321537b64701"
      },
      "outputs": [
        {
          "name": "stdout",
          "output_type": "stream",
          "text": [
            "http://example.org/bookshelf3\n",
            "http://example.org/box3\n",
            "http://example.org/box2\n",
            "http://example.org/table1\n",
            "http://example.org/table2\n"
          ]
        }
      ],
      "source": [
        "# compare with what is known about room4 in the inferred graph\n",
        "for s,p,o in inferred.triples( (EX['room4'],EX['contains'],None)  ):\n",
        "  print (o)\n",
        "\n",
        "# Now we have the right inference!"
      ]
    },
    {
      "cell_type": "markdown",
      "metadata": {
        "id": "psNvlyy0qjWs"
      },
      "source": [
        "# Exercises"
      ]
    },
    {
      "cell_type": "markdown",
      "metadata": {
        "id": "spToTIdKm7xl"
      },
      "source": [
        "**Exercise 1**\n",
        "\n",
        "Extend the taxonomy of Kitchen classes, with e.g. movable and non-movable classes\n",
        "\n",
        "- Create a new file .ttl and parse it in a new graph.\n",
        "\n",
        "- Query the new graph and check if your taxonomy was taken into account.\n",
        "\n",
        "\n"
      ]
    },
    {
      "cell_type": "code",
      "execution_count": null,
      "metadata": {
        "id": "2VecrW19nway"
      },
      "outputs": [],
      "source": [
        "# your code here"
      ]
    },
    {
      "cell_type": "markdown",
      "metadata": {
        "id": "R0LoQ0u6nbPR"
      },
      "source": [
        "**Exercise 2**\n",
        "\n",
        "Build a restriction for the living room or bedroom, similar to the one we have for the kitchen\n",
        "(i.e. a bedroom is a room that contains at least one bed, a livingroom has at least a sofa and a bookshelf)\n",
        "\n",
        "- Create a new file .ttl and parse it in a new graph.\n",
        "\n",
        "- Run the reasoner and check if your restriction was taken into account.\n",
        "\n",
        "- _harder variant_ : try using ```owl:minCardinality``` instead of ```owl:someValuesFrom``` ! Tip : you may need to create a new object property.\n",
        "\n"
      ]
    },
    {
      "cell_type": "code",
      "execution_count": null,
      "metadata": {
        "id": "RBFjkhiOnxYm"
      },
      "outputs": [],
      "source": [
        "# your code here"
      ]
    },
    {
      "cell_type": "markdown",
      "metadata": {
        "id": "vt59OCZnnxwN"
      },
      "source": [
        "**Exercise 3**\n",
        "\n",
        "Update the status of a door (from e.g. open to close) or the coordinates of an object.\n",
        "\n",
        "- Use the functions\n",
        "```\n",
        "graph.remove((UriRef(#subject),UriRef(#predicate ),UriRef( #object )))\n",
        "graph.add((UriRef(#subject),UriRef(#predicate ),UriRef( #object )) )\n",
        "```\n",
        "to remove the old triple and add a new one.\n",
        "\n",
        "\n",
        "\n",
        "- Save the graph using the function\n",
        "```graph.serialise()```\n",
        "\n",
        "- check with your favourite text editor if your KG has been updated!"
      ]
    },
    {
      "cell_type": "code",
      "execution_count": null,
      "metadata": {
        "id": "ViI8TcFLUlpM"
      },
      "outputs": [],
      "source": [
        "# your code here"
      ]
    }
  ],
  "metadata": {
    "colab": {
      "provenance": []
    },
    "kernelspec": {
      "display_name": "Python 3",
      "name": "python3"
    },
    "language_info": {
      "name": "python"
    }
  },
  "nbformat": 4,
  "nbformat_minor": 0
}
